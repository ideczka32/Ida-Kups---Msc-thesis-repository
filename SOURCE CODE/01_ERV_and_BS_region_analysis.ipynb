{
 "cells": [
  {
   "cell_type": "code",
   "execution_count": 1,
   "id": "42e84ff2-f101-4ff0-9792-157f754c3c0d",
   "metadata": {},
   "outputs": [],
   "source": [
    "import os\n",
    "import pandas as pd \n",
    "import numpy as np\n",
    "import matplotlib.pyplot as plt\n",
    "import re\n",
    "import seaborn as sns"
   ]
  },
  {
   "cell_type": "markdown",
   "id": "4ac07772-89b8-474f-a32d-a5858375d6d3",
   "metadata": {},
   "source": [
    "DNMT1"
   ]
  },
  {
   "cell_type": "markdown",
   "id": "8a58734a-6bf5-46da-98b8-a89076228818",
   "metadata": {},
   "source": [
    "LOAD DIFFERENTIALLY EXPRESSED GENES AND ERVS INTO DF"
   ]
  },
  {
   "cell_type": "code",
   "execution_count": 7,
   "id": "1ff1f0d3-c12e-4f73-a059-15c6c6b2ac50",
   "metadata": {},
   "outputs": [],
   "source": [
    "columns = ['gene_id', 'log2foldchange'] \n",
    "genes = pd.read_csv('DNMT1_genes_diff_expr.tsv', sep = '\\t', names = columns)\n",
    "ervs = pd.read_csv('DNMT1_ERV_diff_expr.tsv', sep = '\\t', names = columns)"
   ]
  },
  {
   "cell_type": "code",
   "execution_count": 8,
   "id": "6cd8f0e9-d92a-4134-a435-e1e4728ca198",
   "metadata": {},
   "outputs": [
    {
     "name": "stdout",
     "output_type": "stream",
     "text": [
      "  seqname          source      feature   start     end score strand frame  \\\n",
      "0       1  ensembl_havana         gene  685679  686673     .      -     .   \n",
      "1       1  ensembl_havana   transcript  685679  686673     .      -     .   \n",
      "2       1  ensembl_havana         exon  685679  686673     .      -     .   \n",
      "3       1  ensembl_havana          CDS  685719  686654     .      -     0   \n",
      "4       1  ensembl_havana  start_codon  686652  686654     .      -     0   \n",
      "\n",
      "                                           attribute  \n",
      "0  gene_id \"ENSG00000284662\"; gene_version \"1\"; g...  \n",
      "1  gene_id \"ENSG00000284662\"; gene_version \"1\"; t...  \n",
      "2  gene_id \"ENSG00000284662\"; gene_version \"1\"; t...  \n",
      "3  gene_id \"ENSG00000284662\"; gene_version \"1\"; t...  \n",
      "4  gene_id \"ENSG00000284662\"; gene_version \"1\"; t...  \n"
     ]
    }
   ],
   "source": [
    "columns = ['seqname', 'source', 'feature', 'start', 'end', 'score','strand','frame', 'attribute']\n",
    "\n",
    "ensembl_gtf = pd.read_csv('/work/iku/exp1019-cancer-epigenetics-and-ervs/reference/GRCh38-104/ensembl+geve/GRCh38-104.with_geve_v1.gtf', sep = '\\t', skiprows = 5, dtype = {0:'str', 7:'str'}, names = columns ) #tego typu 7 nie jestem pewna\n",
    "print(ensembl_gtf.head())"
   ]
  },
  {
   "cell_type": "code",
   "execution_count": 9,
   "id": "21db3330-ca32-48f6-8bf3-3dd9791d38cc",
   "metadata": {},
   "outputs": [],
   "source": [
    "def get_gene_id(df):\n",
    "    df = df.copy()\n",
    "    pattern = r'gene_id \"(.*?)\"'\n",
    "    df['gene_id'] = df['attribute'].str.extract(pattern)\n",
    "    return df "
   ]
  },
  {
   "cell_type": "code",
   "execution_count": 10,
   "id": "7274f60b-b8b1-4f4f-9094-4e1537ade017",
   "metadata": {},
   "outputs": [],
   "source": [
    "ensembl_gtf = get_gene_id(ensembl_gtf)\n"
   ]
  },
  {
   "cell_type": "code",
   "execution_count": 11,
   "id": "e89e1260-f164-40e3-b24a-34e34466ef99",
   "metadata": {},
   "outputs": [
    {
     "name": "stdout",
     "output_type": "stream",
     "text": [
      "    seqname source     feature      start        end score strand frame  \\\n",
      "0         1   geve  transcript  161432309  161432788     .      -     0   \n",
      "1         1   geve  transcript  174844047  174847295     .      -     0   \n",
      "2         1   geve  transcript  175103294  175103704     .      -     0   \n",
      "3         1   geve  transcript  175103876  175104337     .      -     0   \n",
      "4         1   geve  transcript  175104392  175105102     .      -     0   \n",
      "..      ...    ...         ...        ...        ...   ...    ...   ...   \n",
      "267       X   geve        exon  107052509  107054017     .      -     0   \n",
      "268       X   geve        exon   16180209   16180451     .      -     0   \n",
      "269       X   geve        exon   37483703   37484035     .      +     0   \n",
      "270       X   geve        exon    4542780    4543313     .      -     0   \n",
      "271       X   geve        exon    4894484    4895017     .      +     0   \n",
      "\n",
      "                                             attribute  \\\n",
      "0    gene_id \"Hsap38.chr1.161432309.161432788.-\"; t...   \n",
      "1    gene_id \"Hsap38.chr1.174844047.174847295.-\"; t...   \n",
      "2    gene_id \"Hsap38.chr1.175103294.175103704.-\"; t...   \n",
      "3    gene_id \"Hsap38.chr1.175103876.175104337.-\"; t...   \n",
      "4    gene_id \"Hsap38.chr1.175104392.175105102.-\"; t...   \n",
      "..                                                 ...   \n",
      "267  gene_id \"Hsap38.chrX.107052509.107054017.-\"; t...   \n",
      "268  gene_id \"Hsap38.chrX.16180209.16180451.-\"; tra...   \n",
      "269  gene_id \"Hsap38.chrX.37483703.37484035.+\"; tra...   \n",
      "270  gene_id \"Hsap38.chrX.4542780.4543313.-\"; trans...   \n",
      "271  gene_id \"Hsap38.chrX.4894484.4895017.+\"; trans...   \n",
      "\n",
      "                               gene_id  log2foldchange  \n",
      "0    Hsap38.chr1.161432309.161432788.-        2.295875  \n",
      "1    Hsap38.chr1.174844047.174847295.-       -1.967106  \n",
      "2    Hsap38.chr1.175103294.175103704.-        2.173519  \n",
      "3    Hsap38.chr1.175103876.175104337.-        1.878600  \n",
      "4    Hsap38.chr1.175104392.175105102.-        2.046811  \n",
      "..                                 ...             ...  \n",
      "267  Hsap38.chrX.107052509.107054017.-       -2.341143  \n",
      "268    Hsap38.chrX.16180209.16180451.-        5.308025  \n",
      "269    Hsap38.chrX.37483703.37484035.+        3.813578  \n",
      "270      Hsap38.chrX.4542780.4543313.-        6.086370  \n",
      "271      Hsap38.chrX.4894484.4895017.+        4.742436  \n",
      "\n",
      "[272 rows x 11 columns]\n"
     ]
    }
   ],
   "source": [
    "merged_genes = pd.merge(ensembl_gtf, genes, on = ['gene_id'])\n",
    "merged_ervs = pd.merge(ensembl_gtf, ervs, on = ['gene_id'])\n",
    "print(merged_ervs)"
   ]
  },
  {
   "cell_type": "code",
   "execution_count": 12,
   "id": "d221865f-39ff-4426-b3b7-88b2148738e2",
   "metadata": {},
   "outputs": [],
   "source": [
    "#print(merged_genes.columns)\n",
    "#print(merged_genes)"
   ]
  },
  {
   "cell_type": "code",
   "execution_count": 13,
   "id": "378c3218-63cc-44fd-8778-cbd208632ea1",
   "metadata": {},
   "outputs": [],
   "source": [
    "merged_genes_small = merged_genes[['seqname','start','end','log2foldchange']]\n",
    "merged_ervs_small = merged_ervs[['seqname','start','end','log2foldchange']]"
   ]
  },
  {
   "cell_type": "code",
   "execution_count": 14,
   "id": "51b1e8ff-a57a-4057-af3d-a5dc1135729e",
   "metadata": {},
   "outputs": [
    {
     "name": "stderr",
     "output_type": "stream",
     "text": [
      "/tmp/ipykernel_1510398/1621773833.py:1: SettingWithCopyWarning: \n",
      "A value is trying to be set on a copy of a slice from a DataFrame.\n",
      "Try using .loc[row_indexer,col_indexer] = value instead\n",
      "\n",
      "See the caveats in the documentation: https://pandas.pydata.org/pandas-docs/stable/user_guide/indexing.html#returning-a-view-versus-a-copy\n",
      "  merged_genes_small['expr'] = merged_genes_small['log2foldchange'].apply(lambda x: 50 if x > 0 else -50)\n",
      "/tmp/ipykernel_1510398/1621773833.py:2: SettingWithCopyWarning: \n",
      "A value is trying to be set on a copy of a slice from a DataFrame.\n",
      "Try using .loc[row_indexer,col_indexer] = value instead\n",
      "\n",
      "See the caveats in the documentation: https://pandas.pydata.org/pandas-docs/stable/user_guide/indexing.html#returning-a-view-versus-a-copy\n",
      "  merged_ervs_small['expr'] = merged_ervs_small['log2foldchange'].apply(lambda x: 50 if x > 0 else -50)\n"
     ]
    }
   ],
   "source": [
    "merged_genes_small['expr'] = merged_genes_small['log2foldchange'].apply(lambda x: 50 if x > 0 else -50)\n",
    "merged_ervs_small['expr'] = merged_ervs_small['log2foldchange'].apply(lambda x: 50 if x > 0 else -50)\n"
   ]
  },
  {
   "cell_type": "code",
   "execution_count": 15,
   "id": "4df8a7b8-1f7f-413d-a498-56b1b7a9248e",
   "metadata": {},
   "outputs": [
    {
     "name": "stdout",
     "output_type": "stream",
     "text": [
      "           seqname   start     end  log2foldchange  expr\n",
      "0                1  634376  634922        1.245197    50\n",
      "1                1  634376  634922        1.245197    50\n",
      "2                1  634376  634922        1.245197    50\n",
      "3                1  629640  630683        0.809961    50\n",
      "4                1  629640  630683        0.809961    50\n",
      "...            ...     ...     ...             ...   ...\n",
      "797299  GL000219.1   54224   54226        1.375220    50\n",
      "797300  KI270734.1   59711   60316       -5.844765   -50\n",
      "797301  KI270734.1   59711   60316       -5.844765   -50\n",
      "797302  KI270734.1   59711   60178       -5.844765   -50\n",
      "797303  KI270734.1   60182   60316       -5.844765   -50\n",
      "\n",
      "[797304 rows x 5 columns]\n"
     ]
    }
   ],
   "source": [
    "print(merged_genes_small)\n"
   ]
  },
  {
   "cell_type": "code",
   "execution_count": 16,
   "id": "4d0ec701-f2bc-453d-8bb5-7ce9562bf7b7",
   "metadata": {},
   "outputs": [],
   "source": [
    "# Filter rows based on seqname\n",
    "merged_genes_small = merged_genes_small[merged_genes_small['seqname'].str[0].str.isdigit() |\n",
    "                                                  (merged_genes_small['seqname'].str[0] == 'X') |\n",
    "                                                  (merged_genes_small['seqname'].str[0] == 'Y')]\n",
    "merged_genes_small = merged_genes_small.drop_duplicates()\n",
    "merged_genes_small.drop(columns = ['log2foldchange'], inplace = True)"
   ]
  },
  {
   "cell_type": "code",
   "execution_count": 17,
   "id": "0404c22d-dd92-45b2-84b0-fddd9424cb93",
   "metadata": {},
   "outputs": [],
   "source": [
    "merged_ervs_small = merged_ervs_small[merged_ervs_small['seqname'].str[0].str.isdigit() |\n",
    "                                                  (merged_ervs_small['seqname'].str[0] == 'X') |\n",
    "                                                  (merged_ervs_small['seqname'].str[0] == 'Y')]\n",
    "merged_ervs_small = merged_ervs_small.drop_duplicates()\n",
    "#merged_ervs_small.drop(columns = ['log2foldchange'], inplace = True)"
   ]
  },
  {
   "cell_type": "code",
   "execution_count": 18,
   "id": "90794c1b-380a-4399-a975-dc0157d1b3a7",
   "metadata": {},
   "outputs": [
    {
     "name": "stdout",
     "output_type": "stream",
     "text": [
      "       seqname     start       end  expr\n",
      "0            1    634376    634922    50\n",
      "3            1    629640    630683    50\n",
      "6            1   3487951   3611508    50\n",
      "7            1   3489920   3531448    50\n",
      "8            1   3531080   3531448    50\n",
      "...        ...       ...       ...   ...\n",
      "797116      21  15875996  15877991   -50\n",
      "797119      21  15729982  15730438   -50\n",
      "797170      21  15878303  15880064   -50\n",
      "797173      21  15729982  15730393   -50\n",
      "797174      21  15878476  15880064   -50\n",
      "\n",
      "[257093 rows x 4 columns]\n"
     ]
    }
   ],
   "source": [
    "print(merged_genes_small)"
   ]
  },
  {
   "cell_type": "code",
   "execution_count": 19,
   "id": "4426d25d-f6f4-4f90-8ade-274bc6c90ed7",
   "metadata": {},
   "outputs": [],
   "source": [
    "#merged_genes_small['seqname'] = merged_genes_small['seqname'].astype(int)\n",
    "merged_genes_small = merged_genes_small.sort_values(by=['seqname', 'start'])"
   ]
  },
  {
   "cell_type": "code",
   "execution_count": 20,
   "id": "4cdbf360-0ba4-455d-bbfa-7d931efb4074",
   "metadata": {},
   "outputs": [],
   "source": [
    "#merged_genes_small['seqname'] = merged_genes_small['seqname'].astype(int)\n",
    "merged_ervs_small = merged_ervs_small.sort_values(by=['seqname', 'start'])"
   ]
  },
  {
   "cell_type": "code",
   "execution_count": null,
   "id": "3bc12fa2-d2ed-4654-9537-a8c65a7c7a48",
   "metadata": {},
   "outputs": [],
   "source": []
  },
  {
   "cell_type": "markdown",
   "id": "5252735f-5479-4760-84cc-a9d53477eb83",
   "metadata": {},
   "source": [
    "SAVE DATA TO BEDFILE"
   ]
  },
  {
   "cell_type": "code",
   "execution_count": 21,
   "id": "b91376cd-5012-4f34-bcc4-39378600b5ff",
   "metadata": {},
   "outputs": [],
   "source": [
    "output_bedgraph_file = \"diffexpr_genes.bedgraph\"\n",
    "merged_genes_small.to_csv(output_bedgraph_file, sep=\"\\t\", header=False, index=False)"
   ]
  },
  {
   "cell_type": "code",
   "execution_count": 22,
   "id": "5086d3e0-cfa4-46a2-863f-47c77cd49f6c",
   "metadata": {},
   "outputs": [],
   "source": [
    "output_bedgraph_file = \"diffexpr_ervs.bedgraph\"\n",
    "merged_ervs_small.to_csv(output_bedgraph_file, sep=\"\\t\", header=False, index=False)"
   ]
  },
  {
   "cell_type": "markdown",
   "id": "4575cf22-b8f3-4962-b176-cbccfc84c7b5",
   "metadata": {},
   "source": [
    "MAKE THE DISTANCE MATRIX OF THE DISTANCE TO THE CLOSEST UPREGULATED GENES"
   ]
  },
  {
   "cell_type": "code",
   "execution_count": 23,
   "id": "9afb468d-f424-4ae7-9c88-be3fbb4343d4",
   "metadata": {},
   "outputs": [],
   "source": [
    "#print(merged_genes)\n",
    "merged_genes = merged_genes[merged_genes['feature'] == 'gene']\n",
    "merged_ervs = merged_ervs[merged_ervs['feature'] == 'transcript']\n",
    "genes_df = merged_genes[['seqname', 'start', 'end', 'gene_id', 'log2foldchange']]"
   ]
  },
  {
   "cell_type": "code",
   "execution_count": 24,
   "id": "cc1c0ce2-c0a5-4645-89d3-81d16a1d9b9e",
   "metadata": {},
   "outputs": [
    {
     "name": "stderr",
     "output_type": "stream",
     "text": [
      "/tmp/ipykernel_1510398/631703675.py:2: SettingWithCopyWarning: \n",
      "A value is trying to be set on a copy of a slice from a DataFrame.\n",
      "Try using .loc[row_indexer,col_indexer] = value instead\n",
      "\n",
      "See the caveats in the documentation: https://pandas.pydata.org/pandas-docs/stable/user_guide/indexing.html#returning-a-view-versus-a-copy\n",
      "  genes_df.loc[:, 'upregulated'] = genes_df['log2foldchange'] > 0\n"
     ]
    }
   ],
   "source": [
    "#add info about whether the gene is up or downregulated and only keep the up regulated ones\n",
    "genes_df.loc[:, 'upregulated'] = genes_df['log2foldchange'] > 0\n",
    "genes_df = genes_df[genes_df['upregulated'] == True ]\n",
    "#print(genes_df)"
   ]
  },
  {
   "cell_type": "code",
   "execution_count": 25,
   "id": "8648d89f-cdf1-48a4-9cae-85bb8237abc5",
   "metadata": {},
   "outputs": [],
   "source": [
    "#print(merged_ervs)"
   ]
  },
  {
   "cell_type": "code",
   "execution_count": 26,
   "id": "adc64890-7d52-4baf-b289-8f873873f84d",
   "metadata": {},
   "outputs": [],
   "source": [
    "\n",
    "def closest_up_gene(row, genes_df):\n",
    "    # Only look on the same chromosomes\n",
    "    genes_df = genes_df[genes_df['seqname'] == row['seqname']]\n",
    "    if genes_df.empty:\n",
    "        print('No overexpressed genes on this chromosome! ', row['seqname'])\n",
    "        return 0 \n",
    "    else:\n",
    "        # Calculate min distances to start and end of the gene\n",
    "        genes_df['distance_to_start'] = np.minimum(abs(row['start'] - genes_df['start']), abs(row['end'] - genes_df['start']))\n",
    "        genes_df['distance_to_end'] = np.minimum(abs(row['start'] - genes_df['end']), abs(row['end'] - genes_df['end']))\n",
    "        \n",
    "        min_distance_to_start = genes_df['distance_to_start'].min()\n",
    "        min_distance_to_end = genes_df['distance_to_end'].min()\n",
    "        \n",
    "        min_distance = min(min_distance_to_start, min_distance_to_end)\n",
    "        return min_distance\n"
   ]
  },
  {
   "cell_type": "code",
   "execution_count": 27,
   "id": "8088ec31-9ab1-4f52-af9e-0a92b8b0d79c",
   "metadata": {},
   "outputs": [],
   "source": [
    "merged_ervs['gene_dist'] = merged_ervs.apply(closest_up_gene, args=(genes_df,), axis=1)"
   ]
  },
  {
   "cell_type": "code",
   "execution_count": 28,
   "id": "799a0cce-55b8-4dbb-9178-2f23bddf5173",
   "metadata": {},
   "outputs": [],
   "source": [
    "#print(merged_ervs)"
   ]
  },
  {
   "cell_type": "code",
   "execution_count": 29,
   "id": "03130470-e4ff-41a0-8324-8d537ab490a8",
   "metadata": {},
   "outputs": [],
   "source": [
    "#add info whether the gene is up or down regulated: \n",
    "merged_ervs.loc[:, 'upregulated'] = merged_ervs['log2foldchange'] > 0"
   ]
  },
  {
   "cell_type": "code",
   "execution_count": 30,
   "id": "c91fc1cf-1131-42c9-a8e1-1761f1222d1f",
   "metadata": {},
   "outputs": [],
   "source": [
    "#print(merged_ervs)"
   ]
  },
  {
   "cell_type": "code",
   "execution_count": 31,
   "id": "627d178e-d4b3-4393-9a5e-5aa9beb1dd63",
   "metadata": {},
   "outputs": [
    {
     "name": "stderr",
     "output_type": "stream",
     "text": [
      "/tmp/ipykernel_1510398/3382851421.py:5: UserWarning: The palette list has more values (6) than needed (2), which may not be intended.\n",
      "  plot = sns.displot(merged_ervs, x=\"gene_dist\", hue=\"upregulated\", kind=\"kde\", palette=custom_palette, fill=True, legend=True)\n"
     ]
    },
    {
     "data": {
      "image/png": "[encoded data removed]",
      "text/plain": [
       "<Figure size 595.736x500 with 1 Axes>"
      ]
     },
     "metadata": {},
     "output_type": "display_data"
    }
   ],
   "source": [
    "# Choose a color palette\n",
    "custom_palette = sns.color_palette(\"husl\")\n",
    "\n",
    "# Plot\n",
    "plot = sns.displot(merged_ervs, x=\"gene_dist\", hue=\"upregulated\", kind=\"kde\", palette=custom_palette, fill=True, legend=True)\n",
    "\n",
    "# Set axis labels and title\n",
    "plot.set_axis_labels(\"Distance from the closest upregulated gene\", \"Density\")\n",
    "plot.fig.suptitle(\"Distribution of ERV distance from the closest upregulated gene \\n by Upregulation Status\", y=1.05)\n",
    "\n",
    "# Adjust legend position\n",
    "plot._legend.set_bbox_to_anchor((1, 0.5))\n",
    "\n",
    "# Turn on gridlines\n",
    "plt.grid(True)\n",
    "\n",
    "# Save plot with higher quality and tight layout\n",
    "plt.savefig('DNMT1_distr_erv_to_gene_dist.jpg', dpi=300, bbox_inches='tight')\n",
    "\n",
    "# Show plot\n",
    "plt.show()\n",
    "\n"
   ]
  },
  {
   "cell_type": "code",
   "execution_count": 32,
   "id": "8d9875af-ecca-48fb-9460-3c27792fb2b4",
   "metadata": {},
   "outputs": [],
   "source": [
    "#TRY TO FILTER OUT THOSE WITH ALMOST NO DIFFERENCE IN EXPRESSION "
   ]
  },
  {
   "cell_type": "code",
   "execution_count": 33,
   "id": "3d26bf51-de3b-49e0-bc78-96ca5d7f64a1",
   "metadata": {},
   "outputs": [],
   "source": [
    "rsem_m1 = pd.read_csv('/work/iku/exp1019-cancer-epigenetics-and-ervs/01_BS_and_ERV/results/03_rsem/raw/DNMT1/1_RNA-Seq_SRR12849888.genes.results', sep = '\\t')\n",
    "rsem_m2 = pd.read_csv('/work/iku/exp1019-cancer-epigenetics-and-ervs/01_BS_and_ERV/results/03_rsem/raw/DNMT1/2_RNA-Seq_SRR12849889.genes.results', sep = '\\t')\n",
    "rsem_m3 = pd.read_csv('/work/iku/exp1019-cancer-epigenetics-and-ervs/01_BS_and_ERV/results/03_rsem/raw/DNMT1/3_RNA-Seq_SRR12849891.genes.results', sep = '\\t')\n",
    "rsem_m4 = pd.read_csv('/work/iku/exp1019-cancer-epigenetics-and-ervs/01_BS_and_ERV/results/03_rsem/raw/DNMT1/4_RNA-Seq_SRR12849892.genes.results', sep = '\\t')"
   ]
  },
  {
   "cell_type": "code",
   "execution_count": 34,
   "id": "d63d6f2a-b934-4a77-957e-881aa2a775c8",
   "metadata": {},
   "outputs": [],
   "source": [
    "#read in the overexpressed ERVs that we got form DESEQ2 \n",
    "file = open('ERV_names.txt')\n",
    "\n",
    "overexpressed_ERVs = file.read() \n",
    "overexpressed_ERVs_list = overexpressed_ERVs.split('\\n')[:-1]"
   ]
  },
  {
   "cell_type": "code",
   "execution_count": 35,
   "id": "e98ca1be-e8aa-42c8-a9e3-17d2d1692eeb",
   "metadata": {},
   "outputs": [],
   "source": [
    "rsem_erv_1 = rsem_m1[rsem_m1['gene_id'].isin(overexpressed_ERVs_list)]\n",
    "rsem_erv_2 = rsem_m2[rsem_m2['gene_id'].isin(overexpressed_ERVs_list)]\n",
    "rsem_erv_3 = rsem_m3[rsem_m3['gene_id'].isin(overexpressed_ERVs_list)]\n",
    "rsem_erv_4 = rsem_m4[rsem_m4['gene_id'].isin(overexpressed_ERVs_list)]\n"
   ]
  },
  {
   "cell_type": "code",
   "execution_count": 36,
   "id": "f50e6040-86bf-4646-8452-09f8e6e2ec73",
   "metadata": {},
   "outputs": [],
   "source": [
    "rsem_erv_1 = rsem_erv_1[['gene_id', 'TPM']]\n",
    "rsem_erv_2 = rsem_erv_2[['gene_id', 'TPM']]\n",
    "rsem_erv_3 = rsem_erv_3[['gene_id', 'TPM']]\n",
    "rsem_erv_4 = rsem_erv_4[['gene_id', 'TPM']]"
   ]
  },
  {
   "cell_type": "code",
   "execution_count": 37,
   "id": "1b9fb0b6-a109-4d15-834c-1ce8e087ed09",
   "metadata": {},
   "outputs": [],
   "source": [
    "merged_cont = pd.merge(rsem_erv_1, rsem_erv_2, on = ['gene_id'], suffixes = ('_cont1', '_cont2'))\n",
    "merged_mut = pd.merge(rsem_erv_3, rsem_erv_4, on = ['gene_id'], suffixes = ('_mut1', '_mut2'))"
   ]
  },
  {
   "cell_type": "code",
   "execution_count": 38,
   "id": "b8311cfb-4510-4bce-b2cf-6dd23fb15213",
   "metadata": {},
   "outputs": [],
   "source": [
    "merged = pd.merge(merged_cont, merged_mut, on = ['gene_id'])\n",
    "merged = merged[(merged['TPM_cont1'] > 10) | (merged['TPM_cont2'] > 10) | (merged['TPM_mut1'] > 10) | (merged['TPM_mut2'] > 10)]\n",
    "ERV_to_subset = list(merged['gene_id'])"
   ]
  },
  {
   "cell_type": "code",
   "execution_count": 39,
   "id": "28143fe6-431d-474c-8103-6ea47a578132",
   "metadata": {},
   "outputs": [],
   "source": [
    "#merged_ervs_filtered = merged_ervs[merged_ervs['gene_id'].isin(ERV_to_subset)]\n"
   ]
  },
  {
   "cell_type": "code",
   "execution_count": 40,
   "id": "e7811420-d5f1-4249-9d56-fe209f52d917",
   "metadata": {},
   "outputs": [],
   "source": [
    "# Choose a color palette\n",
    "#KDE _ PROBABILITY DENSITY CURVE - BOTH DISTRIBUTIONS SUM TO 1, SO WE CAN ACTUALLY COMPARE BETWEEN THEM\n",
    "\n",
    "#custom_palette = sns.color_palette(\"husl\")\n",
    "\n",
    "# Plot\n",
    "#plot = sns.displot(merged_ervs_filtered, x=\"gene_dist\", hue=\"upregulated\", palette=custom_palette, fill=True, legend=True, kind = \"kde\")\n",
    "# Set axis labels and title\n",
    "#plot.set_axis_labels(\"Distance from the closest upregulated gene\", \"Density\")\n",
    "#plot.fig.suptitle(\"Distribution of ERV distance from the closest upregulated gene by Upregulation Status (TPM > 10)\", y=1.05)\n",
    "\n",
    "# Adjust legend position\n",
    "#plot._legend.set_bbox_to_anchor((1, 0.5))\n",
    "\n",
    "# Turn on gridlines\n",
    "#plt.grid(True)\n",
    "\n",
    "# Save plot with higher quality and tight layout\n",
    "#plt.savefig('distr_erv_to_gene_dist_TPM10.jpg', dpi=300, bbox_inches='tight')\n",
    "\n",
    "# Show plot\n",
    "#plt.show()\n"
   ]
  },
  {
   "cell_type": "markdown",
   "id": "4c38e406-1711-4928-bdfc-0b0c1603a532",
   "metadata": {},
   "source": [
    "SEE IF THERE IS A HIGHER EXPRESSION OF GENES IN THESE AREAS \n"
   ]
  },
  {
   "cell_type": "code",
   "execution_count": 41,
   "id": "6a61f062-bd85-49db-bd68-4b01e7640906",
   "metadata": {},
   "outputs": [],
   "source": [
    "#print(merged_ervs_filtered)"
   ]
  },
  {
   "cell_type": "code",
   "execution_count": 42,
   "id": "52af049f-a0da-45f6-bc5e-e86d527af610",
   "metadata": {},
   "outputs": [],
   "source": [
    "#print(genes_df)"
   ]
  },
  {
   "cell_type": "code",
   "execution_count": 43,
   "id": "e4ef870e-5c8e-4dac-9d03-d7fc2810df9a",
   "metadata": {},
   "outputs": [],
   "source": [
    "merged = pd.merge(merged_cont, merged_mut, on = ['gene_id'])\n",
    "merged = merged[(merged['TPM_cont1'] < 10) | (merged['TPM_cont2'] < 10) | (merged['TPM_mut1'] < 10) | (merged['TPM_mut2'] > 10)]\n",
    "ERV_to_subset = list(merged['gene_id'])"
   ]
  },
  {
   "cell_type": "code",
   "execution_count": 44,
   "id": "3a418281-6f8f-4de4-8c3c-af13fada9625",
   "metadata": {},
   "outputs": [],
   "source": [
    "merged_ervs_filtered_2 = merged_ervs[merged_ervs['gene_id'].isin(ERV_to_subset)]"
   ]
  },
  {
   "cell_type": "code",
   "execution_count": 45,
   "id": "b9f58728-cafc-4516-9ddd-e95c65d1ec24",
   "metadata": {},
   "outputs": [
    {
     "name": "stderr",
     "output_type": "stream",
     "text": [
      "/tmp/ipykernel_1510398/1405628912.py:7: UserWarning: The palette list has more values (6) than needed (2), which may not be intended.\n",
      "  plot = sns.displot(merged_ervs_filtered_2, x=\"gene_dist\", hue=\"upregulated\", palette=custom_palette, fill=True, legend=True, kind = \"kde\")\n"
     ]
    },
    {
     "data": {
      "image/png": "[encoded data removed]",
      "text/plain": [
       "<Figure size 595.736x500 with 1 Axes>"
      ]
     },
     "metadata": {},
     "output_type": "display_data"
    }
   ],
   "source": [
    "# Choose a color palette\n",
    "#KDE _ PROBABILITY DENSITY CURVE - BOTH DISTRIBUTIONS SUM TO 1, SO WE CAN ACTUALLY COMPARE BETWEEN THEM\n",
    "\n",
    "custom_palette = sns.color_palette(\"husl\")\n",
    "\n",
    "# Plot\n",
    "plot = sns.displot(merged_ervs_filtered_2, x=\"gene_dist\", hue=\"upregulated\", palette=custom_palette, fill=True, legend=True, kind = \"kde\")\n",
    "# Set axis labels and title\n",
    "plot.set_axis_labels(\"Distance from the closest upregulated gene\", \"Density\")\n",
    "plot.fig.suptitle(\"Distribution of ERV distance from the closest upregulated gene by Upregulation Status (TPM > 10)\", y=1.05)\n",
    "\n",
    "# Adjust legend position\n",
    "plot._legend.set_bbox_to_anchor((1, 0.5))\n",
    "\n",
    "# Turn on gridlines\n",
    "plt.grid(True)\n",
    "\n",
    "# Save plot with higher quality and tight layout\n",
    "plt.savefig('distr_erv_to_gene_dist_TPM10.jpg', dpi=300, bbox_inches='tight')\n",
    "\n",
    "# Show plot\n",
    "plt.show()\n"
   ]
  },
  {
   "cell_type": "code",
   "execution_count": null,
   "id": "ea4e776b-cb74-4e57-83b0-f695a9c9d6cf",
   "metadata": {},
   "outputs": [],
   "source": []
  },
  {
   "cell_type": "code",
   "execution_count": 46,
   "id": "ab81ad98-20e5-48fd-a2b0-e8b6e46c04de",
   "metadata": {},
   "outputs": [],
   "source": [
    "import matplotlib.pyplot as plt\n",
    "import numpy as np\n",
    "\n",
    "def visualise_expression_regions(erv_df, gene_df, filename, threshold=True, split_by_chrom=False, subplots_per_row=3):\n",
    "    # Group dataframes by chromosome\n",
    "    chrom_groups_erv = erv_df.groupby('seqname')\n",
    "    chrom_groups_gene = gene_df.groupby('seqname')\n",
    "    num_chroms = len(chrom_groups_erv)\n",
    "\n",
    "    # Iterate over each chromosome group\n",
    "    for chrom, group_erv in chrom_groups_erv:\n",
    "        # Sort the ERV group by ascending order of 'start' position\n",
    "        group_erv = group_erv.sort_values(by='start')\n",
    "\n",
    "        # Retrieve corresponding gene group\n",
    "        group_gene = chrom_groups_gene.get_group(chrom).sort_values(by='start')\n",
    "\n",
    "        # Calculate the number of required subplots\n",
    "        num_subplots = min(len(group_erv), subplots_per_row)\n",
    "\n",
    "        # Calculate the number of rows needed for subplots\n",
    "        num_rows = int(np.ceil(len(group_erv) / subplots_per_row))\n",
    "\n",
    "        # Initialize a new figure for each chromosome\n",
    "        fig, ax = plt.subplots(num_rows, subplots_per_row, figsize=(15, 5*num_rows))\n",
    "\n",
    "        # Flatten the axes array for easy iteration\n",
    "        ax = ax.flatten()\n",
    "\n",
    "        # Iterate over each ERV region\n",
    "        for i, (_, row_erv) in enumerate(group_erv.iterrows()):\n",
    "            # Filter genes within ±50 kb of the ERV region\n",
    "            genes_within_range = group_gene[(group_gene['start'] >= row_erv['start'] - 50000) &\n",
    "                                             (group_gene['end'] <= row_erv['end'] + 50000)]\n",
    "\n",
    "            # Plot ERV region and genes within ±50 kb on the same plot\n",
    "            ax[i].plot([row_erv['start'], row_erv['end']], [1, 1], linewidth=5, label='ERV Region')\n",
    "\n",
    "            for _, row_gene in genes_within_range.iterrows():\n",
    "                ax[i].plot([row_gene['start'], row_gene['end']], [0, 0], linewidth=5, label='Gene Region')\n",
    "\n",
    "            # Set title and labels for each subplot\n",
    "            ax[i].set_title(f'Chromosome {chrom} - ERV Region {i+1}')\n",
    "            ax[i].set_xlabel('Genomic Position')\n",
    "            ax[i].set_ylabel('Regions')\n",
    "            ax[i].legend()\n",
    "\n",
    "        # Hide empty subplots if there are any\n",
    "        for j in range(len(group_erv), num_rows*subplots_per_row):\n",
    "            ax[j].axis('off')\n",
    "\n",
    "        # Save figure for each chromosome\n",
    "        fig.savefig(f\"{filename}_chrom_{chrom}.png\")\n",
    "\n",
    "# Example usage:\n",
    "# visualise_expression_regions(erv_df, gene_df, \"expression_regions\", split_by_chrom=True)\n"
   ]
  },
  {
   "cell_type": "code",
   "execution_count": 47,
   "id": "d92ee669-0f82-4520-a820-dbc7fbbade54",
   "metadata": {},
   "outputs": [],
   "source": [
    "#visualise_expression_regions(merged_ervs_filtered, genes_df, 'ERV_genes_regions', split_by_chrom=True, subplots_per_row=3)"
   ]
  },
  {
   "cell_type": "code",
   "execution_count": 48,
   "id": "d6c73110-4c83-4fbf-b002-b32dbf22dae3",
   "metadata": {},
   "outputs": [
    {
     "ename": "NameError",
     "evalue": "name 'merged_ervs_filtered' is not defined",
     "output_type": "error",
     "traceback": [
      "\u001b[0;31m---------------------------------------------------------------------------\u001b[0m",
      "\u001b[0;31mNameError\u001b[0m                                 Traceback (most recent call last)",
      "Cell \u001b[0;32mIn[48], line 1\u001b[0m\n\u001b[0;32m----> 1\u001b[0m upregulated_ervs \u001b[38;5;241m=\u001b[39m \u001b[43mmerged_ervs_filtered\u001b[49m[merged_ervs_filtered[\u001b[38;5;124m'\u001b[39m\u001b[38;5;124mupregulated\u001b[39m\u001b[38;5;124m'\u001b[39m] \u001b[38;5;241m==\u001b[39m \u001b[38;5;28;01mTrue\u001b[39;00m]\n",
      "\u001b[0;31mNameError\u001b[0m: name 'merged_ervs_filtered' is not defined"
     ]
    }
   ],
   "source": [
    "upregulated_ervs = merged_ervs_filtered[merged_ervs_filtered['upregulated'] == True]"
   ]
  },
  {
   "cell_type": "code",
   "execution_count": null,
   "id": "310227de-93bc-427f-8e19-548de1e07e51",
   "metadata": {},
   "outputs": [],
   "source": [
    "#visualise_expression_regions(upregulated_ervs, genes_df, 'ERV_genes_regions', split_by_chrom=True, subplots_per_row=3)"
   ]
  },
  {
   "cell_type": "code",
   "execution_count": null,
   "id": "eefd5bc6-c9a6-4ba4-82c3-1da98b38ef1f",
   "metadata": {},
   "outputs": [],
   "source": [
    "downregulated_ervs = merged_ervs_filtered[merged_ervs_filtered['upregulated'] == False]\n",
    "#print(downregulated_ervs)\n",
    "\n",
    "#downregulated_ervs = merged_ervs[merged_ervs['upregulated'] == False]\n",
    "print(downregulated_ervs)"
   ]
  },
  {
   "cell_type": "code",
   "execution_count": null,
   "id": "3023e8f3-a297-4bc2-9c25-83feeda810c9",
   "metadata": {},
   "outputs": [],
   "source": [
    "#visualise_expression_regions(downregulated_ervs, genes_df, 'ERV_genes_regions', split_by_chrom=True, subplots_per_row=3)"
   ]
  },
  {
   "cell_type": "code",
   "execution_count": null,
   "id": "ebcf149a-ade3-486b-875e-e5a8ab7faf1b",
   "metadata": {},
   "outputs": [],
   "source": [
    "print(len(upregulated_ervs))\n",
    "print(len(downregulated_ervs))"
   ]
  },
  {
   "cell_type": "code",
   "execution_count": null,
   "id": "0bbc6439-27de-4816-bb50-882c6e4e41f1",
   "metadata": {},
   "outputs": [],
   "source": [
    "def count_gene_around_erv(erv_df, gene_df, threshold_distance):\n",
    "    gene_around_erv_count = 0\n",
    "    no_gene_around_erv_count = 0\n",
    "\n",
    "    # Iterate over each ERV region\n",
    "    for _, row_erv in erv_df.iterrows():\n",
    "        # Find genes within ±50 kb of the ERV region\n",
    "        genes_within_range = gene_df[(gene_df['start'] >= abs(row_erv['start'] - threshold_distance)) &\n",
    "                                      (gene_df['end'] <= abs(row_erv['end'] + threshold_distance))]\n",
    "        # If genes are found, increment the count\n",
    "        if not genes_within_range.empty:\n",
    "            gene_around_erv_count += 1\n",
    "        else:\n",
    "            no_gene_around_erv_count += 1\n",
    "    print('gene_around_erv_count: ', gene_around_erv_count)\n",
    "    print('no_gene_around_erv_count: ', no_gene_around_erv_count)\n",
    "    return gene_around_erv_count, no_gene_around_erv_count\n",
    "\n",
    "# Example usage:\n",
    "# gene_around_erv_count, no_gene_around_erv_count = count_gene_around_erv(erv_df, gene_df)\n",
    "# print(\"Number of ERVs with genes around:\", gene_around_erv_count)\n",
    "# print(\"Number of ERVs without genes around:\", no_gene_around_erv_count)\n"
   ]
  },
  {
   "cell_type": "code",
   "execution_count": null,
   "id": "28ea18ed-d9ab-4425-bbb1-2bcc4af92593",
   "metadata": {},
   "outputs": [],
   "source": [
    "#drop erv from row 17\n",
    "upregulated_ervs = merged_ervs_filtered[merged_ervs_filtered['upregulated'] == True]\n",
    "downregulated_ervs = merged_ervs_filtered[merged_ervs_filtered['upregulated'] == False]\n",
    "\n",
    "print(merged_ervs_filtered)"
   ]
  },
  {
   "cell_type": "code",
   "execution_count": null,
   "id": "e5df0980-a626-4c54-b8f5-860ae84ab9db",
   "metadata": {},
   "outputs": [],
   "source": [
    "#LOWLY EXPRESED FILTERED - HIGH EXPRESSION ERV's ONLY\n",
    "x,y = count_gene_around_erv(upregulated_ervs, genes_df, 30000)\n",
    "\n",
    "m,n = count_gene_around_erv(downregulated_ervs, genes_df, 30000)\n"
   ]
  },
  {
   "cell_type": "code",
   "execution_count": null,
   "id": "4921fcb0-8678-4a9b-9eeb-73858e69ded8",
   "metadata": {},
   "outputs": [],
   "source": [
    "#ALL ERV'S REGARDLESS OF THEIR EXPRESSION LEVELS\n",
    "upregulated_ervs = merged_ervs[merged_ervs['upregulated'] == True]\n",
    "downregulated_ervs = merged_ervs[merged_ervs['upregulated'] == False]"
   ]
  },
  {
   "cell_type": "code",
   "execution_count": null,
   "id": "70e0002b-ebb0-43c4-b94a-d00634eda683",
   "metadata": {},
   "outputs": [],
   "source": [
    "#print(len(upregulated_ervs))\n",
    "#print(len(downregulated_ervs))"
   ]
  },
  {
   "cell_type": "code",
   "execution_count": null,
   "id": "b1c432cd-ae86-4d5f-95a7-5ef1849f4d56",
   "metadata": {},
   "outputs": [],
   "source": [
    "#THRESHOLD 30kb, no filtering\n",
    "x,y = count_gene_around_erv(upregulated_ervs, genes_df, 30000) #50 as a base\n",
    "\n",
    "m,n = count_gene_around_erv(downregulated_ervs, genes_df, 30000)\n",
    "\n",
    "#fisher's test performed in "
   ]
  },
  {
   "cell_type": "code",
   "execution_count": null,
   "id": "713c6ad4-7a1f-4fff-81c9-3d1dd56916e3",
   "metadata": {},
   "outputs": [],
   "source": [
    "#change distance to 100000"
   ]
  },
  {
   "cell_type": "code",
   "execution_count": null,
   "id": "0b853927-9dc4-47bc-8c36-7e7cb7e78525",
   "metadata": {},
   "outputs": [],
   "source": [
    "downregulated_ervs = merged_ervs_filtered[merged_ervs_filtered['upregulated'] == False]\n",
    "upregulated_ervs = merged_ervs_filtered[merged_ervs_filtered['upregulated'] == True]"
   ]
  },
  {
   "cell_type": "code",
   "execution_count": null,
   "id": "1a650e7c-5d82-4e38-b783-6df0fc97660f",
   "metadata": {},
   "outputs": [],
   "source": [
    "x,y = count_gene_around_erv(upregulated_ervs, genes_df, 30000)\n",
    "\n",
    "m,n = count_gene_around_erv(downregulated_ervs, genes_df, 30000)"
   ]
  },
  {
   "cell_type": "code",
   "execution_count": null,
   "id": "b9495025-24c6-4b57-8f5f-615720e88a00",
   "metadata": {},
   "outputs": [],
   "source": [
    "#TRY TO SEE THAT ONLY FOR LOW EXPRESSION ERV's - I THINK THESE MAY BE MORE DEPENDENT ON THE \n",
    "#REGIONS AND THEY MAY BE A SIDE PRODUCT OF A GENERAL HIGH EXPRESSION REGIONS\n",
    "merged = pd.merge(merged_cont, merged_mut, on = ['gene_id'])\n",
    "merged = merged[(merged['TPM_cont1'] < 10) & (merged['TPM_cont2'] < 10) & (merged['TPM_mut1'] < 10) & (merged['TPM_mut2'] < 10)]\n",
    "ERV_to_subset = list(merged['gene_id'])\n",
    "low_expr_ervs = merged_ervs[merged_ervs['gene_id'].isin(ERV_to_subset)]"
   ]
  },
  {
   "cell_type": "code",
   "execution_count": null,
   "id": "116a3ba9-af8f-467c-b98f-fb08e00ca86a",
   "metadata": {},
   "outputs": [],
   "source": [
    "#print(ERV_to_subset)"
   ]
  },
  {
   "cell_type": "code",
   "execution_count": null,
   "id": "958398ab-45ee-404d-b225-6279c68372ce",
   "metadata": {},
   "outputs": [],
   "source": [
    "downregulated_ervs = low_expr_ervs[low_expr_ervs['upregulated'] == False]\n",
    "upregulated_ervs = low_expr_ervs[low_expr_ervs['upregulated'] == True]"
   ]
  },
  {
   "cell_type": "code",
   "execution_count": null,
   "id": "360acc7e-07f3-473f-9e38-1e2c1deaf8a3",
   "metadata": {},
   "outputs": [],
   "source": [
    "x,y = count_gene_around_erv(upregulated_ervs, genes_df, 30000)\n",
    "\n",
    "m,n = count_gene_around_erv(downregulated_ervs, genes_df, 30000)"
   ]
  },
  {
   "cell_type": "markdown",
   "id": "53f7cb21-c670-40ad-be84-6df0ec72f14c",
   "metadata": {},
   "source": [
    "TRY TO SEE IF THERE ARE ANY PATTERNS WITHIN FAMILIES"
   ]
  },
  {
   "cell_type": "code",
   "execution_count": 62,
   "id": "699bebed-e491-473e-b82a-5eeb6c0b5469",
   "metadata": {},
   "outputs": [],
   "source": [
    "#load the ERV family data"
   ]
  },
  {
   "cell_type": "code",
   "execution_count": 63,
   "id": "dec9e6b4-5b08-405b-8da8-16ef0c5761cb",
   "metadata": {},
   "outputs": [],
   "source": [
    "family_df = pd.read_csv('/work/iku/exp1019-cancer-epigenetics-and-ervs/01_BS_and_ERV/families/Hsap38.txt',sep = '\\t', on_bad_lines='skip')"
   ]
  },
  {
   "cell_type": "code",
   "execution_count": 64,
   "id": "4fef268d-e3da-479f-812c-befe7fed7d59",
   "metadata": {},
   "outputs": [
    {
     "name": "stdout",
     "output_type": "stream",
     "text": [
      "                                    ID chr     start       end strand  \\\n",
      "0            Hsap38.chr1.74855.76774.+   1     74855     76774      +   \n",
      "1          Hsap38.chr1.884947.885237.-   1    884947    885237      -   \n",
      "2          Hsap38.chr1.895601.896266.-   1    895601    896266      -   \n",
      "3          Hsap38.chr1.896537.897049.-   1    896537    897049      -   \n",
      "4          Hsap38.chr1.897053.897436.-   1    897053    897436      -   \n",
      "...                                ...  ..       ...       ...    ...   \n",
      "33961  Hsap38.chrY.57161286.57162035.-   Y  57161286  57162035      -   \n",
      "33962  Hsap38.chrY.57161969.57162262.-   Y  57161969  57162262      -   \n",
      "33963  Hsap38.chrY.57162377.57162853.-   Y  57162377  57162853      -   \n",
      "33964  Hsap38.chrY.57171031.57171489.-   Y  57171031  57171489      -   \n",
      "33965  Hsap38.chrY.57175324.57175737.-   Y  57175324  57175737      -   \n",
      "\n",
      "       AA_length  method  N_cnt                              MetID  \\\n",
      "0            640       6      0        Hsap38.chr1.74981.76774.+.M   \n",
      "1             97       6      0      Hsap38.chr1.884947.885177.-.M   \n",
      "2            222       7      0      Hsap38.chr1.895601.895969.-.M   \n",
      "3            171       7      0      Hsap38.chr1.896537.896641.-.M   \n",
      "4            128       7      0      Hsap38.chr1.897053.897073.-.M   \n",
      "...          ...     ...    ...                                ...   \n",
      "33961        250       7      0  Hsap38.chrY.57161286.57161969.-.M   \n",
      "33962         98       7      0  Hsap38.chrY.57161969.57162238.-.M   \n",
      "33963        159       7      0  Hsap38.chrY.57162377.57162649.-.M   \n",
      "33964        153       6      0  Hsap38.chrY.57171031.57171411.-.M   \n",
      "33965        138       6      0  Hsap38.chrY.57175324.57175716.-.M   \n",
      "\n",
      "       Met_AA_length                                        HMM_profile  \\\n",
      "0                598                                          pol,RVT_1   \n",
      "1                 77                                          pol,RVT_1   \n",
      "2                123  INT,INT_betaretroviridae|RNaseH,RNaseH_betaret...   \n",
      "3                 35  pro,RVP|AP,AP_alpharetroviridae|AP,AP_betaretr...   \n",
      "4                  7  pro,dUTPase|DUT,DUT_betaretroviridae|DUT,DUT_c...   \n",
      "...              ...                                                ...   \n",
      "33961            228  pro,RVP|AP,AP_gammaretroviridae|AP,AP_retropep...   \n",
      "33962             90              gag,Gag_p30|GAG,GAG_gammaretroviridae   \n",
      "33963             91                                        gag,Gag_p30   \n",
      "33964            127                    ENV,ENV_B-type_betaretroviridae   \n",
      "33965            131                                        gag,Gag_p30   \n",
      "\n",
      "                                             Viral_BLAST  \\\n",
      "0      YP_073558.1(RNA-dependent DNA polymerase [Lymp...   \n",
      "1      YP_073558.1(RNA-dependent DNA polymerase [Lymp...   \n",
      "2      NP_040550.1(polymerase, partial [Avian leukosi...   \n",
      "3      YP_241113.1(gap-pro fusion, partial [Ovine enz...   \n",
      "4      NP_041185.1(neutral protease large subunit [Ja...   \n",
      "...                                                  ...   \n",
      "33961  NP_047255.1(Gag-Pro-Pol precursor polyprotein ...   \n",
      "33962  YP_001497148.1(gag-pol precursor polyprotein [...   \n",
      "33963  YP_223870.1(gag protein [Reticuloendotheliosis...   \n",
      "33964  YP_008603282.1(putative env [Human endogenous ...   \n",
      "33965  YP_002000602.1(hypothetical mature p30(CA) pro...   \n",
      "\n",
      "                                                NR_BLAST EVE_BLAST  \\\n",
      "0      KHM23816.1(endonuclease [Enterobacter aerogenes])         -   \n",
      "1      EDN65341.1(conserved hypothetical protein [Beg...         -   \n",
      "2      AAA78939.1(reverse transcriptase, partial [Hum...         -   \n",
      "3      EHH53484.1(hypothetical protein EGM_14132, par...         -   \n",
      "4      CAA71419.1(protease, partial [Human endogenous...         -   \n",
      "...                                                  ...       ...   \n",
      "33961  AAP06676.1(retroviral gag protein [Human endog...         -   \n",
      "33962  AAP06676.1(retroviral gag protein [Human endog...         -   \n",
      "33963  AAP06676.1(retroviral gag protein [Human endog...         -   \n",
      "33964                                                  -         -   \n",
      "33965  P63117.2(RecName: Full=HERV-F(c)1_Xq21.33 prov...         -   \n",
      "\n",
      "                                             RetroTector  \\\n",
      "0                                                      .   \n",
      "1                                                      .   \n",
      "2                                         Pol|b|HERV-K10   \n",
      "3                                         Pro|b|HERV-K10   \n",
      "4                             Pro|b|HERV-K10 Gag|b|HML3z   \n",
      "...                                                  ...   \n",
      "33961  Pro|c|HERV_E_4_1_Trolig_POL_M10976 Gag|c|HERV-...   \n",
      "33962                 Gag|c|HERV-E_gag_AL391419_alg2_1fs   \n",
      "33963                 Gag|c|HERV-E_gag_AL391419_alg2_1fs   \n",
      "33964                                                  .   \n",
      "33965                                                  .   \n",
      "\n",
      "                            Repbase  \n",
      "0      L1PA2|LINE/L1 L1MC5a|LINE/L1  \n",
      "1                     L1PA7|LINE/L1  \n",
      "2               HERVK9-int|LTR/ERVK  \n",
      "3               HERVK9-int|LTR/ERVK  \n",
      "4               HERVK9-int|LTR/ERVK  \n",
      "...                             ...  \n",
      "33961          HERVE_a-int|LTR/ERV1  \n",
      "33962          HERVE_a-int|LTR/ERV1  \n",
      "33963          HERVE_a-int|LTR/ERV1  \n",
      "33964         HERVK14C-int|LTR/ERVK  \n",
      "33965            MER84-int|LTR/ERV1  \n",
      "\n",
      "[33966 rows x 16 columns]\n"
     ]
    }
   ],
   "source": [
    "print(family_df)"
   ]
  },
  {
   "cell_type": "code",
   "execution_count": 65,
   "id": "53f1e549-b5d7-4c75-a7c2-41ce6cbbeb8e",
   "metadata": {},
   "outputs": [],
   "source": [
    "#will use the Repbase as a family ID \n",
    "family_id = family_df[['ID', 'Repbase']]\n"
   ]
  },
  {
   "cell_type": "code",
   "execution_count": 3,
   "id": "f3b960c9-c291-4be9-a9a6-b1b710e5be63",
   "metadata": {},
   "outputs": [
    {
     "ename": "NameError",
     "evalue": "name 'ervs' is not defined",
     "output_type": "error",
     "traceback": [
      "\u001b[0;31m---------------------------------------------------------------------------\u001b[0m",
      "\u001b[0;31mNameError\u001b[0m                                 Traceback (most recent call last)",
      "Cell \u001b[0;32mIn[3], line 2\u001b[0m\n\u001b[1;32m      1\u001b[0m \u001b[38;5;66;03m#get the diff expr ervs and check their family\u001b[39;00m\n\u001b[0;32m----> 2\u001b[0m ervs \u001b[38;5;241m=\u001b[39m \u001b[43mervs\u001b[49m\u001b[38;5;241m.\u001b[39mrename(columns\u001b[38;5;241m=\u001b[39m{\u001b[38;5;124m'\u001b[39m\u001b[38;5;124mgene_id\u001b[39m\u001b[38;5;124m'\u001b[39m:\u001b[38;5;124m'\u001b[39m\u001b[38;5;124mID\u001b[39m\u001b[38;5;124m'\u001b[39m})\n\u001b[1;32m      3\u001b[0m ervs_family \u001b[38;5;241m=\u001b[39m pd\u001b[38;5;241m.\u001b[39mmerge(ervs, family_id, on\u001b[38;5;241m=\u001b[39m\u001b[38;5;124m'\u001b[39m\u001b[38;5;124mID\u001b[39m\u001b[38;5;124m'\u001b[39m)\n",
      "\u001b[0;31mNameError\u001b[0m: name 'ervs' is not defined"
     ]
    }
   ],
   "source": [
    "#get the diff expr ervs and check their family\n",
    "ervs = ervs.rename(columns={'gene_id':'ID'})\n",
    "ervs_family = pd.merge(ervs, family_id, on='ID')"
   ]
  },
  {
   "cell_type": "code",
   "execution_count": 4,
   "id": "b1b656f5-589c-4e66-a85e-36bc94b3922d",
   "metadata": {},
   "outputs": [
    {
     "ename": "NameError",
     "evalue": "name 'ervs' is not defined",
     "output_type": "error",
     "traceback": [
      "\u001b[0;31m---------------------------------------------------------------------------\u001b[0m",
      "\u001b[0;31mNameError\u001b[0m                                 Traceback (most recent call last)",
      "Cell \u001b[0;32mIn[4], line 1\u001b[0m\n\u001b[0;32m----> 1\u001b[0m ervs_overexpressed \u001b[38;5;241m=\u001b[39m \u001b[43mervs\u001b[49m[ervs[\u001b[38;5;124m'\u001b[39m\u001b[38;5;124mlog2foldchange\u001b[39m\u001b[38;5;124m'\u001b[39m] \u001b[38;5;241m>\u001b[39m \u001b[38;5;241m0\u001b[39m]\n\u001b[1;32m      2\u001b[0m \u001b[38;5;28mprint\u001b[39m(\u001b[38;5;28mlen\u001b[39m(ervs_overexpressed))\n\u001b[1;32m      3\u001b[0m ervs_family \u001b[38;5;241m=\u001b[39m pd\u001b[38;5;241m.\u001b[39mmerge(ervs_overexpressed, family_id, on\u001b[38;5;241m=\u001b[39m\u001b[38;5;124m'\u001b[39m\u001b[38;5;124mID\u001b[39m\u001b[38;5;124m'\u001b[39m)\n",
      "\u001b[0;31mNameError\u001b[0m: name 'ervs' is not defined"
     ]
    }
   ],
   "source": [
    "ervs_overexpressed = ervs[ervs['log2foldchange'] > 0]\n",
    "print(len(ervs_overexpressed))\n",
    "ervs_family = pd.merge(ervs_overexpressed, family_id, on='ID')\n",
    "ervs_family = pd.merge(ervs, family_id, on='ID')"
   ]
  },
  {
   "cell_type": "code",
   "execution_count": 2,
   "id": "bd661c8a-4c7c-434d-b1aa-f99b83219d83",
   "metadata": {},
   "outputs": [
    {
     "ename": "NameError",
     "evalue": "name 'ervs_family' is not defined",
     "output_type": "error",
     "traceback": [
      "\u001b[0;31m---------------------------------------------------------------------------\u001b[0m",
      "\u001b[0;31mNameError\u001b[0m                                 Traceback (most recent call last)",
      "Cell \u001b[0;32mIn[2], line 1\u001b[0m\n\u001b[0;32m----> 1\u001b[0m grouped_df \u001b[38;5;241m=\u001b[39m \u001b[43mervs_family\u001b[49m\u001b[38;5;241m.\u001b[39mgroupby(\u001b[38;5;124m'\u001b[39m\u001b[38;5;124mRepbase\u001b[39m\u001b[38;5;124m'\u001b[39m) \n\u001b[1;32m      2\u001b[0m \u001b[38;5;28;01mfor\u001b[39;00m name, group \u001b[38;5;129;01min\u001b[39;00m grouped_df:\n\u001b[1;32m      3\u001b[0m     \u001b[38;5;28mprint\u001b[39m(\u001b[38;5;124mf\u001b[39m\u001b[38;5;124m\"\u001b[39m\u001b[38;5;124mFamily: \u001b[39m\u001b[38;5;132;01m{\u001b[39;00mname\u001b[38;5;132;01m}\u001b[39;00m\u001b[38;5;124m\"\u001b[39m)\n",
      "\u001b[0;31mNameError\u001b[0m: name 'ervs_family' is not defined"
     ]
    }
   ],
   "source": [
    "grouped_df = ervs_family.groupby('Repbase') \n",
    "for name, group in grouped_df:\n",
    "    print(f\"Family: {name}\")\n",
    "    print(group)\n",
    "    print(f\"Number of entries: {len(group)}\\n\")"
   ]
  },
  {
   "cell_type": "code",
   "execution_count": 69,
   "id": "5af1f9b7-350d-4f86-b2d7-8c093fffda13",
   "metadata": {},
   "outputs": [],
   "source": [
    "filtered_groups = {name: group for name, group in grouped_df if len(group) > 1}\n",
    "\n",
    "filtered_df = pd.concat(filtered_groups.values())\n",
    "\n",
    "# Optionally, create a summary DataFrame for these groups\n",
    "summary_df = pd.DataFrame({\n",
    "    'Repbase': list(filtered_groups.keys()),\n",
    "    'Counts': [len(group) for group in filtered_groups.values()]\n",
    "})\n",
    "#print(summary_df)"
   ]
  },
  {
   "cell_type": "code",
   "execution_count": 70,
   "id": "1f418b21-a294-4568-a0c6-d7f22ecf0120",
   "metadata": {},
   "outputs": [],
   "source": [
    "merged = pd.merge(merged_cont, merged_mut, on = ['gene_id'])\n",
    "merged = merged[(merged['TPM_cont1'] > 10) | (merged['TPM_cont2'] > 10) | (merged['TPM_mut1'] > 10) | (merged['TPM_mut2'] > 10)]\n",
    "ervs_list = list(merged['gene_id'])\n",
    "ervs_overexpressed = list(ervs_overexpressed['ID'])"
   ]
  },
  {
   "cell_type": "code",
   "execution_count": 71,
   "id": "e8b4f43a-25be-42da-9c96-1b15e89b30af",
   "metadata": {},
   "outputs": [],
   "source": [
    "# Convert lists to sets\n",
    "ervs_set = set(ervs_list)\n",
    "overexpressed_set = set(ervs_overexpressed)\n",
    "\n",
    "# Find the intersection of the two sets\n",
    "intersection_set = ervs_set.intersection(overexpressed_set)\n",
    "\n",
    "# Convert the intersection set back to a list\n",
    "intersection_list = list(intersection_set)\n",
    "\n",
    "# Print the intersection list\n"
   ]
  },
  {
   "cell_type": "code",
   "execution_count": 72,
   "id": "800b1099-47d9-40b8-8df7-415fe1fb085c",
   "metadata": {},
   "outputs": [],
   "source": [
    "#asign a group to the overexpressed ERVs\n",
    "gene_to_group = filtered_df.set_index('ID')['Repbase'].to_dict()"
   ]
  },
  {
   "cell_type": "code",
   "execution_count": 73,
   "id": "54407eb1-1772-44a5-8cdc-32590569c76f",
   "metadata": {},
   "outputs": [
    {
     "name": "stdout",
     "output_type": "stream",
     "text": [
      "Gene ID: Hsap38.chr1.175103294.175103704.-, Group: HERV9NC-int|LTR/ERV1\n",
      "Gene ID: Hsap38.chr1.175103876.175104337.-, Group: HERV9NC-int|LTR/ERV1\n",
      "Gene ID: Hsap38.chr1.175104392.175105102.-, Group: HERV9NC-int|LTR/ERV1\n",
      "Gene ID: Hsap38.chr1.221968992.221969252.+, Group: HERVH-int|LTR/ERV1\n",
      "Gene ID: Hsap38.chr1.68389168.68389551.+, Group: HERVH-int|LTR/ERV1\n",
      "Gene ID: Hsap38.chr13.109267871.109268239.+, Group: HERVH-int|LTR/ERV1\n",
      "Gene ID: Hsap38.chr13.109268243.109268650.+, Group: HERVH-int|LTR/ERV1\n",
      "Gene ID: Hsap38.chr13.109268675.109268986.+, Group: HERVH-int|LTR/ERV1\n",
      "Gene ID: Hsap38.chr17.76608803.76609162.-, Group: HERVH-int|LTR/ERV1\n",
      "Gene ID: Hsap38.chr21.8999863.9000333.+, Group: Unknown\n",
      "Gene ID: Hsap38.chr3.128963729.128963980.+, Group: HERVH-int|LTR/ERV1\n",
      "Gene ID: Hsap38.chr3.146366733.146366975.+, Group: HERVH-int|LTR/ERV1\n",
      "Gene ID: Hsap38.chr5.1579643.1580821.-, Group: Unknown\n",
      "Gene ID: Hsap38.chr5.1581914.1582819.-, Group: Unknown\n",
      "Gene ID: Hsap38.chr5.1582941.1583480.-, Group: Unknown\n",
      "Gene ID: Hsap38.chr5.1583789.1584223.-, Group: Unknown\n",
      "Gene ID: Hsap38.chr7.93807148.93807543.+, Group: Unknown\n",
      "Gene ID: Hsap38.chr8.105790878.105791315.-, Group: Unknown\n",
      "Gene ID: Hsap38.chr8.33364150.33364647.+, Group: Unknown\n",
      "Gene ID: Hsap38.chrX.37483703.37484035.+, Group: HERVIP10FH-int|LTR/ERV1\n",
      "20\n",
      "Gene ID: Hsap38.chr1.221968992.221969252.+, Group: HERVH-int|LTR/ERV1\n",
      "Gene ID: Hsap38.chr1.175103876.175104337.-, Group: HERV9NC-int|LTR/ERV1\n",
      "Gene ID: Hsap38.chr3.146366733.146366975.+, Group: HERVH-int|LTR/ERV1\n",
      "Gene ID: Hsap38.chr1.68389168.68389551.+, Group: HERVH-int|LTR/ERV1\n",
      "Gene ID: Hsap38.chrX.37483703.37484035.+, Group: HERVIP10FH-int|LTR/ERV1\n",
      "Gene ID: Hsap38.chr13.109268675.109268986.+, Group: HERVH-int|LTR/ERV1\n",
      "Gene ID: Hsap38.chr7.93807148.93807543.+, Group: Unknown\n",
      "Gene ID: Hsap38.chr3.128963729.128963980.+, Group: HERVH-int|LTR/ERV1\n",
      "Gene ID: Hsap38.chr13.109268243.109268650.+, Group: HERVH-int|LTR/ERV1\n",
      "Gene ID: Hsap38.chr13.109267871.109268239.+, Group: HERVH-int|LTR/ERV1\n",
      "Gene ID: Hsap38.chr1.175104392.175105102.-, Group: HERV9NC-int|LTR/ERV1\n",
      "Gene ID: Hsap38.chr1.175103294.175103704.-, Group: HERV9NC-int|LTR/ERV1\n",
      "Gene ID: Hsap38.chr17.76608803.76609162.-, Group: HERVH-int|LTR/ERV1\n",
      "13\n"
     ]
    }
   ],
   "source": [
    "#HIGHLY OVEREXPRESSED \n",
    "ervs_group = {gene_id: gene_to_group.get(gene_id, 'Unknown') for gene_id in ervs_list}\n",
    "for gene_id, group in ervs_group.items():\n",
    "    print(f\"Gene ID: {gene_id}, Group: {group}\")\n",
    "print(len(ervs_group))\n",
    "\n",
    "ervs_group2 = {gene_id: gene_to_group.get(gene_id, 'Unknown') for gene_id in intersection_list}\n",
    "for gene_id, group in ervs_group2.items():\n",
    "    print(f\"Gene ID: {gene_id}, Group: {group}\")\n",
    "print(len(ervs_group2))"
   ]
  },
  {
   "cell_type": "code",
   "execution_count": 74,
   "id": "9ef3f51e-663e-456d-8560-b438c6b33824",
   "metadata": {},
   "outputs": [
    {
     "name": "stdout",
     "output_type": "stream",
     "text": [
      "Number of unique groups: 4\n",
      "Group: HERVH-int|LTR/ERV1, ERVs count: 8\n",
      "Group: HERV9NC-int|LTR/ERV1, ERVs count: 3\n",
      "Group: Unknown, ERVs count: 0\n",
      "Group: HERVIP10FH-int|LTR/ERV1, ERVs count: 1\n",
      "Number of unique groups: 4\n",
      "Group: HERVIP10FH-int|LTR/ERV1, ERVs count: 1\n",
      "Group: HERVH-int|LTR/ERV1, ERVs count: 8\n",
      "Group: Unknown, ERVs count: 0\n",
      "Group: HERV9NC-int|LTR/ERV1, ERVs count: 3\n"
     ]
    }
   ],
   "source": [
    "unique_groups = set(ervs_group.values())\n",
    "group_counts = {group: 0 for group in unique_groups}\n",
    "\n",
    "# Count the number of unique groups\n",
    "num_unique_groups = len(unique_groups)\n",
    "\n",
    "# Print the number of unique groups\n",
    "print(f\"Number of unique groups: {num_unique_groups}\")\n",
    "\n",
    "for group in ervs_group.values():\n",
    "    if group != 'Unknown':\n",
    "        group_counts[group] += 1\n",
    "\n",
    "for group, count in group_counts.items():\n",
    "    print(f\"Group: {group}, ERVs count: {count}\")\n",
    "\n",
    "\n",
    "#ONLY OVEREXPRESSED\n",
    "\n",
    "unique_groups = set(ervs_group2.values())\n",
    "group_counts = {group: 0 for group in unique_groups}\n",
    "\n",
    "# Count the number of unique groups\n",
    "num_unique_groups = len(unique_groups)\n",
    "\n",
    "# Print the number of unique groups\n",
    "print(f\"Number of unique groups: {num_unique_groups}\")\n",
    "\n",
    "for group in ervs_group2.values():\n",
    "    if group != 'Unknown':\n",
    "        group_counts[group] += 1\n",
    "\n",
    "for group, count in group_counts.items():\n",
    "    print(f\"Group: {group}, ERVs count: {count}\")"
   ]
  },
  {
   "cell_type": "code",
   "execution_count": 75,
   "id": "678c820b-c59a-4132-83bc-fb3695ca698f",
   "metadata": {},
   "outputs": [],
   "source": [
    "#nr of overexpressed ERVs belonging to LTR ERV 1 fam \n",
    "herv_h_int_total = 26\n",
    "herv_h_int_over = 8\n",
    "erv_over_total = 20 \n",
    "erv_total = 136\n",
    "\n",
    "pval = 0.11\n",
    "\n",
    "herv_k_int_total = 9\n",
    "herv_k_int_over = 4\n",
    "erv_over_total = 20 \n",
    "erv_total = 136\n",
    "pval = 0.09 \n",
    "\n",
    "#ONLY LOOKING AT OVEREXPRESSED HERVH-int|LTR/ERV1\n",
    "herv_k_int_total = 24   #number of ervs in this group \n",
    "herv_k_int_over = 8 #number of ervs in this group that are overexpressed\n",
    "erv_over_total = 12 #total number of overexpressed ervs \n",
    "erv_total = 102 #total nr of overexpressed ervs\n",
    "pval =  0.04\n",
    "\n"
   ]
  },
  {
   "cell_type": "markdown",
   "id": "c3cfdd56-8531-445d-8856-d4a6561e8ffd",
   "metadata": {},
   "source": [
    "#CONCLUSIONS\n",
    "8/12 highly overexpressed genes belong to HERVH-int|LTR/ERV1 (pval = 0.04) its also the biggest fam in my data so there doesn't need to be any corelation\n",
    "\n",
    "No corelation between the family and the fact whether the ERV is over or underexpressed- much more dependent of location \n",
    "\n",
    "\n"
   ]
  },
  {
   "cell_type": "markdown",
   "id": "186a17df-030d-41a4-b0bf-8ed7a1e54684",
   "metadata": {},
   "source": [
    "EXTRACT PROMOTER SEQUENCES AND RUN MEME ANALYSIS"
   ]
  },
  {
   "cell_type": "code",
   "execution_count": 76,
   "id": "3c6adecb-6e58-4c69-829f-1d372d097426",
   "metadata": {},
   "outputs": [
    {
     "name": "stdout",
     "output_type": "stream",
     "text": [
      "['Hsap38.chr1.221968992.221969252.+', 'Hsap38.chr1.175103876.175104337.-', 'Hsap38.chr3.146366733.146366975.+', 'Hsap38.chr1.68389168.68389551.+', 'Hsap38.chrX.37483703.37484035.+', 'Hsap38.chr13.109268675.109268986.+', 'Hsap38.chr7.93807148.93807543.+', 'Hsap38.chr3.128963729.128963980.+', 'Hsap38.chr13.109268243.109268650.+', 'Hsap38.chr13.109267871.109268239.+', 'Hsap38.chr1.175104392.175105102.-', 'Hsap38.chr1.175103294.175103704.-', 'Hsap38.chr17.76608803.76609162.-']\n"
     ]
    }
   ],
   "source": [
    "ervs_of_int = intersection_list\n",
    "print(ervs_of_int)\n",
    "chromosomes = {'3': '/work/iku/exp1019-cancer-epigenetics-and-ervs/01_BS_and_ERV/chom_seq/chr3.fa',\n",
    "               '1': '/work/iku/exp1019-cancer-epigenetics-and-ervs/01_BS_and_ERV/chom_seq/chr1.fa',\n",
    "               '13': '/work/iku/exp1019-cancer-epigenetics-and-ervs/01_BS_and_ERV/chom_seq/chr13.fa',\n",
    "               'X': '/work/iku/exp1019-cancer-epigenetics-and-ervs/01_BS_and_ERV/chom_seq/chrX.fa',\n",
    "               '7': '/work/iku/exp1019-cancer-epigenetics-and-ervs/01_BS_and_ERV/chom_seq/chr7.fa',\n",
    "               '17': '/work/iku/exp1019-cancer-epigenetics-and-ervs/01_BS_and_ERV/chom_seq/chr3.fa'\n",
    "              }\n",
    "\n"
   ]
  },
  {
   "cell_type": "code",
   "execution_count": 77,
   "id": "5514c1be-cec0-4849-9af9-ff27951ef187",
   "metadata": {},
   "outputs": [],
   "source": [
    "def extract_chrom(name, animal):\n",
    "    pattern = r\"^{}\\.chr([^.]+)\\.\".format(animal)\n",
    "    match = re.search(pattern, name)\n",
    "    if match:\n",
    "        chrom = match.group(1)\n",
    "        return chrom\n",
    "    else:\n",
    "        return None  # Return None if no match is found\n",
    "\n",
    "def extract_start_pos(name, animal):\n",
    "    pattern = r\"^{}\\.[^.]+\\.([^.]+)\\.\".format(animal)\n",
    "    match = re.search(pattern, name)\n",
    "    if match:\n",
    "        start_pos = int(match.group(1))\n",
    "        return start_pos\n",
    "    else:\n",
    "        return None  # Return None if no match is found\n",
    "\n",
    "def extract_end_pos(name, animal):\n",
    "    pattern = r\"^{}\\.[^.]+\\.[^.]+\\.([^.]+)\\.\".format(animal)\n",
    "    match = re.search(pattern, name)\n",
    "    if match:\n",
    "        end_pos = int(match.group(1))\n",
    "        return end_pos\n",
    "    else:\n",
    "        return None  # Return None if no match is found\n",
    "\n",
    "def extract_sequence(fasta_file, start, end):\n",
    "    sequence = \"\"\n",
    "    with open(fasta_file, \"r\") as f:\n",
    "        # Skip header lines starting with '>'\n",
    "        for line in f:\n",
    "            if line.startswith(\">\"):\n",
    "                continue\n",
    "            # Concatenate sequence lines\n",
    "            sequence += line.strip()\n",
    "    # Find the sequence based on the provided coordinates\n",
    "    sequence = sequence[(start - 1):end]\n",
    "    return sequence\n",
    "    "
   ]
  },
  {
   "cell_type": "markdown",
   "id": "3e2a7cf3-98a4-47bd-b231-bc30fc04c5a8",
   "metadata": {},
   "source": [
    "ERVS of int = "
   ]
  },
  {
   "cell_type": "code",
   "execution_count": 78,
   "id": "d8baeb7e-f8fa-47c9-94ca-7b84e57466b6",
   "metadata": {},
   "outputs": [],
   "source": [
    "promotor_seqs = {}\n",
    "for erv in ervs_of_int:\n",
    "    chrom = extract_chrom(erv, 'Hsap38')\n",
    "    chrom_file = chromosomes[chrom]\n",
    "    start = extract_start_pos(erv, 'Hsap38')\n",
    "    end = extract_end_pos(erv, 'Hsap38')\n",
    "    #seq = extract_sequence(chrom_file, start - 30000, end + 30000)\n",
    "    #modify to only save the bp around not in the actual ERV\n",
    "    seq2 = extract_sequence(chrom_file, start - 30000, start)\n",
    "    seq3 = extract_sequence(chrom_file, end, end + 30000)\n",
    "    \n",
    "\n",
    "    #promotor_seqs[erv] = seq\n",
    "    promotor_seqs[erv] = seq2 + seq3\n",
    "\n",
    "#print(promotor_seqs)\n",
    "\n",
    "    "
   ]
  },
  {
   "cell_type": "code",
   "execution_count": 79,
   "id": "6134c097-7454-466a-84ac-39fd800da1ba",
   "metadata": {},
   "outputs": [],
   "source": [
    "def save_sequences_to_fasta(promoter_dict):\n",
    "    # Create a list to store all sequences\n",
    "    all_sequences = []\n",
    "\n",
    "    for key, sequence in promoter_dict.items():\n",
    "        # Create a filename with .fa extension for each sequence\n",
    "        filename = f\"/work/iku/exp1019-cancer-epigenetics-and-ervs/01_BS_and_ERV/promoter_seqs/{key}.fa\"\n",
    "        # Write sequence to a separate FASTA file\n",
    "        with open(filename, 'w') as out_file:\n",
    "            out_file.write(f\">{key}\\n{sequence}\\n\")\n",
    "        \n",
    "        # Append the sequence to the list of all sequences\n",
    "        all_sequences.append(f\">{key}\\n{sequence}\\n\")\n",
    "    \n",
    "    # Write all sequences to a single merged FASTA file\n",
    "    merged_filename = \"/work/iku/exp1019-cancer-epigenetics-and-ervs/01_BS_and_ERV/promoter_seqs/sin_ervs_all_sequences.fa\"\n",
    "    with open(merged_filename, 'w') as merged_file:\n",
    "        merged_file.write(\"\".join(all_sequences))"
   ]
  },
  {
   "cell_type": "code",
   "execution_count": 80,
   "id": "1a1ee6a2-09ce-4390-bc80-1b024b33b386",
   "metadata": {},
   "outputs": [],
   "source": [
    "save_sequences_to_fasta(promotor_seqs)"
   ]
  },
  {
   "cell_type": "markdown",
   "id": "6cdd5bc2-4c37-4d90-9357-3a6e54eda1fb",
   "metadata": {},
   "source": [
    "NZM"
   ]
  },
  {
   "cell_type": "code",
   "execution_count": 3,
   "id": "f8577808-2eda-4518-8281-a40dc49c00b7",
   "metadata": {},
   "outputs": [],
   "source": [
    "columns = ['gene_id', 'log2foldchange'] \n",
    "genes = pd.read_csv('NZM_genes_diff_expr.tsv', sep = '\\t', names = columns)\n",
    "ervs = pd.read_csv('NZM_ERV_diff_expr.tsv', sep = '\\t', names = columns)"
   ]
  },
  {
   "cell_type": "code",
   "execution_count": 4,
   "id": "c169710c-5ab2-487d-bd63-2f02f531854c",
   "metadata": {},
   "outputs": [],
   "source": [
    "columns = ['seqname', 'source', 'feature', 'start', 'end', 'score','strand','frame', 'attribute']\n",
    "\n",
    "ensembl_gtf = pd.read_csv('/work/iku/exp1019-cancer-epigenetics-and-ervs/reference/GRCh38-104/ensembl+geve/GRCh38-104.with_geve_v1.gtf', sep = '\\t', skiprows = 5, dtype = {0:'str', 7:'str'}, names = columns ) #tego typu 7 nie jestem pewna"
   ]
  },
  {
   "cell_type": "code",
   "execution_count": 5,
   "id": "5ae05f65-2217-47c7-a1bd-ecc5061f4213",
   "metadata": {},
   "outputs": [],
   "source": [
    "def get_gene_id(df):\n",
    "    df = df.copy()\n",
    "    pattern = r'gene_id \"(.*?)\"'\n",
    "    df['gene_id'] = df['attribute'].str.extract(pattern)\n",
    "    return df "
   ]
  },
  {
   "cell_type": "code",
   "execution_count": 6,
   "id": "feaf685a-5f8a-4524-88a7-16887ae28555",
   "metadata": {},
   "outputs": [],
   "source": [
    "ensembl_gtf = get_gene_id(ensembl_gtf)"
   ]
  },
  {
   "cell_type": "code",
   "execution_count": 7,
   "id": "821f22cc-9ceb-4182-a1a4-af60486e073c",
   "metadata": {},
   "outputs": [],
   "source": [
    "merged_genes = pd.merge(ensembl_gtf, genes, on = ['gene_id'])\n",
    "merged_ervs = pd.merge(ensembl_gtf, ervs, on = ['gene_id'])"
   ]
  },
  {
   "cell_type": "code",
   "execution_count": 8,
   "id": "c912d84b-b238-4f90-8d5c-9780aeb7a638",
   "metadata": {},
   "outputs": [],
   "source": [
    "merged_genes = merged_genes[merged_genes['feature'] == 'gene']\n",
    "merged_ervs = merged_ervs[merged_ervs['feature'] == 'transcript']\n",
    "genes_df = merged_genes[['seqname', 'start', 'end', 'gene_id', 'log2foldchange']]"
   ]
  },
  {
   "cell_type": "code",
   "execution_count": 9,
   "id": "7e254001-1b76-48f8-938a-049e0c711d7e",
   "metadata": {},
   "outputs": [
    {
     "name": "stderr",
     "output_type": "stream",
     "text": [
      "/tmp/ipykernel_1870628/3733781480.py:2: SettingWithCopyWarning: \n",
      "A value is trying to be set on a copy of a slice from a DataFrame.\n",
      "Try using .loc[row_indexer,col_indexer] = value instead\n",
      "\n",
      "See the caveats in the documentation: https://pandas.pydata.org/pandas-docs/stable/user_guide/indexing.html#returning-a-view-versus-a-copy\n",
      "  genes_df['log2foldchange'] = genes_df['log2foldchange'].astype(float)\n",
      "/tmp/ipykernel_1870628/3733781480.py:3: SettingWithCopyWarning: \n",
      "A value is trying to be set on a copy of a slice from a DataFrame.\n",
      "Try using .loc[row_indexer,col_indexer] = value instead\n",
      "\n",
      "See the caveats in the documentation: https://pandas.pydata.org/pandas-docs/stable/user_guide/indexing.html#returning-a-view-versus-a-copy\n",
      "  genes_df.loc[:, 'upregulated'] = genes_df['log2foldchange'] > 0\n"
     ]
    }
   ],
   "source": [
    "#add info about whether the gene is up or downregulated and only keep the up regulated ones\n",
    "genes_df['log2foldchange'] = genes_df['log2foldchange'].astype(float)\n",
    "genes_df.loc[:, 'upregulated'] = genes_df['log2foldchange'] > 0\n",
    "#genes_df = genes_df[genes_df['upregulated'] == True ]\n",
    "genes_df = genes_df[genes_df['upregulated'] != True ]"
   ]
  },
  {
   "cell_type": "code",
   "execution_count": 21,
   "id": "60bf2bc9-841b-48f2-9114-8071628ad130",
   "metadata": {},
   "outputs": [
    {
     "name": "stdout",
     "output_type": "stream",
     "text": [
      "           seqname    start      end  log2foldchange  expr\n",
      "0                1  1203508  1206592       -5.522503   -50\n",
      "1                1  1203508  1206571       -5.522503   -50\n",
      "2                1  1206385  1206571       -5.522503   -50\n",
      "3                1  1206385  1206571       -5.522503   -50\n",
      "4                1  1206569  1206571       -5.522503   -50\n",
      "...            ...      ...      ...             ...   ...\n",
      "111352  KI270734.1   138483   138667        5.816585    50\n",
      "111353  KI270734.1   138480   138482        5.816585    50\n",
      "111354  KI270734.1   161689   161750        5.816585    50\n",
      "111355  KI270734.1   156447   156497        5.816585    50\n",
      "111356  KI270734.1   138082   138479        5.816585    50\n",
      "\n",
      "[111357 rows x 5 columns]\n"
     ]
    }
   ],
   "source": []
  },
  {
   "cell_type": "code",
   "execution_count": 10,
   "id": "d4369bdc-6ff9-4e9d-b02a-ea351f326195",
   "metadata": {},
   "outputs": [],
   "source": [
    "def closest_up_gene(row, genes_df):\n",
    "    # Only look on the same chromosomes\n",
    "    genes_df = genes_df[genes_df['seqname'] == row['seqname']]\n",
    "    if genes_df.empty:\n",
    "        print('No overexpressed genes on this chromosome! ', row['seqname'])\n",
    "        return 0 \n",
    "    else:\n",
    "        # Calculate min distances to start and end of the gene\n",
    "        genes_df['distance_to_start'] = np.minimum(abs(row['start'] - genes_df['start']), abs(row['end'] - genes_df['start']))\n",
    "        genes_df['distance_to_end'] = np.minimum(abs(row['start'] - genes_df['end']), abs(row['end'] - genes_df['end']))\n",
    "        \n",
    "        min_distance_to_start = genes_df['distance_to_start'].min()\n",
    "        min_distance_to_end = genes_df['distance_to_end'].min()\n",
    "        \n",
    "        min_distance = min(min_distance_to_start, min_distance_to_end)\n",
    "        return min_distance\n"
   ]
  },
  {
   "cell_type": "code",
   "execution_count": 12,
   "id": "9eabf2e6-d06d-4e1e-baf1-6623a75b03ed",
   "metadata": {},
   "outputs": [],
   "source": [
    "merged_ervs['gene_dist'] = merged_ervs.apply(closest_up_gene, args=(genes_df,), axis=1)"
   ]
  },
  {
   "cell_type": "code",
   "execution_count": 13,
   "id": "afeb000a-7a21-4353-a125-b227106b6e49",
   "metadata": {},
   "outputs": [],
   "source": [
    "#add info whether the gene is up or down regulated:\n",
    "merged_ervs['log2foldchange'] = merged_ervs['log2foldchange'].astype(float)\n",
    "merged_ervs.loc[:, 'upregulated'] = merged_ervs['log2foldchange'] > 0"
   ]
  },
  {
   "cell_type": "code",
   "execution_count": 14,
   "id": "986f85c0-79e2-429e-a007-abeea9305f2f",
   "metadata": {},
   "outputs": [
    {
     "name": "stderr",
     "output_type": "stream",
     "text": [
      "/tmp/ipykernel_1870628/3356689240.py:5: UserWarning: The palette list has more values (6) than needed (2), which may not be intended.\n",
      "  plot = sns.displot(merged_ervs, x=\"gene_dist\", hue=\"upregulated\", kind=\"kde\", palette=custom_palette, fill=True, legend=True)\n"
     ]
    },
    {
     "data": {
      "image/png": "[encoded data removed]",
      "text/plain": [
       "<Figure size 595.736x500 with 1 Axes>"
      ]
     },
     "metadata": {},
     "output_type": "display_data"
    }
   ],
   "source": [
    "# Choose a color palette\n",
    "custom_palette = sns.color_palette(\"husl\")\n",
    "\n",
    "# Plot\n",
    "plot = sns.displot(merged_ervs, x=\"gene_dist\", hue=\"upregulated\", kind=\"kde\", palette=custom_palette, fill=True, legend=True)\n",
    "\n",
    "# Set axis labels and title\n",
    "plot.set_axis_labels(\"Distance from the closest upregulated gene\", \"Density\")\n",
    "plot.fig.suptitle(\"Distribution of ERV distance from the closest upregulated gene \\n by Upregulation Status\", y=1.05)\n",
    "\n",
    "# Adjust legend position\n",
    "plot._legend.set_bbox_to_anchor((1, 0.5))\n",
    "\n",
    "# Turn on gridlines\n",
    "plt.grid(True)\n",
    "\n",
    "# Save plot with higher quality and tight layout\n",
    "plt.savefig('NZM_distr_erv_to_gene_dist.jpg', dpi=300, bbox_inches='tight')\n",
    "\n",
    "# Show plot\n",
    "plt.show()\n"
   ]
  },
  {
   "cell_type": "code",
   "execution_count": null,
   "id": "6892de55-8635-4053-9af9-c9f9aa83d4fb",
   "metadata": {},
   "outputs": [],
   "source": []
  },
  {
   "cell_type": "code",
   "execution_count": 38,
   "id": "8c54845b-5d72-4f3b-a2fc-3bdefb532d9f",
   "metadata": {},
   "outputs": [
    {
     "name": "stderr",
     "output_type": "stream",
     "text": [
      "/tmp/ipykernel_1451510/3044542442.py:5: UserWarning: The palette list has more values (6) than needed (2), which may not be intended.\n",
      "  plot = sns.displot(\n"
     ]
    },
    {
     "data": {
      "image/png": "[encoded data removed]",
      "text/plain": [
       "<Figure size 595.736x500 with 1 Axes>"
      ]
     },
     "metadata": {},
     "output_type": "display_data"
    }
   ],
   "source": [
    "\n",
    "# Choose a color palette\n",
    "custom_palette = sns.color_palette(\"husl\")\n",
    "\n",
    "# Plot KDE\n",
    "plot = sns.displot(\n",
    "    merged_ervs, \n",
    "    x=\"gene_dist\", \n",
    "    hue=\"upregulated\", \n",
    "    kind=\"kde\", \n",
    "    palette=custom_palette, \n",
    "    fill=True, \n",
    "    legend=True\n",
    ")\n",
    "\n",
    "# Add points for downregulated genes\n",
    "downregulated_data = merged_ervs[merged_ervs['upregulated']== False]\n",
    "sns.scatterplot(\n",
    "    data=downregulated_data, \n",
    "    x=\"gene_dist\", \n",
    "    y=[0] * len(downregulated_data),  # y-values at zero to place points on the x-axis\n",
    "    color='black', \n",
    "    marker='D',  # Diamond marker\n",
    "    s=100, \n",
    "    label='Downregulated genes', \n",
    "    ax=plot.ax\n",
    ")\n",
    "\n",
    "# Set axis labels and title\n",
    "plot.set_axis_labels(\"Distance from the closest upregulated gene\", \"Density\")\n",
    "plot.fig.suptitle(\"Distribution of ERV distance from the closest upregulated gene \\n by Upregulation Status\", y=1.05)\n",
    "\n",
    "# Adjust legend position\n",
    "plot._legend.set_bbox_to_anchor((1, 0.5))\n",
    "\n",
    "# Turn on gridlines\n",
    "plot.ax.grid(True)\n",
    "\n",
    "# Save plot with higher quality and tight layout\n",
    "plt.savefig('NZM_distr_erv_to_gene_dist.jpg', dpi=300, bbox_inches='tight')\n",
    "\n",
    "# Show plot\n",
    "plt.show()\n"
   ]
  },
  {
   "cell_type": "code",
   "execution_count": 94,
   "id": "39b80ab1-89d4-4311-9d70-7ae214719ef7",
   "metadata": {},
   "outputs": [
    {
     "name": "stderr",
     "output_type": "stream",
     "text": [
      "/tmp/ipykernel_1451510/3805516079.py:16: UserWarning: The palette list has more values (6) than needed (2), which may not be intended.\n",
      "  plot = sns.displot(\n",
      "/tmp/ipykernel_1451510/3805516079.py:16: UserWarning: Dataset has 0 variance; skipping density estimate. Pass `warn_singular=False` to disable this warning.\n",
      "  plot = sns.displot(\n"
     ]
    },
    {
     "data": {
      "image/png": "[encoded data removed]",
      "text/plain": [
       "<Figure size 595.736x500 with 1 Axes>"
      ]
     },
     "metadata": {},
     "output_type": "display_data"
    }
   ],
   "source": [
    "# Add upregulated column based on log2foldchange\n",
    "merged_ervs['log2foldchange'] = merged_ervs['log2foldchange'].astype(float)\n",
    "merged_ervs['upregulated'] = merged_ervs['log2foldchange'] > 0\n",
    "merged_ervs['downregulated'] = merged_ervs['log2foldchange'] < 0\n",
    "\n",
    "# Identify the row where upregulated = False and gene_dist has the highest value\n",
    "idx_to_drop = merged_ervs.loc[merged_ervs['upregulated'] == False, 'gene_dist'].idxmax()\n",
    "\n",
    "# Drop the identified row\n",
    "merged_ervs = merged_ervs.drop(idx_to_drop).reset_index(drop=True)\n",
    "\n",
    "# Choose a color palette\n",
    "custom_palette = sns.color_palette(\"husl\")\n",
    "\n",
    "# Plot KDE\n",
    "plot = sns.displot(\n",
    "    merged_ervs, \n",
    "    x=\"gene_dist\", \n",
    "    hue=\"upregulated\", \n",
    "    kind=\"kde\", \n",
    "    palette=custom_palette, \n",
    "    fill=True, \n",
    "    legend=True\n",
    ")\n",
    "\n",
    "# Add points for downregulated genes\n",
    "downregulated_data = merged_ervs[merged_ervs['downregulated']]\n",
    "sns.scatterplot(\n",
    "    data=downregulated_data, \n",
    "    x=\"gene_dist\", \n",
    "    y=[0] * len(downregulated_data),  # y-values at zero to place points on the x-axis\n",
    "    color='black', \n",
    "    marker='D',  # Diamond marker\n",
    "    s=100,  # Size of the marker\n",
    "    label='Downregulated genes', \n",
    "    ax=plot.ax\n",
    ")\n",
    "\n",
    "# Set axis labels and title\n",
    "plot.set_axis_labels(\"Distance from the closest upregulated gene\", \"Density\")\n",
    "plot.fig.suptitle(\"Distribution of ERV distance from the closest upregulated gene \\n by Upregulation Status\", y=1.05)\n",
    "\n",
    "# Adjust legend position\n",
    "plot._legend.set_bbox_to_anchor((1, 0.5))\n",
    "\n",
    "# Turn on gridlines\n",
    "plot.ax.grid(True)\n",
    "\n",
    "# Save plot with higher quality and tight layout\n",
    "plt.savefig('NZM_distr_erv_to_gene_dist.jpg', dpi=300, bbox_inches='tight')\n",
    "\n",
    "# Show plot\n",
    "plt.show()\n"
   ]
  },
  {
   "cell_type": "code",
   "execution_count": 42,
   "id": "e6c12d1e-79f3-4d37-b8fd-170e54859c7a",
   "metadata": {},
   "outputs": [],
   "source": [
    "def count_gene_around_erv(erv_df, gene_df, threshold_distance):\n",
    "    gene_around_erv_count = 0\n",
    "    no_gene_around_erv_count = 0\n",
    "\n",
    "    # Iterate over each ERV region\n",
    "    for _, row_erv in erv_df.iterrows():\n",
    "        # Find genes within ±50 kb of the ERV region\n",
    "        genes_within_range = gene_df[(gene_df['start'] >= abs(row_erv['start'] - threshold_distance)) &\n",
    "                                      (gene_df['end'] <= abs(row_erv['end'] + threshold_distance))]\n",
    "        # If genes are found, increment the count\n",
    "        if not genes_within_range.empty:\n",
    "            gene_around_erv_count += 1\n",
    "        else:\n",
    "            no_gene_around_erv_count += 1\n",
    "    print('gene_around_erv_count: ', gene_around_erv_count)\n",
    "    print('no_gene_around_erv_count: ', no_gene_around_erv_count)\n",
    "    return gene_around_erv_count, no_gene_around_erv_count"
   ]
  },
  {
   "cell_type": "code",
   "execution_count": 56,
   "id": "4d387aed-3b76-4fa5-803e-7228e8ccb9bb",
   "metadata": {},
   "outputs": [
    {
     "name": "stdout",
     "output_type": "stream",
     "text": [
      "   seqname source     feature      start        end score strand frame  \\\n",
      "0       12   geve  transcript  127155087  127155659     .      +     0   \n",
      "1       12   geve  transcript  127155953  127156498     .      +     0   \n",
      "2       12   geve  transcript   65550104   65551864     .      -     0   \n",
      "4       16   geve  transcript   35519171   35519536     .      +     0   \n",
      "5       16   geve  transcript   35520304   35520693     .      +     0   \n",
      "6       19   geve  transcript   20810822   20811718     .      +     0   \n",
      "8       22   geve  transcript   18941587   18942399     .      +     0   \n",
      "9       22   geve  transcript   18943304   18946927     .      +     0   \n",
      "10       3   geve  transcript  113025711  113027561     .      -     0   \n",
      "11       3   geve  transcript  148566333  148567736     .      -     0   \n",
      "12       3   geve  transcript  185564943  185567849     .      -     0   \n",
      "13       3   geve  transcript  185567813  185570923     .      -     0   \n",
      "14       4   geve  transcript   53725643   53727496     .      +     0   \n",
      "15       4   geve  transcript   53738574   53739389     .      +     0   \n",
      "16       6   geve  transcript   77717862   77719964     .      -     0   \n",
      "17       6   geve  transcript   77721915   77722496     .      -     0   \n",
      "18       6   geve  transcript   77723266   77725533     .      -     0   \n",
      "19       7   geve  transcript   12663536   12664183     .      +     0   \n",
      "20       7   geve  transcript    4583351    4585456     .      -     0   \n",
      "21       7   geve  transcript    4585152    4588019     .      -     0   \n",
      "22       7   geve  transcript    4587983    4588984     .      -     0   \n",
      "23       7   geve  transcript    4591855    4593960     .      -     0   \n",
      "24       7   geve  transcript    4593656    4596523     .      -     0   \n",
      "25       7   geve  transcript    4597292    4598194     .      -     0   \n",
      "26       7   geve  transcript    4598198    4599559     .      -     0   \n",
      "27       8   geve  transcript   29762415   29763893     .      +     0   \n",
      "28       9   geve  transcript  106608616  106609743     .      +     0   \n",
      "\n",
      "                                            attribute  \\\n",
      "0   gene_id \"Hsap38.chr12.127155087.127155659.+\"; ...   \n",
      "1   gene_id \"Hsap38.chr12.127155953.127156498.+\"; ...   \n",
      "2   gene_id \"Hsap38.chr12.65550104.65551864.-\"; tr...   \n",
      "4   gene_id \"Hsap38.chr16.35519171.35519536.+\"; tr...   \n",
      "5   gene_id \"Hsap38.chr16.35520304.35520693.+\"; tr...   \n",
      "6   gene_id \"Hsap38.chr19.20810822.20811718.+\"; tr...   \n",
      "8   gene_id \"Hsap38.chr22.18941587.18942399.+\"; tr...   \n",
      "9   gene_id \"Hsap38.chr22.18943304.18946927.+\"; tr...   \n",
      "10  gene_id \"Hsap38.chr3.113025711.113027561.-\"; t...   \n",
      "11  gene_id \"Hsap38.chr3.148566333.148567736.-\"; t...   \n",
      "12  gene_id \"Hsap38.chr3.185564943.185567849.-\"; t...   \n",
      "13  gene_id \"Hsap38.chr3.185567813.185570923.-\"; t...   \n",
      "14  gene_id \"Hsap38.chr4.53725643.53727496.+\"; tra...   \n",
      "15  gene_id \"Hsap38.chr4.53738574.53739389.+\"; tra...   \n",
      "16  gene_id \"Hsap38.chr6.77717862.77719964.-\"; tra...   \n",
      "17  gene_id \"Hsap38.chr6.77721915.77722496.-\"; tra...   \n",
      "18  gene_id \"Hsap38.chr6.77723266.77725533.-\"; tra...   \n",
      "19  gene_id \"Hsap38.chr7.12663536.12664183.+\"; tra...   \n",
      "20  gene_id \"Hsap38.chr7.4583351.4585456.-\"; trans...   \n",
      "21  gene_id \"Hsap38.chr7.4585152.4588019.-\"; trans...   \n",
      "22  gene_id \"Hsap38.chr7.4587983.4588984.-\"; trans...   \n",
      "23  gene_id \"Hsap38.chr7.4591855.4593960.-\"; trans...   \n",
      "24  gene_id \"Hsap38.chr7.4593656.4596523.-\"; trans...   \n",
      "25  gene_id \"Hsap38.chr7.4597292.4598194.-\"; trans...   \n",
      "26  gene_id \"Hsap38.chr7.4598198.4599559.-\"; trans...   \n",
      "27  gene_id \"Hsap38.chr8.29762415.29763893.+\"; tra...   \n",
      "28  gene_id \"Hsap38.chr9.106608616.106609743.+\"; t...   \n",
      "\n",
      "                               gene_id  log2foldchange  gene_dist  upregulated  \n",
      "0   Hsap38.chr12.127155087.127155659.+        4.821290    1492710         True  \n",
      "1   Hsap38.chr12.127155953.127156498.+        3.534131    1493576         True  \n",
      "2     Hsap38.chr12.65550104.65551864.-        4.968854      83284         True  \n",
      "4     Hsap38.chr16.35519171.35519536.+        6.086834      38690         True  \n",
      "5     Hsap38.chr16.35520304.35520693.+        3.709916      39823         True  \n",
      "6     Hsap38.chr19.20810822.20811718.+        4.552173    3116070         True  \n",
      "8     Hsap38.chr22.18941587.18942399.+       23.619816       5176         True  \n",
      "9     Hsap38.chr22.18943304.18946927.+       27.918785        805         True  \n",
      "10   Hsap38.chr3.113025711.113027561.-        8.182507   12738955         True  \n",
      "11   Hsap38.chr3.148566333.148567736.-        5.121744    6881448         True  \n",
      "12   Hsap38.chr3.185564943.185567849.-       23.209451    5699319         True  \n",
      "13   Hsap38.chr3.185567813.185570923.-        5.696185    5696245         True  \n",
      "14     Hsap38.chr4.53725643.53727496.+        6.611605       9660         True  \n",
      "15     Hsap38.chr4.53738574.53739389.+        4.437374       1418         True  \n",
      "16     Hsap38.chr6.77717862.77719964.-        9.827901    6408803         True  \n",
      "17     Hsap38.chr6.77721915.77722496.-        8.342181    6412856         True  \n",
      "18     Hsap38.chr6.77723266.77725533.-       10.110794    6414207         True  \n",
      "19     Hsap38.chr7.12663536.12664183.+        6.903861       3354         True  \n",
      "20       Hsap38.chr7.4583351.4585456.-        8.578152    3527728         True  \n",
      "21       Hsap38.chr7.4585152.4588019.-       13.124294    3525165         True  \n",
      "22       Hsap38.chr7.4587983.4588984.-        8.888132    3524200         True  \n",
      "23       Hsap38.chr7.4591855.4593960.-        8.578152    3519224         True  \n",
      "24       Hsap38.chr7.4593656.4596523.-        9.007895    3516661         True  \n",
      "25       Hsap38.chr7.4597292.4598194.-        9.932086    3514990         True  \n",
      "26       Hsap38.chr7.4598198.4599559.-        6.615557    3513625         True  \n",
      "27     Hsap38.chr8.29762415.29763893.+        4.610024      14106         True  \n",
      "28   Hsap38.chr9.106608616.106609743.+        4.470110    6741725         True  \n"
     ]
    }
   ],
   "source": [
    "upregulated_ervs = merged_ervs[merged_ervs['upregulated'] == True]\n",
    "downregulated_ervs = merged_ervs[merged_ervs['upregulated'] == False]\n",
    "\n",
    "print(upregulated_ervs)"
   ]
  },
  {
   "cell_type": "code",
   "execution_count": 55,
   "id": "08eaaa2f-33f2-4279-a047-dd3c8c1b8d43",
   "metadata": {},
   "outputs": [
    {
     "name": "stdout",
     "output_type": "stream",
     "text": [
      "gene_around_erv_count:  4\n",
      "no_gene_around_erv_count:  23\n",
      "gene_around_erv_count:  0\n",
      "no_gene_around_erv_count:  2\n"
     ]
    }
   ],
   "source": [
    "#DOESNT GIVE ANY INTERESTING INSIGHTS\n",
    "\n",
    "#x,y = count_gene_around_erv(upregulated_ervs, genes_df, 30000)\n",
    "\n",
    "#m,n = count_gene_around_erv(downregulated_ervs, genes_df, 30000)\n",
    "\n",
    "x,y = count_gene_around_erv(upregulated_ervs, genes_df, 30000)"
   ]
  },
  {
   "cell_type": "code",
   "execution_count": 58,
   "id": "94aefb3f-639a-4d7f-a0da-f2a86bb83433",
   "metadata": {},
   "outputs": [],
   "source": [
    "rsem_s1 = pd.read_csv('/work/iku/exp1019-cancer-epigenetics-and-ervs/01_BS_and_ERV/results/03_rsem/raw/NZM/1_RNA-Seq_SRR12121871.genes.results', sep = '\\t')\n",
    "rsem_s2 = pd.read_csv('/work/iku/exp1019-cancer-epigenetics-and-ervs/01_BS_and_ERV/results/03_rsem/raw/NZM/2_RNA-Seq_SRR12121872.genes.results', sep = '\\t')\n",
    "rsem_s3 = pd.read_csv('/work/iku/exp1019-cancer-epigenetics-and-ervs/01_BS_and_ERV/results/03_rsem/raw/NZM/3_RNA-Seq_SRR12121873.genes.results', sep = '\\t')\n",
    "rsem_s4 = pd.read_csv('/work/iku/exp1019-cancer-epigenetics-and-ervs/01_BS_and_ERV/results/03_rsem/raw/NZM/4_RNA-Seq_SRR12121874.genes.results', sep = '\\t')\n",
    "rsem_s5 = pd.read_csv('/work/iku/exp1019-cancer-epigenetics-and-ervs/01_BS_and_ERV/results/03_rsem/raw/NZM/5_RNA-Seq_SRR12121875.genes.results', sep = '\\t')\n",
    "rsem_s6 = pd.read_csv('/work/iku/exp1019-cancer-epigenetics-and-ervs/01_BS_and_ERV/results/03_rsem/raw/NZM/6_RNA-Seq_SRR12121876.genes.results', sep = '\\t')\n",
    "rsem_s7 = pd.read_csv('/work/iku/exp1019-cancer-epigenetics-and-ervs/01_BS_and_ERV/results/03_rsem/raw/NZM/7_RNA-Seq_SRR12121877.genes.results', sep = '\\t')\n",
    "rsem_s8 = pd.read_csv('/work/iku/exp1019-cancer-epigenetics-and-ervs/01_BS_and_ERV/results/03_rsem/raw/NZM/8_RNA-Seq_SRR12121878.genes.results', sep = '\\t')\n",
    "rsem_s9 = pd.read_csv('/work/iku/exp1019-cancer-epigenetics-and-ervs/01_BS_and_ERV/results/03_rsem/raw/NZM/9_RNA-Seq_SRR12121879.genes.results', sep = '\\t')"
   ]
  },
  {
   "cell_type": "code",
   "execution_count": 59,
   "id": "f7b4e38d-4b28-40ab-a65d-e2ed2986b666",
   "metadata": {},
   "outputs": [],
   "source": [
    "#read in the overexpressed ERVs that we got form DESEQ2 \n",
    "file = open('NZM_ERV_names.txt')\n",
    "\n",
    "overexpressed_ERVs = file.read() \n",
    "overexpressed_ERVs_list = overexpressed_ERVs.split('\\n')[:-1]"
   ]
  },
  {
   "cell_type": "code",
   "execution_count": 60,
   "id": "bea2b5ea-694a-4d6d-a0c0-80f3c2a87412",
   "metadata": {},
   "outputs": [],
   "source": [
    "rsem_erv_1 = rsem_s1[rsem_s1['gene_id'].isin(overexpressed_ERVs_list)]\n",
    "rsem_erv_2 = rsem_s2[rsem_s2['gene_id'].isin(overexpressed_ERVs_list)]\n",
    "rsem_erv_3 = rsem_s3[rsem_s3['gene_id'].isin(overexpressed_ERVs_list)]\n",
    "rsem_erv_4 = rsem_s4[rsem_s4['gene_id'].isin(overexpressed_ERVs_list)]\n",
    "rsem_erv_5 = rsem_s5[rsem_s5['gene_id'].isin(overexpressed_ERVs_list)]\n",
    "rsem_erv_6 = rsem_s6[rsem_s6['gene_id'].isin(overexpressed_ERVs_list)]\n",
    "rsem_erv_7 = rsem_s7[rsem_s7['gene_id'].isin(overexpressed_ERVs_list)]\n",
    "rsem_erv_8 = rsem_s8[rsem_s8['gene_id'].isin(overexpressed_ERVs_list)]\n",
    "rsem_erv_9 = rsem_s9[rsem_s9['gene_id'].isin(overexpressed_ERVs_list)]"
   ]
  },
  {
   "cell_type": "code",
   "execution_count": 61,
   "id": "bf7967b1-57a8-4bb7-9dd6-eb23ca500672",
   "metadata": {},
   "outputs": [],
   "source": [
    "rsem_erv_1 = rsem_erv_1[['gene_id', 'TPM']]\n",
    "rsem_erv_2 = rsem_erv_2[['gene_id', 'TPM']]\n",
    "rsem_erv_3 = rsem_erv_3[['gene_id', 'TPM']]\n",
    "rsem_erv_4 = rsem_erv_4[['gene_id', 'TPM']]\n",
    "rsem_erv_5 = rsem_erv_4[['gene_id', 'TPM']]\n",
    "rsem_erv_6 = rsem_erv_4[['gene_id', 'TPM']]\n",
    "rsem_erv_7 = rsem_erv_4[['gene_id', 'TPM']]\n",
    "rsem_erv_8 = rsem_erv_4[['gene_id', 'TPM']]\n",
    "rsem_erv_9 = rsem_erv_4[['gene_id', 'TPM']]"
   ]
  },
  {
   "cell_type": "code",
   "execution_count": 62,
   "id": "81cfcf0f-48cc-4db0-b08d-8fe5cdf78452",
   "metadata": {},
   "outputs": [],
   "source": [
    "inv1_merged = pd.merge(rsem_erv_1, rsem_erv_2, on = ['gene_id'], suffixes = ['_inv1', '_inv2'])\n",
    "inv2_merged = pd.merge(rsem_erv_3, rsem_erv_6, on = ['gene_id'], suffixes = ['_inv3', '_inv4'])\n",
    "inv3_merged = pd.merge(inv2_merged, rsem_erv_7, on = ['gene_id'])\n",
    "inv_full = pd.merge(inv3_merged, inv1_merged, on = ['gene_id'])\n",
    "\n",
    "ninv1_merged = pd.merge(rsem_erv_4, rsem_erv_5, on = ['gene_id'], suffixes = ['_ninv1', '_ninv2'])\n",
    "ninv2_merged = pd.merge(rsem_erv_8, rsem_erv_9, on = ['gene_id'], suffixes = ['_ninv3', '_ninv4'])\n",
    "ninv_full = pd.merge(ninv2_merged, ninv1_merged, on = ['gene_id'])\n",
    "\n",
    "\n"
   ]
  },
  {
   "cell_type": "code",
   "execution_count": 66,
   "id": "540656f1-6b14-4dc1-a040-a9beb444e673",
   "metadata": {},
   "outputs": [
    {
     "name": "stdout",
     "output_type": "stream",
     "text": [
      "Index(['gene_id', 'TPM_inv3', 'TPM_inv4', 'TPM', 'TPM_inv1', 'TPM_inv2',\n",
      "       'TPM_ninv3', 'TPM_ninv4', 'TPM_ninv1', 'TPM_ninv2'],\n",
      "      dtype='object')\n"
     ]
    }
   ],
   "source": []
  },
  {
   "cell_type": "code",
   "execution_count": null,
   "id": "f65c9841-bc9e-43ed-8370-fc3b23960188",
   "metadata": {},
   "outputs": [],
   "source": []
  },
  {
   "cell_type": "code",
   "execution_count": 67,
   "id": "53c0f570-8f14-4717-ab8e-3ce1a79f84b4",
   "metadata": {},
   "outputs": [],
   "source": [
    "merged = pd.merge(inv_full, ninv_full, on = ['gene_id'])\n",
    "merged = merged[(merged['TPM_inv1'] < 10) & (merged['TPM_inv2'] < 10) & (merged['TPM_inv3'] < 10) &\n",
    "(merged['TPM_inv4'] < 10) & (merged['TPM'] < 10) & (merged['TPM_ninv1'] < 10) &\n",
    "(merged['TPM_ninv2'] < 10) & (merged['TPM_ninv3'] < 10) & (merged['TPM_ninv4'] < 10)]\n",
    "ERV_to_subset = list(merged['gene_id'])"
   ]
  },
  {
   "cell_type": "code",
   "execution_count": 71,
   "id": "729ff5a0-84cc-4536-b0af-997a761b7a2e",
   "metadata": {},
   "outputs": [],
   "source": [
    "low_expr_ervs = merged_ervs[merged_ervs['gene_id'].isin(ERV_to_subset)]"
   ]
  },
  {
   "cell_type": "code",
   "execution_count": 72,
   "id": "7ff43aa5-c205-489e-9115-c9725386be67",
   "metadata": {},
   "outputs": [],
   "source": [
    "downregulated_ervs = low_expr_ervs[low_expr_ervs['upregulated'] == False]\n",
    "upregulated_ervs = low_expr_ervs[low_expr_ervs['upregulated'] == True]"
   ]
  },
  {
   "cell_type": "code",
   "execution_count": 73,
   "id": "ae90e217-d46e-4bce-a7d4-045f2d6a7519",
   "metadata": {},
   "outputs": [
    {
     "name": "stdout",
     "output_type": "stream",
     "text": [
      "gene_around_erv_count:  2\n",
      "no_gene_around_erv_count:  17\n",
      "gene_around_erv_count:  0\n",
      "no_gene_around_erv_count:  2\n"
     ]
    }
   ],
   "source": [
    "x,y = count_gene_around_erv(upregulated_ervs, genes_df, 30000)\n",
    "\n",
    "m,n = count_gene_around_erv(downregulated_ervs, genes_df, 30000)"
   ]
  },
  {
   "cell_type": "code",
   "execution_count": 50,
   "id": "101295af-5c7f-4ead-bb2b-54a9c1e21cb9",
   "metadata": {},
   "outputs": [],
   "source": [
    "#LOOK FOR FAMILY PATTERNS\n",
    "family_df = pd.read_csv('/work/iku/exp1019-cancer-epigenetics-and-ervs/01_BS_and_ERV/families/Hsap38.txt',sep = '\\t', on_bad_lines='skip')"
   ]
  },
  {
   "cell_type": "code",
   "execution_count": 51,
   "id": "f49ba18c-5024-4ecc-beb0-a269cfc3926d",
   "metadata": {},
   "outputs": [],
   "source": [
    "family_id = family_df[['ID', 'Repbase']]"
   ]
  },
  {
   "cell_type": "code",
   "execution_count": 52,
   "id": "889e4db0-d2a1-4ea8-aa71-5dbb22992263",
   "metadata": {},
   "outputs": [],
   "source": [
    "ervs = ervs.rename(columns={'gene_id':'ID'})\n",
    "ervs_family = pd.merge(ervs, family_id, on='ID')"
   ]
  },
  {
   "cell_type": "code",
   "execution_count": 53,
   "id": "21028f28-1ccf-4bec-84de-0f168f6b8764",
   "metadata": {},
   "outputs": [
    {
     "name": "stdout",
     "output_type": "stream",
     "text": [
      "101\n"
     ]
    }
   ],
   "source": [
    "ervs = ervs.drop(0).reset_index(drop=True)\n",
    "ervs['log2foldchange'] = ervs['log2foldchange'].astype(float)\n",
    "\n",
    "ervs_overexpressed = ervs[ervs['log2foldchange'] > 0]\n",
    "print(len(ervs_overexpressed))\n",
    "ervs_family = pd.merge(ervs_overexpressed, family_id, on='ID')\n",
    "ervs_family = pd.merge(ervs, family_id, on='ID')"
   ]
  },
  {
   "cell_type": "code",
   "execution_count": 54,
   "id": "2a535076-c322-4350-b75a-09a3bc85ebac",
   "metadata": {},
   "outputs": [
    {
     "name": "stdout",
     "output_type": "stream",
     "text": [
      "Family: HERV-Fc1-int|LTR/ERV1\n",
      "                                    ID  log2foldchange                Repbase\n",
      "116  Hsap38.chr7.153409531.153411195.-        6.246998  HERV-Fc1-int|LTR/ERV1\n",
      "Number of entries: 1\n",
      "\n",
      "Family: HERV-Fc2-int|LTR/ERV1\n",
      "                                ID  log2foldchange                Repbase\n",
      "16  Hsap38.chr11.5929159.5930445.+        5.817444  HERV-Fc2-int|LTR/ERV1\n",
      "17  Hsap38.chr11.5930950.5932023.+        7.065095  HERV-Fc2-int|LTR/ERV1\n",
      "18  Hsap38.chr11.5932027.5932776.+        6.588774  HERV-Fc2-int|LTR/ERV1\n",
      "Number of entries: 3\n",
      "\n",
      "Family: HERV-Fc2-int|LTR/ERV1 L2b|LINE/L2\n",
      "                                ID  log2foldchange  \\\n",
      "19  Hsap38.chr11.5932780.5933793.+        8.093696   \n",
      "\n",
      "                              Repbase  \n",
      "19  HERV-Fc2-int|LTR/ERV1 L2b|LINE/L2  \n",
      "Number of entries: 1\n",
      "\n",
      "Family: HERV16-int|LTR/ERVL L1P1|LINE/L1\n",
      "                                  ID  log2foldchange  \\\n",
      "42  Hsap38.chr15.20374063.20374596.-        5.353554   \n",
      "\n",
      "                             Repbase  \n",
      "42  HERV16-int|LTR/ERVL L1P1|LINE/L1  \n",
      "Number of entries: 1\n",
      "\n",
      "Family: HERV17-int|LTR/ERV1\n",
      "                                    ID  log2foldchange              Repbase\n",
      "129  Hsap38.chrX.107052509.107054017.-       -2.341143  HERV17-int|LTR/ERV1\n",
      "Number of entries: 1\n",
      "\n",
      "Family: HERV1_I-int|LTR/ERV1\n",
      "                                 ID  log2foldchange               Repbase\n",
      "9  Hsap38.chr10.42649811.42651124.+        5.662263  HERV1_I-int|LTR/ERV1\n",
      "Number of entries: 1\n",
      "\n",
      "Family: HERV9NC-int|LTR/ERV1\n",
      "                                   ID  log2foldchange               Repbase\n",
      "0   Hsap38.chr1.175103294.175103704.-        2.173519  HERV9NC-int|LTR/ERV1\n",
      "1   Hsap38.chr1.175103876.175104337.-        1.878600  HERV9NC-int|LTR/ERV1\n",
      "2   Hsap38.chr1.175104392.175105102.-        2.046811  HERV9NC-int|LTR/ERV1\n",
      "20   Hsap38.chr11.67621581.67622726.+        4.299563  HERV9NC-int|LTR/ERV1\n",
      "21   Hsap38.chr11.67623222.67624175.+        5.020305  HERV9NC-int|LTR/ERV1\n",
      "22   Hsap38.chr11.67625059.67625373.+        5.186266  HERV9NC-int|LTR/ERV1\n",
      "Number of entries: 6\n",
      "\n",
      "Family: HERVE-int|LTR/ERV1\n",
      "                               ID  log2foldchange             Repbase\n",
      "95  Hsap38.chr4.9098378.9099097.+       -5.839260  HERVE-int|LTR/ERV1\n",
      "96  Hsap38.chr4.9100069.9101091.+       -5.618939  HERVE-int|LTR/ERV1\n",
      "97  Hsap38.chr4.9103288.9104127.+       -5.835611  HERVE-int|LTR/ERV1\n",
      "Number of entries: 3\n",
      "\n",
      "Family: HERVH-int|LTR/ERV1\n",
      "                                     ID  log2foldchange             Repbase\n",
      "3     Hsap38.chr1.221968992.221969252.+        7.250494  HERVH-int|LTR/ERV1\n",
      "5       Hsap38.chr1.68389168.68389551.+        0.780114  HERVH-int|LTR/ERV1\n",
      "12     Hsap38.chr10.90297532.90297894.+       -5.868478  HERVH-int|LTR/ERV1\n",
      "13     Hsap38.chr10.90297898.90298206.+       -6.059917  HERVH-int|LTR/ERV1\n",
      "29   Hsap38.chr13.109267871.109268239.+        3.258050  HERVH-int|LTR/ERV1\n",
      "30   Hsap38.chr13.109268243.109268650.+        3.098299  HERVH-int|LTR/ERV1\n",
      "31   Hsap38.chr13.109268675.109268986.+        2.853208  HERVH-int|LTR/ERV1\n",
      "41     Hsap38.chr14.31248120.31248578.-        5.256228  HERVH-int|LTR/ERV1\n",
      "43     Hsap38.chr15.35241675.35242256.+        6.757612  HERVH-int|LTR/ERV1\n",
      "54     Hsap38.chr17.75255474.75256007.+        3.325320  HERVH-int|LTR/ERV1\n",
      "55     Hsap38.chr17.76608253.76608786.-        7.581797  HERVH-int|LTR/ERV1\n",
      "56     Hsap38.chr17.76608803.76609162.-        7.290348  HERVH-int|LTR/ERV1\n",
      "59     Hsap38.chr19.15831710.15832369.+        3.390813  HERVH-int|LTR/ERV1\n",
      "60     Hsap38.chr19.15832513.15833361.+        2.447556  HERVH-int|LTR/ERV1\n",
      "61     Hsap38.chr19.15833618.15834115.+        2.330855  HERVH-int|LTR/ERV1\n",
      "79    Hsap38.chr3.104442337.104442744.-        5.407950  HERVH-int|LTR/ERV1\n",
      "81    Hsap38.chr3.128963729.128963980.+        0.600814  HERVH-int|LTR/ERV1\n",
      "82    Hsap38.chr3.146366733.146366975.+        2.859433  HERVH-int|LTR/ERV1\n",
      "83    Hsap38.chr3.193000151.193000531.+        5.511384  HERVH-int|LTR/ERV1\n",
      "88    Hsap38.chr4.103554612.103555034.-        3.817652  HERVH-int|LTR/ERV1\n",
      "91    Hsap38.chr4.182817286.182817711.+        4.500266  HERVH-int|LTR/ERV1\n",
      "98      Hsap38.chr4.92029629.92030171.+        5.880211  HERVH-int|LTR/ERV1\n",
      "109   Hsap38.chr6.115034386.115034643.+        5.770436  HERVH-int|LTR/ERV1\n",
      "130     Hsap38.chrX.16180209.16180451.-        5.308025  HERVH-int|LTR/ERV1\n",
      "132       Hsap38.chrX.4542780.4543313.-        6.086370  HERVH-int|LTR/ERV1\n",
      "133       Hsap38.chrX.4894484.4895017.+        4.742436  HERVH-int|LTR/ERV1\n",
      "Number of entries: 26\n",
      "\n",
      "Family: HERVI-int|LTR/ERV1 L1PA3|LINE/L1\n",
      "                                  ID  log2foldchange  \\\n",
      "39  Hsap38.chr14.18349306.18350964.+        5.631069   \n",
      "\n",
      "                             Repbase  \n",
      "39  HERVI-int|LTR/ERV1 L1PA3|LINE/L1  \n",
      "Number of entries: 1\n",
      "\n",
      "Family: HERVIP10B3-int|LTR/ERV1 AluJr|SINE/Alu\n",
      "                                    ID  log2foldchange  \\\n",
      "36  Hsap38.chr14.105550560.105551072.-         5.60807   \n",
      "\n",
      "                                   Repbase  \n",
      "36  HERVIP10B3-int|LTR/ERV1 AluJr|SINE/Alu  \n",
      "Number of entries: 1\n",
      "\n",
      "Family: HERVIP10F-int|LTR/ERV1\n",
      "                               ID  log2foldchange                 Repbase\n",
      "85  Hsap38.chr3.5691857.5692192.-        6.097353  HERVIP10F-int|LTR/ERV1\n",
      "86  Hsap38.chr3.5695697.5696464.-        4.854341  HERVIP10F-int|LTR/ERV1\n",
      "Number of entries: 2\n",
      "\n",
      "Family: HERVIP10FH-int|LTR/ERV1\n",
      "                                    ID  log2foldchange  \\\n",
      "110  Hsap38.chr6.161310218.161310709.-        4.675662   \n",
      "111  Hsap38.chr6.161310713.161311156.-        4.878121   \n",
      "131    Hsap38.chrX.37483703.37484035.+        3.813578   \n",
      "\n",
      "                     Repbase  \n",
      "110  HERVIP10FH-int|LTR/ERV1  \n",
      "111  HERVIP10FH-int|LTR/ERV1  \n",
      "131  HERVIP10FH-int|LTR/ERV1  \n",
      "Number of entries: 3\n",
      "\n",
      "Family: HERVK-int|LTR/ERVK\n",
      "                                    ID  log2foldchange             Repbase\n",
      "26  Hsap38.chr12.133091948.133093060.-        5.443264  HERVK-int|LTR/ERVK\n",
      "37  Hsap38.chr14.105674464.105674991.+        5.989203  HERVK-int|LTR/ERVK\n",
      "Number of entries: 2\n",
      "\n",
      "Family: HERVK13-int|LTR/ERVK\n",
      "                                ID  log2foldchange               Repbase\n",
      "46  Hsap38.chr16.2661368.2662822.-        1.459195  HERVK13-int|LTR/ERVK\n",
      "Number of entries: 1\n",
      "\n",
      "Family: HERVK3-int|LTR/ERVK\n",
      "                                  ID  log2foldchange              Repbase\n",
      "48  Hsap38.chr16.35523216.35523734.+        6.043166  HERVK3-int|LTR/ERVK\n",
      "Number of entries: 1\n",
      "\n",
      "Family: HERVK9-int|LTR/ERVK\n",
      "                                    ID  log2foldchange              Repbase\n",
      "76   Hsap38.chr3.104283399.104284025.-        6.112607  HERVK9-int|LTR/ERVK\n",
      "77   Hsap38.chr3.104285008.104285628.-        7.167864  HERVK9-int|LTR/ERVK\n",
      "78   Hsap38.chr3.104285763.104286365.-        4.927041  HERVK9-int|LTR/ERVK\n",
      "101      Hsap38.chr5.1579643.1580821.-       -1.216390  HERVK9-int|LTR/ERVK\n",
      "102      Hsap38.chr5.1581914.1582819.-       -1.471095  HERVK9-int|LTR/ERVK\n",
      "103      Hsap38.chr5.1582941.1583480.-       -1.836510  HERVK9-int|LTR/ERVK\n",
      "104      Hsap38.chr5.1583789.1584223.-       -2.112037  HERVK9-int|LTR/ERVK\n",
      "121  Hsap38.chr8.126009395.126009901.+       -3.338787  HERVK9-int|LTR/ERVK\n",
      "122  Hsap38.chr8.126010490.126011149.+       -2.733667  HERVK9-int|LTR/ERVK\n",
      "Number of entries: 9\n",
      "\n",
      "Family: HERVS71-int|LTR/ERV1\n",
      "                                    ID  log2foldchange               Repbase\n",
      "38  Hsap38.chr14.106197668.106199134.-        6.063409  HERVS71-int|LTR/ERV1\n",
      "Number of entries: 1\n",
      "\n",
      "Family: Harlequin-int|LTR/ERV1\n",
      "                                  ID  log2foldchange                 Repbase\n",
      "51  Hsap38.chr17.43160800.43161267.-       -3.650129  Harlequin-int|LTR/ERV1\n",
      "Number of entries: 1\n",
      "\n",
      "Family: L1HS|LINE/L1\n",
      "                                   ID  log2foldchange       Repbase\n",
      "11   Hsap38.chr10.85357469.85361317.+        6.260976  L1HS|LINE/L1\n",
      "35   Hsap38.chr13.83963461.83966145.+        8.479647  L1HS|LINE/L1\n",
      "70   Hsap38.chr20.23429745.23431919.+        6.024626  L1HS|LINE/L1\n",
      "75   Hsap38.chr22.28665246.28669094.+        3.828050  L1HS|LINE/L1\n",
      "92    Hsap38.chr4.23616735.23620178.+        3.238611  L1HS|LINE/L1\n",
      "112     Hsap38.chr6.2417993.2421841.-        5.784660  L1HS|LINE/L1\n",
      "118   Hsap38.chr7.93587230.93589131.-        5.325749  L1HS|LINE/L1\n",
      "128   Hsap38.chr9.83049762.83052461.-        5.058483  L1HS|LINE/L1\n",
      "Number of entries: 8\n",
      "\n",
      "Family: L1M5|LINE/L1 L1PB1|LINE/L1\n",
      "                                  ID  log2foldchange  \\\n",
      "119  Hsap38.chr7.93807148.93807543.+        6.626422   \n",
      "\n",
      "                        Repbase  \n",
      "119  L1M5|LINE/L1 L1PB1|LINE/L1  \n",
      "Number of entries: 1\n",
      "\n",
      "Family: L1P2|LINE/L1\n",
      "                                 ID  log2foldchange       Repbase\n",
      "93  Hsap38.chr4.67656511.67657269.+       -1.771582  L1P2|LINE/L1\n",
      "Number of entries: 1\n",
      "\n",
      "Family: L1P3|LINE/L1 L2a|LINE/L2\n",
      "                                 ID  log2foldchange                   Repbase\n",
      "94  Hsap38.chr4.78531193.78531594.-        7.161095  L1P3|LINE/L1 L2a|LINE/L2\n",
      "Number of entries: 1\n",
      "\n",
      "Family: L1P4|LINE/L1\n",
      "                                ID  log2foldchange       Repbase\n",
      "125  Hsap38.chr9.2753797.2754519.+       -1.687226  L1P4|LINE/L1\n",
      "Number of entries: 1\n",
      "\n",
      "Family: L1PA2|LINE/L1\n",
      "                                     ID  log2foldchange        Repbase\n",
      "14   Hsap38.chr11.108360042.108362453.+       -2.660161  L1PA2|LINE/L1\n",
      "23       Hsap38.chr11.7659054.7660430.-        3.082406  L1PA2|LINE/L1\n",
      "40     Hsap38.chr14.26674010.26677375.-        5.382698  L1PA2|LINE/L1\n",
      "49     Hsap38.chr16.84456232.84458286.+        2.585270  L1PA2|LINE/L1\n",
      "53     Hsap38.chr17.55503670.55505535.+        3.023490  L1PA2|LINE/L1\n",
      "58     Hsap38.chr18.29152603.29153136.-       -1.894984  L1PA2|LINE/L1\n",
      "63    Hsap38.chr2.173699599.173703450.-       -2.052395  L1PA2|LINE/L1\n",
      "66      Hsap38.chr2.72066975.72068138.+        4.476101  L1PA2|LINE/L1\n",
      "84      Hsap38.chr3.53366310.53369366.-        5.616102  L1PA2|LINE/L1\n",
      "99    Hsap38.chr5.132515924.132519775.+        3.761666  L1PA2|LINE/L1\n",
      "105   Hsap38.chr5.170241202.170241942.-        3.859890  L1PA2|LINE/L1\n",
      "114     Hsap38.chr6.83798608.83801580.-        6.468057  L1PA2|LINE/L1\n",
      "Number of entries: 12\n",
      "\n",
      "Family: L1PA2|LINE/L1 AluYg6|SINE/Alu\n",
      "                                  ID  log2foldchange  \\\n",
      "47  Hsap38.chr16.32775936.32778083.-         4.37574   \n",
      "\n",
      "                          Repbase  \n",
      "47  L1PA2|LINE/L1 AluYg6|SINE/Alu  \n",
      "Number of entries: 1\n",
      "\n",
      "Family: L1PA2|LINE/L1 L1MC2|LINE/L1\n",
      "                                  ID  log2foldchange  \\\n",
      "127  Hsap38.chr9.64062425.64064374.-         5.73669   \n",
      "\n",
      "                         Repbase  \n",
      "127  L1PA2|LINE/L1 L1MC2|LINE/L1  \n",
      "Number of entries: 1\n",
      "\n",
      "Family: L1PA3|LINE/L1\n",
      "                                    ID  log2foldchange        Repbase\n",
      "27    Hsap38.chr12.65550104.65551864.-       -3.455238  L1PA3|LINE/L1\n",
      "33    Hsap38.chr13.33986637.33988688.+       -6.160304  L1PA3|LINE/L1\n",
      "44    Hsap38.chr15.78723364.78724440.+        6.607592  L1PA3|LINE/L1\n",
      "45    Hsap38.chr15.97435299.97437386.+        5.466310  L1PA3|LINE/L1\n",
      "57    Hsap38.chr18.12185099.12186001.+        3.346742  L1PA3|LINE/L1\n",
      "64     Hsap38.chr2.58174904.58175788.+       -2.234841  L1PA3|LINE/L1\n",
      "73      Hsap38.chr21.8768823.8770268.-        6.642106  L1PA3|LINE/L1\n",
      "89   Hsap38.chr4.119063415.119064683.-        7.121140  L1PA3|LINE/L1\n",
      "90     Hsap38.chr4.16560430.16561806.+        7.046811  L1PA3|LINE/L1\n",
      "113    Hsap38.chr6.75901359.75903599.-       -1.398685  L1PA3|LINE/L1\n",
      "115    Hsap38.chr7.14315228.14318818.+        5.744688  L1PA3|LINE/L1\n",
      "117    Hsap38.chr7.83026050.83029304.+        3.830717  L1PA3|LINE/L1\n",
      "120  Hsap38.chr8.105790878.105791315.-       -1.356856  L1PA3|LINE/L1\n",
      "123    Hsap38.chr8.28817939.28819939.-       -5.831560  L1PA3|LINE/L1\n",
      "Number of entries: 14\n",
      "\n",
      "Family: L1PA3|LINE/L1 L1P1|LINE/L1\n",
      "                                  ID  log2foldchange  \\\n",
      "28  Hsap38.chr12.88939292.88941022.+       -5.627566   \n",
      "\n",
      "                       Repbase  \n",
      "28  L1PA3|LINE/L1 L1P1|LINE/L1  \n",
      "Number of entries: 1\n",
      "\n",
      "Family: L1PA4|LINE/L1\n",
      "                                     ID  log2foldchange        Repbase\n",
      "6    Hsap38.chr10.133584386.133585483.+        5.287534  L1PA4|LINE/L1\n",
      "8      Hsap38.chr10.27421598.27422425.+        4.469597  L1PA4|LINE/L1\n",
      "10     Hsap38.chr10.42667908.42669713.+        5.625104  L1PA4|LINE/L1\n",
      "32     Hsap38.chr13.18186069.18186599.+        6.154658  L1PA4|LINE/L1\n",
      "34     Hsap38.chr13.73454208.73456076.-        7.258480  L1PA4|LINE/L1\n",
      "67      Hsap38.chr2.91782927.91784138.+        3.734915  L1PA4|LINE/L1\n",
      "71     Hsap38.chr21.10351052.10352419.-        5.503816  L1PA4|LINE/L1\n",
      "74       Hsap38.chr21.8999863.9000333.+       -1.573201  L1PA4|LINE/L1\n",
      "100   Hsap38.chr5.150857757.150859922.-        3.947574  L1PA4|LINE/L1\n",
      "Number of entries: 9\n",
      "\n",
      "Family: L1PA5|LINE/L1\n",
      "                                     ID  log2foldchange        Repbase\n",
      "7      Hsap38.chr10.17400586.17401269.+        6.139625  L1PA5|LINE/L1\n",
      "25   Hsap38.chr12.131504572.131505498.-        4.469744  L1PA5|LINE/L1\n",
      "62     Hsap38.chr19.52054661.52055236.+        5.280404  L1PA5|LINE/L1\n",
      "69      Hsap38.chr2.95804489.95805352.+        6.063312  L1PA5|LINE/L1\n",
      "87      Hsap38.chr3.98803332.98804039.-       -1.318832  L1PA5|LINE/L1\n",
      "106   Hsap38.chr5.176054986.176055969.+        6.426999  L1PA5|LINE/L1\n",
      "107   Hsap38.chr5.177787793.177789088.-        3.918939  L1PA5|LINE/L1\n",
      "Number of entries: 7\n",
      "\n",
      "Family: L1PA6|LINE/L1\n",
      "                                   ID  log2foldchange        Repbase\n",
      "15   Hsap38.chr11.14596013.14597254.-       -2.045439  L1PA6|LINE/L1\n",
      "24   Hsap38.chr11.77220316.77220948.-        3.327608  L1PA6|LINE/L1\n",
      "68    Hsap38.chr2.95096000.95097655.+       -1.275926  L1PA6|LINE/L1\n",
      "124   Hsap38.chr8.33364150.33364647.+       -1.386275  L1PA6|LINE/L1\n",
      "Number of entries: 4\n",
      "\n",
      "Family: L1PA7|LINE/L1\n",
      "                                    ID  log2foldchange        Repbase\n",
      "52    Hsap38.chr17.47381802.47382692.-       -2.837621  L1PA7|LINE/L1\n",
      "65     Hsap38.chr2.58178358.58179158.+       -2.531958  L1PA7|LINE/L1\n",
      "80   Hsap38.chr3.111878486.111879328.-       -1.813804  L1PA7|LINE/L1\n",
      "108    Hsap38.chr5.87213608.87214159.-        5.704621  L1PA7|LINE/L1\n",
      "126    Hsap38.chr9.32444732.32445415.-        2.751030  L1PA7|LINE/L1\n",
      "Number of entries: 5\n",
      "\n",
      "Family: L1PB1|LINE/L1\n",
      "                                  ID  log2foldchange        Repbase\n",
      "50  Hsap38.chr17.20407544.20408053.+        2.309289  L1PB1|LINE/L1\n",
      "72  Hsap38.chr21.45273519.45274298.+        2.486799  L1PB1|LINE/L1\n",
      "Number of entries: 2\n",
      "\n",
      "Family: L1PBa|LINE/L1 L1PA3|LINE/L1\n",
      "                                  ID  log2foldchange  \\\n",
      "4  Hsap38.chr1.248724795.248726774.-         5.25388   \n",
      "\n",
      "                       Repbase  \n",
      "4  L1PBa|LINE/L1 L1PA3|LINE/L1  \n",
      "Number of entries: 1\n",
      "\n"
     ]
    }
   ],
   "source": [
    "grouped_df = ervs_family.groupby('Repbase') \n",
    "for name, group in grouped_df:\n",
    "    print(f\"Family: {name}\")\n",
    "    print(group)\n",
    "    print(f\"Number of entries: {len(group)}\\n\")"
   ]
  },
  {
   "cell_type": "code",
   "execution_count": 84,
   "id": "361faefc-5f26-4ecb-a82a-f5a850758356",
   "metadata": {},
   "outputs": [
    {
     "name": "stdout",
     "output_type": "stream",
     "text": [
      "                                             Repbase  Counts\n",
      "0                                 HERVH-int|LTR/ERV1       3\n",
      "1                                 HERVK-int|LTR/ERVK       9\n",
      "2                HERVK-int|LTR/ERVK LTR5_Hs|LTR/ERVK       3\n",
      "3                                HERVK3-int|LTR/ERVK       2\n",
      "4                                      L1PA3|LINE/L1       5\n",
      "5  LTR5_Hs|LTR/ERVK SVA_F|Retroposon/SVA HERVK-in...       3\n"
     ]
    }
   ],
   "source": [
    "filtered_groups = {name: group for name, group in grouped_df if len(group) > 1}\n",
    "\n",
    "filtered_df = pd.concat(filtered_groups.values())\n",
    "\n",
    "# Optionally, create a summary DataFrame for these groups\n",
    "summary_df = pd.DataFrame({\n",
    "    'Repbase': list(filtered_groups.keys()),\n",
    "    'Counts': [len(group) for group in filtered_groups.values()]\n",
    "})\n",
    "print(summary_df)"
   ]
  },
  {
   "cell_type": "code",
   "execution_count": 90,
   "id": "7b5f8174-03be-46bf-9f30-94c5b91529d8",
   "metadata": {},
   "outputs": [],
   "source": [
    "#COS TU ZLE\n",
    "merged = pd.merge(inv_full, ninv_full, on = ['gene_id'])\n",
    "merged = merged[(merged['TPM_inv1'] > 10) & (merged['TPM_inv2'] > 10) & (merged['TPM_inv3'] > 10) &\n",
    "(merged['TPM_inv4'] > 10) & (merged['TPM'] > 10) & (merged['TPM_ninv1'] > 10) &\n",
    "(merged['TPM_ninv2'] > 10) & (merged['TPM_ninv3'] > 10) & (merged['TPM_ninv4'] > 10)]\n",
    "ervs_list = list(merged['gene_id'])"
   ]
  },
  {
   "cell_type": "code",
   "execution_count": 91,
   "id": "04057635-f669-46f6-9943-0220d38b9ada",
   "metadata": {},
   "outputs": [],
   "source": [
    "# Convert lists to sets\n",
    "ervs_set = set(ervs_list)\n",
    "overexpressed_set = set(ervs_overexpressed)\n",
    "\n",
    "# Find the intersection of the two sets\n",
    "intersection_set = ervs_set.intersection(overexpressed_set)\n",
    "\n",
    "# Convert the intersection set back to a list\n",
    "intersection_list = list(intersection_set)"
   ]
  },
  {
   "cell_type": "code",
   "execution_count": 92,
   "id": "4f33373f-5a91-4403-bac3-60fe0199efd2",
   "metadata": {},
   "outputs": [],
   "source": [
    "#asign a group to the overexpressed ERVs\n",
    "gene_to_group = filtered_df.set_index('ID')['Repbase'].to_dict()"
   ]
  },
  {
   "cell_type": "code",
   "execution_count": 93,
   "id": "4e251d31-81c6-43e5-8565-52943f1f03cb",
   "metadata": {},
   "outputs": [
    {
     "name": "stdout",
     "output_type": "stream",
     "text": [
      "0\n",
      "0\n"
     ]
    }
   ],
   "source": [
    "ervs_group = {gene_id: gene_to_group.get(gene_id, 'Unknown') for gene_id in ervs_list}\n",
    "for gene_id, group in ervs_group.items():\n",
    "    print(f\"Gene ID: {gene_id}, Group: {group}\")\n",
    "print(len(ervs_group))\n",
    "\n",
    "ervs_group2 = {gene_id: gene_to_group.get(gene_id, 'Unknown') for gene_id in intersection_list}\n",
    "for gene_id, group in ervs_group2.items():\n",
    "    print(f\"Gene ID: {gene_id}, Group: {group}\")\n",
    "print(len(ervs_group2))"
   ]
  },
  {
   "cell_type": "code",
   "execution_count": null,
   "id": "bc5f7923-a576-4140-a8bd-484d6eb37344",
   "metadata": {},
   "outputs": [],
   "source": []
  },
  {
   "cell_type": "code",
   "execution_count": 65,
   "id": "13803687-d751-4db8-9c00-8aa82d7c5bfb",
   "metadata": {},
   "outputs": [],
   "source": [
    "#names greater than promoters \n",
    "file = open('names_greater_than_30.tsv')\n",
    "\n",
    "names_greater_than_50 = pd.read_csv(file, sep='\\t', header=None)\n",
    "\n",
    "# Convert the DataFrame to a list\n",
    "diff_meth_prom_list = names_greater_than_50[0].tolist()"
   ]
  },
  {
   "cell_type": "code",
   "execution_count": 66,
   "id": "90f4db35-ad3f-4b89-960a-9322d6aeacfe",
   "metadata": {},
   "outputs": [],
   "source": [
    "file = open('ERV_names.txt')\n",
    "\n",
    "overexpressed = file.read() \n",
    "overexpressed_list = overexpressed.split('\\n')[:-1]"
   ]
  },
  {
   "cell_type": "code",
   "execution_count": 70,
   "id": "64dc0455-07ee-4823-a831-9847139c1a71",
   "metadata": {},
   "outputs": [
    {
     "name": "stdout",
     "output_type": "stream",
     "text": [
      "['Hsap38.chr1.166003279.166003821.-', 'Hsap38.chr1.178315010.178318861.-', 'Hsap38.chr1.75479921.75481885.+', 'Hsap38.chr1.78218064.78219080.+', 'Hsap38.chr1.91248360.91249019.-', 'Hsap38.chr10.39368909.39369544.-', 'Hsap38.chr10.57488098.57488901.+', 'Hsap38.chr10.75560510.75561451.-', 'Hsap38.chr10.81431156.81431443.+', 'Hsap38.chr10.81559057.81559482.-', 'Hsap38.chr10.99262570.99262842.+', 'Hsap38.chr11.12036980.12037243.+', 'Hsap38.chr11.4748723.4748965.+', 'Hsap38.chr11.54787573.54789732.+', 'Hsap38.chr11.59305045.59305398.-', 'Hsap38.chr11.88864705.88864995.-', 'Hsap38.chr12.105683630.105683962.+', 'Hsap38.chr12.11148491.11148796.-', 'Hsap38.chr12.111908612.111908998.+', 'Hsap38.chr12.55601936.55602379.+', 'Hsap38.chr13.48869627.48869959.-', 'Hsap38.chr13.54693829.54694083.-', 'Hsap38.chr13.55635730.55636236.-', 'Hsap38.chr13.58130068.58130472.-', 'Hsap38.chr13.72629816.72630139.+', 'Hsap38.chr14.25460838.25461179.-', 'Hsap38.chr14.32464375.32465004.+', 'Hsap38.chr14.49065638.49066246.+', 'Hsap38.chr14.79770601.79772517.+', 'Hsap38.chr14.87415332.87415898.-', 'Hsap38.chr15.101077008.101077388.+', 'Hsap38.chr15.81584617.81585105.+', 'Hsap38.chr17.34033568.34035331.+', 'Hsap38.chr18.34954980.34955342.-', 'Hsap38.chr18.36318660.36319229.-', 'Hsap38.chr18.67447414.67448166.-', 'Hsap38.chr19.29251594.29252412.-', 'Hsap38.chr2.118702732.118703607.+', 'Hsap38.chr2.132143996.132144430.-', 'Hsap38.chr2.143864067.143866331.+', 'Hsap38.chr2.147186371.147186757.+', 'Hsap38.chr2.151699083.151702739.-', 'Hsap38.chr2.170129819.170130148.+', 'Hsap38.chr2.37702982.37703320.-', 'Hsap38.chr2.6321358.6321639.+', 'Hsap38.chr2.91923133.91925754.+', 'Hsap38.chr3.102012206.102013330.+', 'Hsap38.chr3.107036923.107037390.+', 'Hsap38.chr3.125938793.125941060.+', 'Hsap38.chr3.130062168.130062749.+', 'Hsap38.chr3.132946226.132950074.-', 'Hsap38.chr3.54805823.54806839.+', 'Hsap38.chr3.68869488.68869982.+', 'Hsap38.chr3.89961459.89962382.+', 'Hsap38.chr3.95013980.95014840.-', 'Hsap38.chr3.95658818.95660866.-', 'Hsap38.chr4.127022524.127025970.+', 'Hsap38.chr4.134924989.134925237.-', 'Hsap38.chr4.136638493.136639338.+', 'Hsap38.chr4.32982336.32982716.-', 'Hsap38.chr5.106695228.106696862.+', 'Hsap38.chr5.112394088.112394831.+', 'Hsap38.chr5.113772466.113773026.-', 'Hsap38.chr5.114274551.114274904.-', 'Hsap38.chr5.114567699.114568379.+', 'Hsap38.chr5.122047827.122048246.-', 'Hsap38.chr5.125443401.125444051.+', 'Hsap38.chr5.136567801.136568181.-', 'Hsap38.chr5.35398607.35400037.+', 'Hsap38.chr6.120365618.120365908.+', 'Hsap38.chr6.134793088.134793342.+', 'Hsap38.chr6.71439661.71440221.+', 'Hsap38.chr6.86666520.86669267.-', 'Hsap38.chr6.86734248.86736626.+', 'Hsap38.chr7.127027649.127028266.-', 'Hsap38.chr7.24533570.24534124.-', 'Hsap38.chr7.81452792.81453106.+', 'Hsap38.chr7.97789236.97790318.+', 'Hsap38.chr8.46741723.46742052.-', 'Hsap38.chr8.47991855.47992223.-', 'Hsap38.chr8.70696197.70699067.-', 'Hsap38.chr8.76898294.76898680.-', 'Hsap38.chr8.83901604.83902134.+', 'Hsap38.chr8.92355185.92355517.-', 'Hsap38.chr9.40877539.40878708.+', 'Hsap38.chr9.69289485.69290117.+', 'Hsap38.chr9.8004158.8004541.-', 'Hsap38.chrX.10718853.10719827.+']\n",
      "['Hsap38.chr1.161432309.161432788.-', 'Hsap38.chr1.174844047.174847295.-', 'Hsap38.chr1.175103294.175103704.-', 'Hsap38.chr1.175103876.175104337.-', 'Hsap38.chr1.175104392.175105102.-', 'Hsap38.chr1.221968992.221969252.+', 'Hsap38.chr1.248724795.248726774.-', 'Hsap38.chr1.68389168.68389551.+', 'Hsap38.chr10.133584386.133585483.+', 'Hsap38.chr10.17400586.17401269.+', 'Hsap38.chr10.27421598.27422425.+', 'Hsap38.chr10.42649811.42651124.+', 'Hsap38.chr10.42667908.42669713.+', 'Hsap38.chr10.85357469.85361317.+', 'Hsap38.chr10.90297532.90297894.+', 'Hsap38.chr10.90297898.90298206.+', 'Hsap38.chr11.108360042.108362453.+', 'Hsap38.chr11.14596013.14597254.-', 'Hsap38.chr11.5929159.5930445.+', 'Hsap38.chr11.5930950.5932023.+', 'Hsap38.chr11.5932027.5932776.+', 'Hsap38.chr11.5932780.5933793.+', 'Hsap38.chr11.67621581.67622726.+', 'Hsap38.chr11.67623222.67624175.+', 'Hsap38.chr11.67625059.67625373.+', 'Hsap38.chr11.7659054.7660430.-', 'Hsap38.chr11.77220316.77220948.-', 'Hsap38.chr12.131504572.131505498.-', 'Hsap38.chr12.133091948.133093060.-', 'Hsap38.chr12.65550104.65551864.-', 'Hsap38.chr12.88939292.88941022.+', 'Hsap38.chr13.109267871.109268239.+', 'Hsap38.chr13.109268243.109268650.+', 'Hsap38.chr13.109268675.109268986.+', 'Hsap38.chr13.18186069.18186599.+', 'Hsap38.chr13.33986637.33988688.+', 'Hsap38.chr13.73454208.73456076.-', 'Hsap38.chr13.83963461.83966145.+', 'Hsap38.chr14.105550560.105551072.-', 'Hsap38.chr14.105674464.105674991.+', 'Hsap38.chr14.106197668.106199134.-', 'Hsap38.chr14.18349306.18350964.+', 'Hsap38.chr14.26674010.26677375.-', 'Hsap38.chr14.31248120.31248578.-', 'Hsap38.chr15.20374063.20374596.-', 'Hsap38.chr15.35241675.35242256.+', 'Hsap38.chr15.78723364.78724440.+', 'Hsap38.chr15.97435299.97437386.+', 'Hsap38.chr16.2661368.2662822.-', 'Hsap38.chr16.32775936.32778083.-', 'Hsap38.chr16.35523216.35523734.+', 'Hsap38.chr16.84456232.84458286.+', 'Hsap38.chr17.20407544.20408053.+', 'Hsap38.chr17.43160800.43161267.-', 'Hsap38.chr17.47381802.47382692.-', 'Hsap38.chr17.55503670.55505535.+', 'Hsap38.chr17.75255474.75256007.+', 'Hsap38.chr17.76608253.76608786.-', 'Hsap38.chr17.76608803.76609162.-', 'Hsap38.chr18.12185099.12186001.+', 'Hsap38.chr18.29152603.29153136.-', 'Hsap38.chr19.15831710.15832369.+', 'Hsap38.chr19.15832513.15833361.+', 'Hsap38.chr19.15833618.15834115.+', 'Hsap38.chr19.52054661.52055236.+', 'Hsap38.chr2.173699599.173703450.-', 'Hsap38.chr2.58174904.58175788.+', 'Hsap38.chr2.58178358.58179158.+', 'Hsap38.chr2.72066975.72068138.+', 'Hsap38.chr2.91782927.91784138.+', 'Hsap38.chr2.95096000.95097655.+', 'Hsap38.chr2.95804489.95805352.+', 'Hsap38.chr20.23429745.23431919.+', 'Hsap38.chr21.10351052.10352419.-', 'Hsap38.chr21.45273519.45274298.+', 'Hsap38.chr21.8768823.8770268.-', 'Hsap38.chr21.8999863.9000333.+', 'Hsap38.chr22.28665246.28669094.+', 'Hsap38.chr3.104283399.104284025.-', 'Hsap38.chr3.104285008.104285628.-', 'Hsap38.chr3.104285763.104286365.-', 'Hsap38.chr3.104442337.104442744.-', 'Hsap38.chr3.111878486.111879328.-', 'Hsap38.chr3.128963729.128963980.+', 'Hsap38.chr3.146366733.146366975.+', 'Hsap38.chr3.193000151.193000531.+', 'Hsap38.chr3.53366310.53369366.-', 'Hsap38.chr3.5691857.5692192.-', 'Hsap38.chr3.5695697.5696464.-', 'Hsap38.chr3.98803332.98804039.-', 'Hsap38.chr4.103554612.103555034.-', 'Hsap38.chr4.119063415.119064683.-', 'Hsap38.chr4.16560430.16561806.+', 'Hsap38.chr4.182817286.182817711.+', 'Hsap38.chr4.23616735.23620178.+', 'Hsap38.chr4.67656511.67657269.+', 'Hsap38.chr4.78531193.78531594.-', 'Hsap38.chr4.9098378.9099097.+', 'Hsap38.chr4.9100069.9101091.+', 'Hsap38.chr4.9103288.9104127.+', 'Hsap38.chr4.92029629.92030171.+', 'Hsap38.chr5.132515924.132519775.+', 'Hsap38.chr5.150857757.150859922.-', 'Hsap38.chr5.1579643.1580821.-', 'Hsap38.chr5.1581914.1582819.-', 'Hsap38.chr5.1582941.1583480.-', 'Hsap38.chr5.1583789.1584223.-', 'Hsap38.chr5.170241202.170241942.-', 'Hsap38.chr5.176054986.176055969.+', 'Hsap38.chr5.177787793.177789088.-', 'Hsap38.chr5.87213608.87214159.-', 'Hsap38.chr6.115034386.115034643.+', 'Hsap38.chr6.161310218.161310709.-', 'Hsap38.chr6.161310713.161311156.-', 'Hsap38.chr6.2417993.2421841.-', 'Hsap38.chr6.75901359.75903599.-', 'Hsap38.chr6.83798608.83801580.-', 'Hsap38.chr7.14315228.14318818.+', 'Hsap38.chr7.153409531.153411195.-', 'Hsap38.chr7.83026050.83029304.+', 'Hsap38.chr7.93587230.93589131.-', 'Hsap38.chr7.93807148.93807543.+', 'Hsap38.chr8.105790878.105791315.-', 'Hsap38.chr8.126009395.126009901.+', 'Hsap38.chr8.126010490.126011149.+', 'Hsap38.chr8.28817939.28819939.-', 'Hsap38.chr8.33364150.33364647.+', 'Hsap38.chr9.2753797.2754519.+', 'Hsap38.chr9.32444732.32445415.-', 'Hsap38.chr9.64062425.64064374.-', 'Hsap38.chr9.83049762.83052461.-', 'Hsap38.chrX.107052509.107054017.-', 'Hsap38.chrX.16180209.16180451.-', 'Hsap38.chrX.37483703.37484035.+', 'Hsap38.chrX.4542780.4543313.-', 'Hsap38.chrX.4894484.4895017.+']\n",
      "['Hsap38.chrX.37483703.37484035.+']\n"
     ]
    }
   ],
   "source": [
    "print(diff_meth_prom_list)\n",
    "diff_meth_prom_list.append('Hsap38.chrX.37483703.37484035.+')\n",
    "print(overexpressed_list)\n",
    "# Find the intersection of the two sets\n",
    "intersection_set = set(diff_meth_prom_list).intersection(set(overexpressed_list))\n",
    "\n",
    "# Convert the intersection set back to a list\n",
    "intersection_list = list(intersection_set)\n",
    "print(intersection_list)"
   ]
  },
  {
   "cell_type": "code",
   "execution_count": null,
   "id": "98c9a62f-6696-4d5f-9512-d774d92ade29",
   "metadata": {},
   "outputs": [],
   "source": []
  }
 ],
 "metadata": {
  "kernelspec": {
   "display_name": "Python 3 (ipykernel)",
   "language": "python",
   "name": "python3"
  },
  "language_info": {
   "codemirror_mode": {
    "name": "ipython",
    "version": 3
   },
   "file_extension": ".py",
   "mimetype": "text/x-python",
   "name": "python",
   "nbconvert_exporter": "python",
   "pygments_lexer": "ipython3",
   "version": "3.10.12"
  }
 },
 "nbformat": 4,
 "nbformat_minor": 5
}
