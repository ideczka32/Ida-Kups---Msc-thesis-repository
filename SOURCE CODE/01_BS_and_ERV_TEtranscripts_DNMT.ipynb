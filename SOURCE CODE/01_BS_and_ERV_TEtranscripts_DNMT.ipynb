{
 "cells": [
  {
   "cell_type": "code",
   "execution_count": 1,
   "id": "ab14f306-18c5-4fe8-9c86-64571e57813e",
   "metadata": {},
   "outputs": [],
   "source": [
    "import os\n",
    "import pandas as pd \n",
    "import numpy as np\n",
    "import matplotlib.pyplot as plt\n",
    "import re\n",
    "import seaborn as sns"
   ]
  },
  {
   "cell_type": "code",
   "execution_count": 2,
   "id": "7b3b18a9-a48b-424d-ac00-d55890251fb3",
   "metadata": {},
   "outputs": [],
   "source": [
    "columns = ['gene_id', 'm1', 'm2','m3','m4','m5']\n",
    "DNMT = pd.read_csv()"
   ]
  },
  {
   "cell_type": "code",
   "execution_count": null,
   "id": "6b18f7cc-41b7-4e2d-9bbd-62e7a183b45c",
   "metadata": {},
   "outputs": [],
   "source": [
    "print(DNMT)"
   ]
  },
  {
   "cell_type": "code",
   "execution_count": null,
   "id": "5ef49736-7042-49cd-9879-ee98a16531ff",
   "metadata": {},
   "outputs": [],
   "source": [
    "DNMT_ERV = DNMT[DNMT['gene_id'].str.startswith('Mmus')]"
   ]
  },
  {
   "cell_type": "code",
   "execution_count": null,
   "id": "db5ff38a-9b3c-405a-bb20-412cd9daef64",
   "metadata": {},
   "outputs": [],
   "source": [
    "def filter_non_expressed_ERV(df):\n",
    "    df = df.copy()\n",
    "    count_columns = [col for col in df.columns if col.startswith('m')]\n",
    "    \n",
    "    # Sum values along the rows for selected columns\n",
    "    df.loc[:, 'sum_counts'] = df[count_columns].astype(int).sum(axis=1)\n",
    "    \n",
    "    # Filter rows where sum_counts is greater than 0\n",
    "    df = df.loc[df['sum_counts'] > 0]\n",
    "    \n",
    "    # Reset index starting from 0\n",
    "    df.reset_index(drop=True, inplace=True)\n",
    "    \n",
    "    # Drop the temporary 'sum_counts' column\n",
    "    del df['sum_counts']\n",
    "    \n",
    "    return df\n"
   ]
  },
  {
   "cell_type": "code",
   "execution_count": null,
   "id": "a3a01204-5103-4e17-8fe1-d7a91b950b91",
   "metadata": {},
   "outputs": [],
   "source": [
    "expr_ERV = filter_non_expressed_ERV(TET2_ERV)"
   ]
  },
  {
   "cell_type": "code",
   "execution_count": null,
   "id": "fd0ae654-0850-40f1-9323-90597e15f6e5",
   "metadata": {},
   "outputs": [],
   "source": [
    "def reshape_dataframe(df):\n",
    "    id_vars = ['gene_id']\n",
    "    value_vars = [col for col in df.columns if col.startswith('m')]\n",
    "    \n",
    "    # Melt the DataFrame\n",
    "    melted_df = pd.melt(df, id_vars=id_vars, value_vars=value_vars, var_name='patient_id', value_name='count')\n",
    "    \n",
    "    # Extract patient_id from column names\n",
    "    #melted_df['patient_id'] = melted_df['patient_id'].str.split('_', expand=True)[1].astype(int)\n",
    "    \n",
    "    return melted_df"
   ]
  },
  {
   "cell_type": "code",
   "execution_count": null,
   "id": "d4b7f5ae-69d3-4b75-beb5-e86e88db6719",
   "metadata": {},
   "outputs": [],
   "source": [
    "reshaped = reshape_dataframe(expr_ERV)\n",
    "print(reshaped.head())"
   ]
  },
  {
   "cell_type": "code",
   "execution_count": null,
   "id": "7d249da8-82e1-4003-9b9b-19362ec1180e",
   "metadata": {},
   "outputs": [],
   "source": [
    "def visualise_ERV_expression(df, plot_type, threshold = False):\n",
    "    plt.figure(figsize=(30, 30)) \n",
    "\n",
    "    if plot_type == 'scatter':\n",
    "        sns.scatterplot(data=df, x='gene_id', y='count', hue='patient_id', palette = 'tab10') #s=4\n",
    "    if plot_type == 'line':\n",
    "        sns.lineplot(data=df, x='gene_id', y='count', hue='patient_id', palette = 'tab10')\n",
    "    \n",
    "    plt.xlabel('ERV id')\n",
    "    plt.ylabel('count')\n",
    "\n",
    "    plt.title('ERV expression levels measured with TEtranscripts')\n",
    "\n",
    "    # Adding legend\n",
    "    plt.legend(title='Mouse ID', loc='upper right')\n",
    "    if threshold == True:\n",
    "        plt.xticks(rotation=90)\n",
    "\n",
    "    plt.show()    "
   ]
  },
  {
   "cell_type": "code",
   "execution_count": null,
   "id": "b58db3dd-20a6-4ce9-b3b8-6c8787392114",
   "metadata": {},
   "outputs": [],
   "source": [
    "visualise_ERV_expression(reshaped, 'line')"
   ]
  },
  {
   "cell_type": "code",
   "execution_count": null,
   "id": "f467f12a-9342-40b0-ab67-8eaf0b0ca29e",
   "metadata": {},
   "outputs": [],
   "source": [
    "def visualise_ERV_expression_gropus(df, plot_type, threshold = False):\n",
    "    plt.figure(figsize=(30, 30)) \n",
    "\n",
    "    palette = {'m1': 'red', 'm2': 'red', 'm3': 'blue', 'm4': 'blue', 'm6': 'blue'}\n",
    "\n",
    "    if plot_type == 'scatter':\n",
    "        sns.scatterplot(data=df, x='gene_id', y='count', hue='patient_id', palette = palette) #s=4\n",
    "    if plot_type == 'line':\n",
    "        sns.lineplot(data=df, x='gene_id', y='count', hue='patient_id', palette = palette)\n",
    "    \n",
    "    plt.xlabel('ERV id')\n",
    "    plt.ylabel('count')\n",
    "\n",
    "    plt.title('ERV expression levels measured with TEtranscripts')\n",
    "\n",
    "    # Adding legend\n",
    "    plt.legend(title='Mouse ID', loc='upper right')\n",
    "\n",
    "    if threshold == True:\n",
    "        plt.xticks(rotation=90)\n",
    "\n",
    "    plt.show()    "
   ]
  },
  {
   "cell_type": "code",
   "execution_count": null,
   "id": "5afe0dd2-b246-4599-ace3-f734715ce6b8",
   "metadata": {},
   "outputs": [],
   "source": [
    "visualise_ERV_expression_gropus(reshaped, 'line')"
   ]
  },
  {
   "cell_type": "code",
   "execution_count": null,
   "id": "8a250d61-b8a6-45c4-a0c2-4470f5e0e84f",
   "metadata": {},
   "outputs": [],
   "source": [
    "def remove_lowly_expressed(df, threshold):\n",
    "    counts_cols = [col for col in df.columns if col.startswith('m')]\n",
    "    mask = (df[counts_cols] >= threshold).any(axis=1) & (df[counts_cols] <= 500).all(axis=1)\n",
    "    filtered_df = df[mask]\n",
    "    filtered_df.reset_index(drop=True, inplace=True)\n",
    "    return filtered_df\n"
   ]
  },
  {
   "cell_type": "code",
   "execution_count": null,
   "id": "55580134-2142-4db0-9c47-92faa833c84d",
   "metadata": {},
   "outputs": [],
   "source": [
    "filtered = remove_lowly_expressed(expr_ERV, 20)\n",
    "print(filtered.head())\n",
    "\n",
    "reshaped_filtered = reshape_dataframe(filtered)\n",
    "print(reshaped_filtered.head())"
   ]
  },
  {
   "cell_type": "code",
   "execution_count": null,
   "id": "1468c760-918e-455a-a1f4-99af60a87a71",
   "metadata": {},
   "outputs": [],
   "source": [
    "import seaborn as sns\n",
    "import matplotlib.pyplot as plt\n",
    "\n",
    "def visualise_barplot(df,plot_name, threshold=False):\n",
    "    plt.figure(figsize=(30, 30)) \n",
    "    palette = {'m1': 'red', 'm2': 'red', 'm3': 'blue', 'm4': 'blue', 'm5': 'blue'}\n",
    "    \n",
    "    sns.barplot(data=df, x='gene_id', y='count', hue='patient_id', palette=palette) #s=4\n",
    "    \n",
    "    plt.xlabel('ERV id')\n",
    "    plt.ylabel('count')\n",
    "\n",
    "    plt.title('ERV expression levels measured with TEtranscripts')\n",
    "\n",
    "    # Adding legend\n",
    "    plt.legend(title='Mouse ID', loc='upper right')\n",
    "    if threshold:\n",
    "        plt.xticks(rotation=90)\n",
    "    \n",
    "    # Save plot under the DataFrame name\n",
    "    plt.savefig(plot_name)\n",
    "    plt.show()\n",
    "\n",
    "# Example usage:\n",
    "# Assuming df has been defined and named as follows\n",
    "# df.name = 'my_dataframe'\n",
    "# visualise_barplot(df, threshold=True)\n"
   ]
  },
  {
   "cell_type": "code",
   "execution_count": null,
   "id": "d7e7f090-e97e-4551-af8e-679435f423cf",
   "metadata": {},
   "outputs": [],
   "source": [
    "visualise_barplot(reshaped_filtered , 'full_DNMT3A.jpg')"
   ]
  },
  {
   "cell_type": "code",
   "execution_count": null,
   "id": "f4c70e5a-e0b1-4feb-b032-ae88606c1032",
   "metadata": {},
   "outputs": [],
   "source": []
  },
  {
   "cell_type": "code",
   "execution_count": null,
   "id": "0c65b69c-02d9-44fe-99a0-8bef7d416370",
   "metadata": {},
   "outputs": [],
   "source": []
  }
 ],
 "metadata": {
  "kernelspec": {
   "display_name": "Python 3 (ipykernel)",
   "language": "python",
   "name": "python3"
  },
  "language_info": {
   "codemirror_mode": {
    "name": "ipython",
    "version": 3
   },
   "file_extension": ".py",
   "mimetype": "text/x-python",
   "name": "python",
   "nbconvert_exporter": "python",
   "pygments_lexer": "ipython3",
   "version": "3.10.12"
  }
 },
 "nbformat": 4,
 "nbformat_minor": 5
}
