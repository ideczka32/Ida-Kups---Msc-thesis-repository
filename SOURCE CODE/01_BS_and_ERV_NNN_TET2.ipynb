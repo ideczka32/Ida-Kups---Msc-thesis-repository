{
 "cells": [
  {
   "cell_type": "code",
   "execution_count": 1,
   "id": "ab56a7a8-719e-4d30-bfee-333d4453d2cb",
   "metadata": {},
   "outputs": [],
   "source": [
    "import os\n",
    "import pandas as pd \n",
    "import numpy as np\n",
    "import matplotlib.pyplot as plt\n",
    "import re\n",
    "import seaborn as sns"
   ]
  },
  {
   "cell_type": "code",
   "execution_count": null,
   "id": "354c96ff-dd81-4d63-9619-10e634766736",
   "metadata": {},
   "outputs": [],
   "source": []
  },
  {
   "cell_type": "markdown",
   "id": "e1b44fbc-2974-4f5e-90ce-bd6c1e586071",
   "metadata": {},
   "source": [
    "TET2 EXPERIMENT"
   ]
  },
  {
   "cell_type": "code",
   "execution_count": 2,
   "id": "1766ed59-fe01-442a-b38b-98f24677d0bd",
   "metadata": {},
   "outputs": [],
   "source": [
    "rsem_m1 = pd.read_csv('/work/iku/exp1019-cancer-epigenetics-and-ervs/01_BS_and_ERV/results/03_rsem/raw/TET2/1_RNA-Seq_SRR21643414.genes.results', sep = '\\t')\n",
    "rsem_m2 = pd.read_csv('/work/iku/exp1019-cancer-epigenetics-and-ervs/01_BS_and_ERV/results/03_rsem/raw/TET2/2_RNA-Seq_SRR21643410.genes.results', sep = '\\t')\n",
    "rsem_m3 = pd.read_csv('/work/iku/exp1019-cancer-epigenetics-and-ervs/01_BS_and_ERV/results/03_rsem/raw/TET2/3_RNA-Seq_SRR21643406.genes.results', sep = '\\t')\n",
    "rsem_m4 = pd.read_csv('/work/iku/exp1019-cancer-epigenetics-and-ervs/01_BS_and_ERV/results/03_rsem/raw/TET2/4_RNA-Seq_SRR21643402.genes.results', sep = '\\t')\n",
    "rsem_m5 = pd.read_csv('/work/iku/exp1019-cancer-epigenetics-and-ervs/01_BS_and_ERV/results/03_rsem/raw/TET2/5_RNA-Seq_SRR21643398.genes.results', sep = '\\t')\n"
   ]
  },
  {
   "cell_type": "code",
   "execution_count": 3,
   "id": "2a303162-5434-430f-9746-b6053630c73e",
   "metadata": {},
   "outputs": [],
   "source": [
    "columns = ['seqname', 'source', 'feature', 'start', 'end', 'score','strand','frame', 'attribute']\n",
    "\n",
    "ensembl_gtf = pd.read_csv('/work/iku/exp1019-cancer-epigenetics-and-ervs/reference/GRCm38-102/ensembl+geve/GRCm38-102.with_geve_v1.gtf', sep = '\\t', skiprows = 5, dtype = {0:'str', 7:'str'}, names = columns ) #tego typu 7 nie jestem pewna"
   ]
  },
  {
   "cell_type": "code",
   "execution_count": 4,
   "id": "23b934a4-8453-4526-9efb-7b447d61a952",
   "metadata": {},
   "outputs": [],
   "source": [
    "def get_gene_id(df):\n",
    "    df = df.copy()\n",
    "    pattern = r'gene_id \"(.*?)\"'\n",
    "    df['gene_id'] = df['attribute'].str.extract(pattern)\n",
    "    return df "
   ]
  },
  {
   "cell_type": "code",
   "execution_count": 5,
   "id": "5d79460b-7cb5-48af-beed-bfc376156366",
   "metadata": {},
   "outputs": [],
   "source": [
    "ensembl_gtf = get_gene_id(ensembl_gtf)"
   ]
  },
  {
   "cell_type": "code",
   "execution_count": 6,
   "id": "85d4da8f-b322-4766-91fa-83ccab775ec3",
   "metadata": {},
   "outputs": [],
   "source": [
    "file = open('TET2_ERV_names.txt')\n",
    "\n",
    "overexpressed_ERVs = file.read() \n",
    "overexpressed_ERVs_list = overexpressed_ERVs.split('\\n')[:-1]"
   ]
  },
  {
   "cell_type": "code",
   "execution_count": null,
   "id": "e5628e78-c10c-480a-ae21-6fea97f0828c",
   "metadata": {},
   "outputs": [],
   "source": []
  },
  {
   "cell_type": "code",
   "execution_count": 7,
   "id": "a8a76276-2f71-4ea0-ab9b-66c9895097a9",
   "metadata": {},
   "outputs": [],
   "source": [
    "ensembl_gtf_ERVs = ensembl_gtf[ensembl_gtf['gene_id'].isin(overexpressed_ERVs_list)]"
   ]
  },
  {
   "cell_type": "code",
   "execution_count": null,
   "id": "065d9928-f655-4f97-984c-acc625d1e14b",
   "metadata": {},
   "outputs": [],
   "source": []
  },
  {
   "cell_type": "code",
   "execution_count": 8,
   "id": "668e2ec1-1a00-4ed1-916e-fb00caee8d4b",
   "metadata": {},
   "outputs": [],
   "source": [
    "rsem_m1_overexpr = rsem_m1[rsem_m1['gene_id'].isin(overexpressed_ERVs_list)]\n",
    "rsem_m2_overexpr = rsem_m2[rsem_m2['gene_id'].isin(overexpressed_ERVs_list)]\n",
    "rsem_m3_overexpr = rsem_m3[rsem_m3['gene_id'].isin(overexpressed_ERVs_list)]\n",
    "rsem_m4_overexpr = rsem_m4[rsem_m4['gene_id'].isin(overexpressed_ERVs_list)]\n",
    "rsem_m5_overexpr = rsem_m5[rsem_m5['gene_id'].isin(overexpressed_ERVs_list)]"
   ]
  },
  {
   "cell_type": "code",
   "execution_count": 9,
   "id": "8960445c-6621-4c1a-92c6-39ece3c31d3a",
   "metadata": {},
   "outputs": [
    {
     "name": "stdout",
     "output_type": "stream",
     "text": [
      "                                  gene_id                   transcript_id(s)  \\\n",
      "62838      Mmus38.chr11.6752021.6752656.-     Mmus38.chr11.6752021.6752656.-   \n",
      "84706   Mmus38.chr4.101865756.101866367.-  Mmus38.chr4.101865756.101866367.-   \n",
      "85297   Mmus38.chr4.141851853.141852761.-  Mmus38.chr4.141851853.141852761.-   \n",
      "86438     Mmus38.chr4.46582665.46583417.+    Mmus38.chr4.46582665.46583417.+   \n",
      "89049     Mmus38.chr5.44135940.44137139.+    Mmus38.chr5.44135940.44137139.+   \n",
      "100384    Mmus38.chr9.48522394.48523164.-    Mmus38.chr9.48522394.48523164.-   \n",
      "\n",
      "        length  effective_length  expected_count     TPM   FPKM  \n",
      "62838    636.0             561.6           50.80   28.57  19.93  \n",
      "84706    612.0             537.6            0.00    0.00   0.00  \n",
      "85297    909.0             834.6            3.14    1.19   0.83  \n",
      "86438    753.0             678.6            6.00    2.79   1.95  \n",
      "89049   1200.0            1125.6           23.68    6.65   4.64  \n",
      "100384   771.0             696.6          232.16  105.28  73.44  \n"
     ]
    }
   ],
   "source": [
    "print(rsem_m5_overexpr)"
   ]
  },
  {
   "cell_type": "code",
   "execution_count": null,
   "id": "89ac05d4-c0a8-4fb4-b069-234ae0590df7",
   "metadata": {},
   "outputs": [],
   "source": []
  },
  {
   "cell_type": "code",
   "execution_count": 16,
   "id": "a16b15a0-2bb8-4451-8383-775426bcf31e",
   "metadata": {},
   "outputs": [
    {
     "name": "stdout",
     "output_type": "stream",
     "text": [
      "                              gene_id     TPM patient_id\n",
      "0      Mmus38.chr11.6752021.6752656.-    3.53  control_1\n",
      "1   Mmus38.chr4.101865756.101866367.-   18.60  control_1\n",
      "2   Mmus38.chr4.141851853.141852761.-   15.19  control_1\n",
      "3     Mmus38.chr4.46582665.46583417.+   32.42  control_1\n",
      "4     Mmus38.chr5.44135940.44137139.+    1.29  control_1\n",
      "5     Mmus38.chr9.48522394.48523164.-  362.25  control_1\n",
      "6      Mmus38.chr11.6752021.6752656.-    2.43  control_2\n",
      "7   Mmus38.chr4.101865756.101866367.-   26.45  control_2\n",
      "8   Mmus38.chr4.141851853.141852761.-   17.15  control_2\n",
      "9     Mmus38.chr4.46582665.46583417.+   13.83  control_2\n",
      "10    Mmus38.chr5.44135940.44137139.+    0.00  control_2\n",
      "11    Mmus38.chr9.48522394.48523164.-  583.89  control_2\n",
      "12     Mmus38.chr11.6752021.6752656.-    0.00  mutated_1\n",
      "13  Mmus38.chr4.101865756.101866367.-   14.20  mutated_1\n",
      "14  Mmus38.chr4.141851853.141852761.-    3.74  mutated_1\n",
      "15    Mmus38.chr4.46582665.46583417.+    8.98  mutated_1\n",
      "16    Mmus38.chr5.44135940.44137139.+    1.29  mutated_1\n",
      "17    Mmus38.chr9.48522394.48523164.-  131.14  mutated_1\n",
      "18     Mmus38.chr11.6752021.6752656.-   40.49  mutated_2\n",
      "19  Mmus38.chr4.101865756.101866367.-    0.00  mutated_2\n",
      "20  Mmus38.chr4.141851853.141852761.-    0.00  mutated_2\n",
      "21    Mmus38.chr4.46582665.46583417.+    1.45  mutated_2\n",
      "22    Mmus38.chr5.44135940.44137139.+   11.25  mutated_2\n",
      "23    Mmus38.chr9.48522394.48523164.-   62.52  mutated_2\n",
      "24     Mmus38.chr11.6752021.6752656.-   28.57  mutated_3\n",
      "25  Mmus38.chr4.101865756.101866367.-    0.00  mutated_3\n",
      "26  Mmus38.chr4.141851853.141852761.-    1.19  mutated_3\n",
      "27    Mmus38.chr4.46582665.46583417.+    2.79  mutated_3\n",
      "28    Mmus38.chr5.44135940.44137139.+    6.65  mutated_3\n",
      "29    Mmus38.chr9.48522394.48523164.-  105.28  mutated_3\n"
     ]
    }
   ],
   "source": [
    "\n",
    "mouse_list = [rsem_m1_overexpr, rsem_m2_overexpr, rsem_m3_overexpr, rsem_m4_overexpr, rsem_m5_overexpr]\n",
    "#columns_to_drop = ['transcript_id(s)', 'length', 'effective_length', 'TPM', 'FPKM']\n",
    "columns_to_drop = ['transcript_id(s)', 'length', 'effective_length', 'expected_count', 'FPKM']\n",
    "\n",
    "ctr = 1\n",
    "full_df = pd.DataFrame()\n",
    "\n",
    "ctr_to_name = {1:'control_1', 2:'control_2', 3:'mutated_1', 4:'mutated_2', 5: 'mutated_3'}\n",
    "\n",
    "for mouse in mouse_list:\n",
    "    mouse = mouse.copy()\n",
    "    mouse['patient_id'] = ctr_to_name[ctr]\n",
    "    mouse.drop(columns=columns_to_drop, inplace=True)\n",
    "    #print(mouse)\n",
    "    full_df = pd.concat([full_df, mouse], ignore_index=True)\n",
    "    ctr += 1\n",
    "\n",
    "print(full_df)\n"
   ]
  },
  {
   "cell_type": "code",
   "execution_count": 17,
   "id": "c2b2acb2-687f-44c9-b3a5-ef47a4a60727",
   "metadata": {},
   "outputs": [],
   "source": [
    "def extract_chrom(df):\n",
    "    pattern = r\"^Mmus38\\.(chr[^.]+)\\.\"\n",
    "    df['chrom'] = df['gene_id'].str.extract(pattern)\n",
    "    return df\n",
    "    \n",
    "def extract_start_pos(df):\n",
    "    pattern = r\"^Mmus38\\.[^.]+\\.([^.]+)\\.\"\n",
    "    df['start'] = df['gene_id'].str.extract(pattern)\n",
    "    df.astype({'start': 'int32'}).dtypes\n",
    "    return df"
   ]
  },
  {
   "cell_type": "code",
   "execution_count": 18,
   "id": "020eddc1-8742-4317-a435-7322521a8ce5",
   "metadata": {},
   "outputs": [
    {
     "name": "stdout",
     "output_type": "stream",
     "text": [
      "                              gene_id     TPM patient_id  chrom      start\n",
      "0      Mmus38.chr11.6752021.6752656.-    3.53  control_1  chr11    6752021\n",
      "1   Mmus38.chr4.101865756.101866367.-   18.60  control_1   chr4  101865756\n",
      "2   Mmus38.chr4.141851853.141852761.-   15.19  control_1   chr4  141851853\n",
      "3     Mmus38.chr4.46582665.46583417.+   32.42  control_1   chr4   46582665\n",
      "4     Mmus38.chr5.44135940.44137139.+    1.29  control_1   chr5   44135940\n",
      "5     Mmus38.chr9.48522394.48523164.-  362.25  control_1   chr9   48522394\n",
      "6      Mmus38.chr11.6752021.6752656.-    2.43  control_2  chr11    6752021\n",
      "7   Mmus38.chr4.101865756.101866367.-   26.45  control_2   chr4  101865756\n",
      "8   Mmus38.chr4.141851853.141852761.-   17.15  control_2   chr4  141851853\n",
      "9     Mmus38.chr4.46582665.46583417.+   13.83  control_2   chr4   46582665\n",
      "10    Mmus38.chr5.44135940.44137139.+    0.00  control_2   chr5   44135940\n",
      "11    Mmus38.chr9.48522394.48523164.-  583.89  control_2   chr9   48522394\n",
      "12     Mmus38.chr11.6752021.6752656.-    0.00  mutated_1  chr11    6752021\n",
      "13  Mmus38.chr4.101865756.101866367.-   14.20  mutated_1   chr4  101865756\n",
      "14  Mmus38.chr4.141851853.141852761.-    3.74  mutated_1   chr4  141851853\n",
      "15    Mmus38.chr4.46582665.46583417.+    8.98  mutated_1   chr4   46582665\n",
      "16    Mmus38.chr5.44135940.44137139.+    1.29  mutated_1   chr5   44135940\n",
      "17    Mmus38.chr9.48522394.48523164.-  131.14  mutated_1   chr9   48522394\n",
      "18     Mmus38.chr11.6752021.6752656.-   40.49  mutated_2  chr11    6752021\n",
      "19  Mmus38.chr4.101865756.101866367.-    0.00  mutated_2   chr4  101865756\n",
      "20  Mmus38.chr4.141851853.141852761.-    0.00  mutated_2   chr4  141851853\n",
      "21    Mmus38.chr4.46582665.46583417.+    1.45  mutated_2   chr4   46582665\n",
      "22    Mmus38.chr5.44135940.44137139.+   11.25  mutated_2   chr5   44135940\n",
      "23    Mmus38.chr9.48522394.48523164.-   62.52  mutated_2   chr9   48522394\n",
      "24     Mmus38.chr11.6752021.6752656.-   28.57  mutated_3  chr11    6752021\n",
      "25  Mmus38.chr4.101865756.101866367.-    0.00  mutated_3   chr4  101865756\n",
      "26  Mmus38.chr4.141851853.141852761.-    1.19  mutated_3   chr4  141851853\n",
      "27    Mmus38.chr4.46582665.46583417.+    2.79  mutated_3   chr4   46582665\n",
      "28    Mmus38.chr5.44135940.44137139.+    6.65  mutated_3   chr5   44135940\n",
      "29    Mmus38.chr9.48522394.48523164.-  105.28  mutated_3   chr9   48522394\n"
     ]
    }
   ],
   "source": [
    "full_df = extract_chrom(full_df)\n",
    "full_df = extract_start_pos(full_df)\n",
    "print(full_df)"
   ]
  },
  {
   "cell_type": "code",
   "execution_count": 22,
   "id": "39f114a9-62f7-4e7d-830f-f8d37aed38bd",
   "metadata": {},
   "outputs": [
    {
     "name": "stderr",
     "output_type": "stream",
     "text": [
      "/tmp/ipykernel_1235577/814984421.py:78: UserWarning: set_ticklabels() should only be used with a fixed number of ticks, i.e. after set_ticks() or using a FixedLocator.\n",
      "  ax.set_xticklabels(ax.get_xticklabels(), rotation=10)\n",
      "/tmp/ipykernel_1235577/814984421.py:78: UserWarning: set_ticklabels() should only be used with a fixed number of ticks, i.e. after set_ticks() or using a FixedLocator.\n",
      "  ax.set_xticklabels(ax.get_xticklabels(), rotation=10)\n",
      "/tmp/ipykernel_1235577/814984421.py:78: UserWarning: set_ticklabels() should only be used with a fixed number of ticks, i.e. after set_ticks() or using a FixedLocator.\n",
      "  ax.set_xticklabels(ax.get_xticklabels(), rotation=10)\n",
      "/tmp/ipykernel_1235577/814984421.py:78: UserWarning: set_ticklabels() should only be used with a fixed number of ticks, i.e. after set_ticks() or using a FixedLocator.\n",
      "  ax.set_xticklabels(ax.get_xticklabels(), rotation=10)\n"
     ]
    }
   ],
   "source": [
    "from PIL import Image, ImageDraw, ImageFont\n",
    "import matplotlib.pyplot as plt\n",
    "import seaborn as sns\n",
    "import os\n",
    "\n",
    "def merge_images(image_files, output_filename, subplots_per_row, main_title):\n",
    "    images = [Image.open(img) for img in image_files]\n",
    "    widths, heights = zip(*(img.size for img in images))\n",
    "\n",
    "    # Calculate the dimensions of the grid\n",
    "    num_images = len(images)\n",
    "    rows = (num_images - 1) // subplots_per_row + 1\n",
    "\n",
    "    # Calculate the total width and height of the merged image\n",
    "    max_width = max(widths) * subplots_per_row\n",
    "    total_height = sum(heights[i] for i in range(0, num_images, subplots_per_row))\n",
    "    title_height = 100  # Space for the title\n",
    "\n",
    "    new_image = Image.new('RGB', (max_width, total_height + title_height), color=(255, 255, 255))\n",
    "\n",
    "    # Draw the title\n",
    "    draw = ImageDraw.Draw(new_image)\n",
    "    try:\n",
    "        title_font = ImageFont.truetype(\"Roboto-Regular.ttf\", 40)  # Adjust the font size as needed\n",
    "    except IOError:\n",
    "        title_font = ImageFont.load_default()  # Load default font if the specified font is not found\n",
    "\n",
    "    font_size = 60\n",
    "\n",
    "    # Calculate font size for the default font\n",
    "    while True:\n",
    "        try:\n",
    "            temp_font = ImageFont.truetype(\"Roboto-Regular.ttf\", font_size)\n",
    "        except IOError:\n",
    "            temp_font = ImageFont.load_default()\n",
    "        title_bbox = draw.textbbox((0, 0), main_title, font=temp_font)\n",
    "        title_width = title_bbox[2] - title_bbox[0]\n",
    "        if title_width < max_width or font_size <= 10:\n",
    "            title_font = temp_font\n",
    "            break\n",
    "        font_size -= 1\n",
    "\n",
    "    title_position = ((max_width - title_width) // 2, 20)  # Centered title\n",
    "    draw.text(title_position, main_title, fill=\"black\", font=title_font)\n",
    "\n",
    "    y_offset = title_height + 40  # Add some padding for the title\n",
    "    for row in range(0, num_images, subplots_per_row):\n",
    "        max_height_in_row = max(heights[row:row+subplots_per_row])\n",
    "        x_offset = 0\n",
    "        for img in images[row:row+subplots_per_row]:\n",
    "            new_image.paste(img, (x_offset, y_offset))\n",
    "            x_offset += img.size[0]\n",
    "        y_offset += max_height_in_row\n",
    "\n",
    "    new_image.save(output_filename)\n",
    "\n",
    "def visualise_ERV_expression_groups_3(df, filename, threshold=True, split_by_chrom=False, subplots_per_row=2, main_title=\"ERV Expression Levels\"):\n",
    "    palette = {'control_1': 'indianred', 'control_2': 'indianred', 'mutated_1': 'steelblue', 'mutated_2': 'steelblue', 'mutated_3': 'steelblue'}\n",
    "\n",
    "    if split_by_chrom:\n",
    "        # Group data by chromosome\n",
    "        chrom_groups = df.groupby('chrom')\n",
    "        num_chroms = len(chrom_groups)\n",
    "\n",
    "        image_files = []\n",
    "\n",
    "        for chrom, group in chrom_groups:\n",
    "            # Sort the group by ascending order of 'start' position\n",
    "            group['start'] = group['start'].astype(int)\n",
    "            group_sorted = group.sort_values(by='start')\n",
    "            fig, ax = plt.subplots(figsize=(15, 10))\n",
    "            sns.barplot(data=group_sorted, x='gene_id', y='TPM', hue='patient_id', palette=palette, ax=ax)\n",
    "            ax.set_title(f'Chromosome {chrom}', fontdict = {'fontsize':20})\n",
    "            ax.set_xlabel('ERV id')\n",
    "            ax.set_ylabel('TPM')\n",
    "            ax.legend(title='Cell ID', loc='upper right')\n",
    "            if threshold:\n",
    "                ax.set_xticklabels(ax.get_xticklabels(), rotation=10)\n",
    "\n",
    "            # Save each subplot individually\n",
    "            img_filename = f'{filename}_{chrom}.png'\n",
    "            plt.savefig(img_filename)\n",
    "            plt.close()  # Close the current figure to prevent memory issues\n",
    "            \n",
    "            image_files.append(img_filename)\n",
    "\n",
    "        # Merge the saved images into a single grid\n",
    "        merge_images(image_files, f'{filename}_merged.png', subplots_per_row, main_title)\n",
    "\n",
    "        # Remove individual subplot images\n",
    "        for img_file in image_files:\n",
    "            os.remove(img_file)\n",
    "\n",
    "    else:\n",
    "        sns.barplot(data=df, x='gene_id', y='TPM', hue='patient_id', palette=palette)\n",
    "        plt.xlabel('ERV id')\n",
    "        plt.ylabel('Count')\n",
    "        plt.title(main_title)\n",
    "        plt.legend(title='Cell ID', loc='upper right')\n",
    "        if threshold:\n",
    "            plt.xticks(rotation=90)\n",
    "        plt.savefig(filename)\n",
    "        plt.show()\n",
    "\n",
    "# Example usage\n",
    "visualise_ERV_expression_groups_3(full_df, 'TET2_diffexp_ERV', subplots_per_row=2, split_by_chrom=True, main_title=\"TET2: TPM values of differentially expressed ERV's\")\n"
   ]
  },
  {
   "cell_type": "code",
   "execution_count": null,
   "id": "43f66bce-bd28-419f-936c-bfac710654bc",
   "metadata": {},
   "outputs": [],
   "source": [
    "from PIL import Image\n",
    "\n",
    "def merge_images(image_files, output_filename, subplots_per_row):\n",
    "    images = [Image.open(img) for img in image_files]\n",
    "    widths, heights = zip(*(img.size for img in images))\n",
    "\n",
    "    # Calculate the dimensions of the grid\n",
    "    num_images = len(images)\n",
    "    rows = (num_images - 1) // subplots_per_row + 1\n",
    "\n",
    "    # Calculate the total width and height of the merged image\n",
    "    max_width = max(widths) * subplots_per_row\n",
    "    total_height = sum(heights[i] for i in range(0, num_images, subplots_per_row))\n",
    "\n",
    "    new_image = Image.new('RGB', (max_width, total_height), color=(255, 255, 255))\n",
    "\n",
    "    y_offset = 0\n",
    "    for row in range(0, num_images, subplots_per_row):\n",
    "        max_height_in_row = max(heights[row:row+subplots_per_row])\n",
    "        x_offset = 0\n",
    "        for img in images[row:row+subplots_per_row]:\n",
    "            new_image.paste(img, (x_offset, y_offset))\n",
    "            x_offset += img.size[0]\n",
    "        y_offset += max_height_in_row\n",
    "    new_image.text((24,24), \n",
    "    new_image.save(output_filename)\n",
    "\n",
    "def visualise_ERV_expression_gropus_3(df, filename, threshold=True, split_by_chrom=False, subplots_per_row=3):\n",
    "    palette = {1: 'indianred', 2: 'indianred', 3: 'steelblue', 4: 'steelblue',5:'steelblue'}\n",
    "\n",
    "    if split_by_chrom:\n",
    "        # Group data by chromosome\n",
    "        chrom_groups = df.groupby('chrom')\n",
    "        num_chroms = len(chrom_groups)\n",
    "\n",
    "        image_files = []\n",
    "\n",
    "        for chrom, group in chrom_groups:\n",
    "            # Sort the group by ascending order of 'start' position\n",
    "            group['start'] = group['start'].astype(int)\n",
    "\n",
    "            group_sorted = group.sort_values(by='start')\n",
    "            print(group_sorted)\n",
    "            fig, ax = plt.subplots(figsize=(15, 10))\n",
    "            sns.barplot(data=group_sorted, x='gene_id', y='TPM', hue='patient_id', palette=palette, ax=ax)\n",
    "            ax.set_title(f'Chromosome {chrom}')\n",
    "            ax.set_xlabel('ERV id')\n",
    "            ax.set_ylabel('TPM')\n",
    "            ax.legend(title='Cell ID', loc='upper right')\n",
    "            if threshold:\n",
    "                ax.set_xticklabels(ax.get_xticklabels(), rotation=10)\n",
    "\n",
    "            # Save each subplot individually\n",
    "            img_filename = f'{filename}_{chrom}.png'\n",
    "            plt.savefig(img_filename)\n",
    "            plt.close()  # Close the current figure to prevent memory issues\n",
    "            \n",
    "            image_files.append(img_filename)\n",
    "\n",
    "        # Merge the saved images into a single grid\n",
    "        merge_images(image_files, f'{filename}_merged.png', subplots_per_row)\n",
    "\n",
    "        # Remove individual subplot images\n",
    "        for img_file in image_files:\n",
    "            os.remove(img_file)\n",
    "\n",
    "    else:    \n",
    "        sns.barplot(data=df, x='gene_id', y='TPM', hue='patient_id', palette=palette)\n",
    "        plt.xlabel('ERV id')\n",
    "        plt.ylabel('Count')\n",
    "        plt.title('ERV expression levels measured with RSEM')\n",
    "        plt.legend(title='Cell ID', loc='upper right')\n",
    "        if threshold:\n",
    "            plt.xticks(rotation=90)\n",
    "        plt.savefig(filename)\n",
    "        plt.show()\n"
   ]
  },
  {
   "cell_type": "code",
   "execution_count": null,
   "id": "826c4095-464f-4f8b-988d-42d8bf028ee2",
   "metadata": {},
   "outputs": [],
   "source": [
    "visualise_ERV_expression_gropus_3(full_df, 'TET2_diffexp_ERV', split_by_chrom = True, subplots_per_row = 2)"
   ]
  },
  {
   "cell_type": "code",
   "execution_count": 24,
   "id": "453de969-897a-4bd1-b9a9-91e629db468f",
   "metadata": {},
   "outputs": [
    {
     "name": "stdout",
     "output_type": "stream",
     "text": [
      "60983\n"
     ]
    }
   ],
   "source": [
    "rsem_erv_1 = rsem_m1[rsem_m1['gene_id'].str.startswith('Mmus38')]\n",
    "rsem_erv_2 = rsem_m2[rsem_m2['gene_id'].str.startswith('Mmus38')]\n",
    "rsem_erv_3 = rsem_m3[rsem_m3['gene_id'].str.startswith('Mmus38')]\n",
    "rsem_erv_4 = rsem_m4[rsem_m4['gene_id'].str.startswith('Mmus38')]\n",
    "rsem_erv_5 = rsem_m5[rsem_m5['gene_id'].str.startswith('Mmus38')]\n",
    "\n",
    "print(len(rsem_erv_1)) #in DEseq2 we have the same nr"
   ]
  },
  {
   "cell_type": "code",
   "execution_count": 25,
   "id": "f87ba69c-9722-4ce0-b7ca-820d3b53e479",
   "metadata": {},
   "outputs": [],
   "source": [
    "def count_breadth(expression_df):\n",
    "    breadth = len(expression_df[expression_df['TPM'] > 1] )    \n",
    "    return breadth\n",
    "\n",
    "def count_abundance(expression_df):\n",
    "    abundance = expression_df['TPM'].sum()\n",
    "    return abundance\n",
    "\n",
    "#def count_expected_count(expression_df):\n",
    "#    expected_count = expression_df['expected_count'].sum()\n",
    "#    return expected_count"
   ]
  },
  {
   "cell_type": "code",
   "execution_count": 26,
   "id": "4c09ed4a-3557-47eb-9aa1-a6f02e67ccde",
   "metadata": {},
   "outputs": [],
   "source": [
    "#M1\n",
    "m1_breadth = count_breadth(rsem_erv_1)\n",
    "m1_abundance = count_abundance(rsem_erv_1)\n",
    "#m1_expected_count = count_expected_count(rsem_erv_1)\n",
    "#M2\n",
    "m2_breadth = count_breadth(rsem_erv_2)\n",
    "m2_abundance = count_abundance(rsem_erv_2)\n",
    "#m2_expected_count = count_expected_count(rsem_erv_2)\n",
    "#M3\n",
    "m3_breadth = count_breadth(rsem_erv_3)\n",
    "m3_abundance = count_abundance(rsem_erv_3)\n",
    "#m3_expected_count = count_expected_count(rsem_erv_3)\n",
    "#M4\n",
    "m4_breadth = count_breadth(rsem_erv_4)\n",
    "m4_abundance = count_abundance(rsem_erv_4)\n",
    "#m4_expected_count = count_expected_count(rsem_erv_4)\n",
    "#M5\n",
    "m5_breadth = count_breadth(rsem_erv_5)\n",
    "m5_abundance = count_abundance(rsem_erv_5)\n",
    "#m5_expected_count = count_expected_count(rsem_erv_5)"
   ]
  },
  {
   "cell_type": "code",
   "execution_count": 27,
   "id": "6f1f5b1b-8a89-4faf-89fa-abab386916c4",
   "metadata": {},
   "outputs": [
    {
     "name": "stdout",
     "output_type": "stream",
     "text": [
      "m1 breadth : 564 m1 abundance 9250.670000000002 \n",
      "m2 breadth : 661 m2 abundance 7443.51 \n",
      "m3 breadth : 294 m3 abundance 2893.74 \n",
      "m4 breadth : 384 m4 abundance 3969.85 \n",
      "m5 breadth : 390 m5 abundance 3256.4999999999995 \n"
     ]
    }
   ],
   "source": [
    "print('m1 breadth : {} m1 abundance {} '.format(m1_breadth, m1_abundance))\n",
    "print('m2 breadth : {} m2 abundance {} '.format(m2_breadth, m2_abundance))\n",
    "print('m3 breadth : {} m3 abundance {} '.format(m3_breadth, m3_abundance))\n",
    "print('m4 breadth : {} m4 abundance {} '.format(m4_breadth, m4_abundance))\n",
    "print('m5 breadth : {} m5 abundance {} '.format(m5_breadth, m5_abundance))\n",
    "\n"
   ]
  },
  {
   "cell_type": "markdown",
   "id": "63c9cdfc-819e-474e-89a2-023ff910b95f",
   "metadata": {},
   "source": [
    "TEcounts PART"
   ]
  },
  {
   "cell_type": "code",
   "execution_count": 28,
   "id": "9e13e5f4-0e3b-4911-8d88-502deaae8045",
   "metadata": {},
   "outputs": [],
   "source": [
    "\n",
    "def get_TEtranscript_path(directory_path, subfolder):\n",
    "    subfolder_path = os.path.join(directory_path, subfolder)\n",
    "    files = os.listdir(subfolder_path)\n",
    "    if len(files) != 1:\n",
    "        return 0\n",
    "    return os.path.join(subfolder_path, files[0])\n",
    "    \n",
    "def modify_columns(columns, patient_id):\n",
    "    modified_columns = [col + '_' + patient_id for col in columns]\n",
    "    return modified_columns\n",
    "\n",
    "def consolidate_gene_id_columns(df):\n",
    "    gene_id_columns = [col for col in df.columns if col.startswith('gene_id_')]\n",
    "    if gene_id_columns:\n",
    "        df['gene_id'] = df[gene_id_columns[0]]\n",
    "        df.drop(gene_id_columns, axis=1, inplace=True)\n",
    "    return df\n",
    "\n",
    "    \n",
    "def load_TEtranscript_data(directory_path):\n",
    "    columns = ['gene_id', 'count']\n",
    "    TEtranscript_data = {}\n",
    "    for subfolder in os.listdir(directory_path):\n",
    "        patient_id, _ = subfolder.split('_')\n",
    "        TE_file_path = get_TEtranscript_path(directory_path, subfolder)\n",
    "        if TE_file_path == 0:\n",
    "            print('couldn \\'t load the TEfile')\n",
    "            return 0\n",
    "        TEtranscript_data[patient_id] = pd.read_csv(TE_file_path, sep='\\t', header=0, names=modify_columns(columns, patient_id))\n",
    "    return TEtranscript_data\n",
    "\n",
    "# Example usage:\n",
    "directory_path = '/work/iku/exp1019-cancer-epigenetics-and-ervs/01_BS_and_ERV/results/03_TEcount/TET2/'\n",
    "\n",
    "TEtranscript_data = load_TEtranscript_data(directory_path)"
   ]
  },
  {
   "cell_type": "code",
   "execution_count": 29,
   "id": "904b7314-5996-438b-8a6b-ada4c8460ed6",
   "metadata": {},
   "outputs": [
    {
     "name": "stdout",
     "output_type": "stream",
     "text": [
      "{'1':                         gene_id_1  count_1\n",
      "0              ENSMUSG00000000001        0\n",
      "1              ENSMUSG00000000003        0\n",
      "2              ENSMUSG00000000028       88\n",
      "3              ENSMUSG00000000031        0\n",
      "4              ENSMUSG00000000037        0\n",
      "...                           ...      ...\n",
      "117812     Zaphod2:hAT-Tip100:DNA        3\n",
      "117813     Zaphod3:hAT-Tip100:DNA       39\n",
      "117814      Zaphod:hAT-Tip100:DNA       66\n",
      "117815         hAT-N1_Mam:hAT:DNA       14\n",
      "117816  nhAT5a_ML:hAT-Charlie:DNA        0\n",
      "\n",
      "[117817 rows x 2 columns], '3':                         gene_id_3  count_3\n",
      "0              ENSMUSG00000000001        0\n",
      "1              ENSMUSG00000000003        0\n",
      "2              ENSMUSG00000000028      153\n",
      "3              ENSMUSG00000000031        0\n",
      "4              ENSMUSG00000000037        0\n",
      "...                           ...      ...\n",
      "117812     Zaphod2:hAT-Tip100:DNA        1\n",
      "117813     Zaphod3:hAT-Tip100:DNA       54\n",
      "117814      Zaphod:hAT-Tip100:DNA      114\n",
      "117815         hAT-N1_Mam:hAT:DNA       16\n",
      "117816  nhAT5a_ML:hAT-Charlie:DNA        0\n",
      "\n",
      "[117817 rows x 2 columns], '4':                         gene_id_4  count_4\n",
      "0              ENSMUSG00000000001        0\n",
      "1              ENSMUSG00000000003        0\n",
      "2              ENSMUSG00000000028       90\n",
      "3              ENSMUSG00000000031        0\n",
      "4              ENSMUSG00000000037        0\n",
      "...                           ...      ...\n",
      "117812     Zaphod2:hAT-Tip100:DNA        0\n",
      "117813     Zaphod3:hAT-Tip100:DNA       39\n",
      "117814      Zaphod:hAT-Tip100:DNA       44\n",
      "117815         hAT-N1_Mam:hAT:DNA        7\n",
      "117816  nhAT5a_ML:hAT-Charlie:DNA        0\n",
      "\n",
      "[117817 rows x 2 columns], '5':                         gene_id_5  count_5\n",
      "0              ENSMUSG00000000001        0\n",
      "1              ENSMUSG00000000003        0\n",
      "2              ENSMUSG00000000028       77\n",
      "3              ENSMUSG00000000031        0\n",
      "4              ENSMUSG00000000037        0\n",
      "...                           ...      ...\n",
      "117812     Zaphod2:hAT-Tip100:DNA        0\n",
      "117813     Zaphod3:hAT-Tip100:DNA       32\n",
      "117814      Zaphod:hAT-Tip100:DNA       80\n",
      "117815         hAT-N1_Mam:hAT:DNA        8\n",
      "117816  nhAT5a_ML:hAT-Charlie:DNA        0\n",
      "\n",
      "[117817 rows x 2 columns], '2':                         gene_id_2  count_2\n",
      "0              ENSMUSG00000000001        0\n",
      "1              ENSMUSG00000000003        0\n",
      "2              ENSMUSG00000000028       75\n",
      "3              ENSMUSG00000000031        0\n",
      "4              ENSMUSG00000000037        0\n",
      "...                           ...      ...\n",
      "117812     Zaphod2:hAT-Tip100:DNA        0\n",
      "117813     Zaphod3:hAT-Tip100:DNA       20\n",
      "117814      Zaphod:hAT-Tip100:DNA       50\n",
      "117815         hAT-N1_Mam:hAT:DNA        7\n",
      "117816  nhAT5a_ML:hAT-Charlie:DNA        0\n",
      "\n",
      "[117817 rows x 2 columns]}\n"
     ]
    }
   ],
   "source": [
    "print(TEtranscript_data)"
   ]
  },
  {
   "cell_type": "markdown",
   "id": "5779d1c5-b25a-4fbe-bc9e-8579190f0eaf",
   "metadata": {},
   "source": [
    "CONCATENATE TEtranscript DATA INTO ONE BIG DATAFRAME"
   ]
  },
  {
   "cell_type": "code",
   "execution_count": null,
   "id": "e66fa9b6-87d5-42a8-a646-2e758d5f7f09",
   "metadata": {},
   "outputs": [],
   "source": [
    "def concatenate_patient_dataframes(TEtranscript_data):\n",
    "    patient_dfs = list(TEtranscript_data.values())\n",
    "    concatenated_df = pd.concat(patient_dfs, axis=1) if patient_dfs else None\n",
    "    concatenated_df = consolidate_gene_id_columns(concatenated_df)\n",
    "    return concatenated_df"
   ]
  },
  {
   "cell_type": "code",
   "execution_count": null,
   "id": "23040209-09c3-4aea-b294-9e2ccfa24c2c",
   "metadata": {},
   "outputs": [],
   "source": [
    "TET2_TE_df = concatenate_patient_dataframes(TEtranscript_data)\n",
    "print(TET2_TE_df)"
   ]
  },
  {
   "cell_type": "markdown",
   "id": "97750a28-0714-431e-bd7d-d9a8a9ddec2d",
   "metadata": {},
   "source": [
    "FILTER OUT ALL NON ERV DATA"
   ]
  },
  {
   "cell_type": "code",
   "execution_count": null,
   "id": "2a2f5346-4d03-4ab5-aa6b-2800574d7250",
   "metadata": {},
   "outputs": [],
   "source": [
    "TET2_TE_df_ERV = TET2_TE_df[TET2_TE_df['gene_id'].str.startswith('Mmus38')]\n",
    "#print(TET2_TE_df_ERV.head())\n",
    "\n",
    "TET2_TE_df_filt = TET2_TE_df_ERV[TET2_TE_df_ERV['gene_id'].isin(overexpr_genes)]\n",
    "print(TET2_TE_df_filt)"
   ]
  },
  {
   "cell_type": "markdown",
   "id": "2e37073d-9bf9-486e-b699-4575c0e0c06e",
   "metadata": {},
   "source": [
    "FILTER ALL ERVS THAT ARE NOT EXPRESSED IN ANY OF THE MICE"
   ]
  },
  {
   "cell_type": "code",
   "execution_count": null,
   "id": "77b848fb-3b70-42ce-b71f-794b0ee0efd0",
   "metadata": {},
   "outputs": [],
   "source": [
    "def filter_non_expressed_ERV(df):\n",
    "    count_columns = [col for col in df.columns if col.startswith('count')]\n",
    "    \n",
    "    # Sum values along the rows for selected columns\n",
    "    df.loc[:, 'sum_counts'] = df[count_columns].astype(int).sum(axis=1)\n",
    "    \n",
    "    # Filter rows where sum_counts is greater than 0\n",
    "    df = df.loc[df['sum_counts'] > 0]\n",
    "    \n",
    "    # Drop the temporary 'sum_counts' column\n",
    "    del df['sum_counts']\n",
    "    \n",
    "    return df"
   ]
  },
  {
   "cell_type": "code",
   "execution_count": null,
   "id": "363b72d7-a660-4488-a234-2c55357b96ca",
   "metadata": {},
   "outputs": [],
   "source": [
    "TET2_TE_df_ERV_filtered = filter_non_expressed_ERV(TET2_TE_df_ERV)\n",
    "print(TET2_TE_df_ERV_filtered.shape)"
   ]
  },
  {
   "cell_type": "markdown",
   "id": "6d6fa7e1-9fcb-43df-b84a-7d25b7dd88d6",
   "metadata": {},
   "source": [
    "VISUALISE DIFFERENCES IN ERV EXPRESSION BETWEEN THE SAMPLES"
   ]
  },
  {
   "cell_type": "code",
   "execution_count": null,
   "id": "02fadc01-b99e-4883-8b3c-e9b7d936a428",
   "metadata": {},
   "outputs": [],
   "source": [
    "def reshape_dataframe(df):\n",
    "    id_vars = ['gene_id']\n",
    "    value_vars = [col for col in df.columns if col.startswith('count_')]\n",
    "    \n",
    "    # Melt the DataFrame\n",
    "    melted_df = pd.melt(df, id_vars=id_vars, value_vars=value_vars, var_name='patient_id', value_name='count')\n",
    "    \n",
    "    # Extract patient_id from column names\n",
    "    melted_df['patient_id'] = melted_df['patient_id'].str.split('_', expand=True)[1].astype(int)\n",
    "    \n",
    "    return melted_df"
   ]
  },
  {
   "cell_type": "code",
   "execution_count": null,
   "id": "c8544861-3a02-4deb-96f7-f6a313520724",
   "metadata": {},
   "outputs": [],
   "source": [
    "reshaped = reshape_dataframe(TET2_TE_df_ERV_filtered)\n",
    "print(reshaped.head())\n",
    "def visualise_ERV_expression(df, plot_type, threshold = False):\n",
    "    plt.figure(figsize=(30, 30)) \n",
    "\n",
    "    if plot_type == 'scatter':\n",
    "        sns.scatterplot(data=df, x='gene_id', y='count', hue='patient_id', palette = 'tab10') #s=4\n",
    "    if plot_type == 'line':\n",
    "        sns.lineplot(data=df, x='gene_id', y='count', hue='patient_id', palette = 'tab10')\n",
    "    \n",
    "    plt.xlabel('ERV id')\n",
    "    plt.ylabel('count')\n",
    "\n",
    "    plt.title('ERV expression levels measured with TEtranscripts')\n",
    "\n",
    "    # Adding legend\n",
    "    plt.legend(title='Mouse ID', loc='upper right')\n",
    "    if threshold == True:\n",
    "        plt.xticks(rotation=90)\n",
    "    plt.savefig('TEcounts_TET2_threshold.jpg')\n",
    "    plt.show()    \n"
   ]
  },
  {
   "cell_type": "code",
   "execution_count": null,
   "id": "61256881-51ca-4f40-982e-b8af79e974ff",
   "metadata": {},
   "outputs": [],
   "source": [
    "# plot_type 'line; or 'scatter'\n",
    "visualise_ERV_expression(reshaped, 'line')"
   ]
  },
  {
   "cell_type": "code",
   "execution_count": null,
   "id": "4f454f99-c895-495e-8e11-925e3014bf13",
   "metadata": {},
   "outputs": [],
   "source": [
    "def visualise_ERV_expression_gropus(df, plot_type, threshold = False):\n",
    "    plt.figure(figsize=(30, 30)) \n",
    "\n",
    "    palette = {1: 'red', 2: 'red', 3: 'blue', 4: 'blue', 5: 'blue'}\n",
    "\n",
    "    if plot_type == 'scatter':\n",
    "        sns.scatterplot(data=df, x='gene_id', y='count', hue='patient_id', palette = palette) #s=4\n",
    "    if plot_type == 'line':\n",
    "        sns.lineplot(data=df, x='gene_id', y='count', hue='patient_id', palette = palette)\n",
    "    \n",
    "    plt.xlabel('ERV id')\n",
    "    plt.ylabel('count')\n",
    "\n",
    "    plt.title('ERV expression levels measured with TEtranscripts')\n",
    "\n",
    "    # Adding legend\n",
    "    plt.legend(title='Mouse ID', loc='upper right')\n",
    "\n",
    "    if threshold == True:\n",
    "        plt.xticks(rotation=90)\n",
    "    plt.savefig('TET2_threshold.jpg')\n",
    "    plt.show()    "
   ]
  },
  {
   "cell_type": "markdown",
   "id": "fdd80e36-6866-4b01-a44c-583f97bb7a21",
   "metadata": {},
   "source": [
    "import cytosine reports from trimmed and untrimmed data "
   ]
  },
  {
   "cell_type": "code",
   "execution_count": null,
   "id": "4f34cf8a-3aea-4aab-a22b-5e8943fc88e1",
   "metadata": {},
   "outputs": [],
   "source": [
    "visualise_ERV_expression_gropus(reshaped, 'line')"
   ]
  },
  {
   "cell_type": "markdown",
   "id": "7436a63c-df9e-4f3a-8ddc-3ac6d584337b",
   "metadata": {},
   "source": [
    "ONLY VISUALISE ERV's WITH EXPRESSION HIGHER THAN A THRESHOLD"
   ]
  },
  {
   "cell_type": "code",
   "execution_count": null,
   "id": "64ae3038-1189-4ceb-ab14-36783e96a001",
   "metadata": {},
   "outputs": [],
   "source": [
    "def remove_lowly_expressed(df, threshold):\n",
    "    counts_cols = [col for col in df.columns if col.startswith('count_')]\n",
    "    mask = (df[counts_cols] >= threshold).any(axis=1)\n",
    "    filtered_df = df[mask]\n",
    "    return filtered_df"
   ]
  },
  {
   "cell_type": "code",
   "execution_count": null,
   "id": "7fd0b7ef-2cb0-45ba-98da-114cdc65a040",
   "metadata": {},
   "outputs": [],
   "source": [
    "highly_expressed = remove_lowly_expressed(TET2_TE_df_ERV_filtered, 500)\n",
    "highly_expressed_reshaped = reshape_dataframe(highly_expressed)\n",
    "print(highly_expressed)"
   ]
  },
  {
   "cell_type": "code",
   "execution_count": null,
   "id": "5b27eb06-88b4-4ad1-94fa-321d4e583569",
   "metadata": {},
   "outputs": [],
   "source": [
    "#visualise_ERV_expression_gropus(highly_expressed_reshaped, 'scatter', threshold = True)\n",
    "visualise_ERV_expression(highly_expressed_reshaped, 'line', threshold = True)\n"
   ]
  },
  {
   "cell_type": "markdown",
   "id": "f118b06c-f3d5-418f-b52b-3f8f397d3dac",
   "metadata": {},
   "source": [
    "HIGHLY EXPRESSED ERVS IN TET2 MOUSES"
   ]
  },
  {
   "cell_type": "code",
   "execution_count": null,
   "id": "d7f7069f-2d6e-4d2d-91fb-d49c65d8a0d1",
   "metadata": {},
   "outputs": [],
   "source": [
    "highly_expressed_ERVs = list(highly_expressed['gene_id'])\n",
    "print(highly_expressed_ERVs)"
   ]
  },
  {
   "cell_type": "code",
   "execution_count": null,
   "id": "6a9f870a-e87d-41f8-926f-96bb5231ed19",
   "metadata": {},
   "outputs": [],
   "source": [
    "for gene in overexpr_genes:\n",
    "    print(highly_expressed[highly_expressed['gene_id'] == gene])\n",
    "    "
   ]
  },
  {
   "cell_type": "code",
   "execution_count": null,
   "id": "05852f49-fb6f-4bbf-a3ee-06d998e75f25",
   "metadata": {},
   "outputs": [],
   "source": []
  },
  {
   "cell_type": "code",
   "execution_count": null,
   "id": "a3cde970-c387-4daf-aa3e-7386273f5f98",
   "metadata": {},
   "outputs": [],
   "source": []
  },
  {
   "cell_type": "code",
   "execution_count": null,
   "id": "8e801eef-9376-4355-99a9-12fdebf9646c",
   "metadata": {},
   "outputs": [],
   "source": []
  },
  {
   "cell_type": "code",
   "execution_count": null,
   "id": "60706488-dc3b-4828-8572-065abcb12e11",
   "metadata": {},
   "outputs": [],
   "source": []
  },
  {
   "cell_type": "code",
   "execution_count": null,
   "id": "47540b9b-6a01-4651-82e7-9977dbd57c96",
   "metadata": {},
   "outputs": [],
   "source": []
  },
  {
   "cell_type": "code",
   "execution_count": null,
   "id": "9fc7d7c5-f000-42ff-a732-1793d494136f",
   "metadata": {},
   "outputs": [],
   "source": []
  },
  {
   "cell_type": "code",
   "execution_count": null,
   "id": "66e12e7d-d7bf-4c4b-b870-10526f2447ae",
   "metadata": {},
   "outputs": [],
   "source": []
  },
  {
   "cell_type": "code",
   "execution_count": null,
   "id": "617eccdd-bee2-495f-9e41-b572230c341b",
   "metadata": {},
   "outputs": [],
   "source": []
  },
  {
   "cell_type": "code",
   "execution_count": null,
   "id": "f11e2357-6f3e-41c3-99cd-f59036c174e6",
   "metadata": {},
   "outputs": [],
   "source": []
  },
  {
   "cell_type": "code",
   "execution_count": null,
   "id": "b6eb6a9e-62b1-41f4-97b2-5a8d07a6c223",
   "metadata": {},
   "outputs": [],
   "source": []
  },
  {
   "cell_type": "code",
   "execution_count": null,
   "id": "53a27ffa-fb27-4f4d-a44f-763404a4ad2f",
   "metadata": {},
   "outputs": [],
   "source": []
  },
  {
   "cell_type": "code",
   "execution_count": null,
   "id": "18e5b8cc-7517-4787-900f-4d89783a5372",
   "metadata": {},
   "outputs": [],
   "source": []
  },
  {
   "cell_type": "code",
   "execution_count": null,
   "id": "0e0afd8a-b820-4ed4-88b0-6868f967c812",
   "metadata": {},
   "outputs": [],
   "source": []
  },
  {
   "cell_type": "code",
   "execution_count": null,
   "id": "f7fcb11f-f631-4cf6-aded-87c1729c61e4",
   "metadata": {},
   "outputs": [],
   "source": []
  },
  {
   "cell_type": "code",
   "execution_count": null,
   "id": "b3bdcd45-5b1f-4e46-9838-990a55987726",
   "metadata": {},
   "outputs": [],
   "source": []
  },
  {
   "cell_type": "code",
   "execution_count": null,
   "id": "42e959b8-2a1a-4050-926e-75aa8b3d711d",
   "metadata": {},
   "outputs": [],
   "source": []
  },
  {
   "cell_type": "code",
   "execution_count": null,
   "id": "63b41f9c-9d9e-44d7-9e9e-931c5817482b",
   "metadata": {},
   "outputs": [],
   "source": []
  },
  {
   "cell_type": "code",
   "execution_count": null,
   "id": "5bd3c56b-e238-4411-85f1-6400927bbc50",
   "metadata": {},
   "outputs": [],
   "source": []
  },
  {
   "cell_type": "code",
   "execution_count": null,
   "id": "7d343c49-24c6-4b02-8963-0eb011ee7eb5",
   "metadata": {},
   "outputs": [],
   "source": [
    "from PIL import Image\n",
    "\n",
    "def merge_images(image_files, output_filename, subplots_per_row):\n",
    "    images = [Image.open(img) for img in image_files]\n",
    "    widths, heights = zip(*(img.size for img in images))\n",
    "\n",
    "    # Calculate the dimensions of the grid\n",
    "    num_images = len(images)\n",
    "    rows = (num_images - 1) // subplots_per_row + 1\n",
    "\n",
    "    # Calculate the total width and height of the merged image\n",
    "    max_width = max(widths) * subplots_per_row\n",
    "    total_height = sum(heights[i] for i in range(0, num_images, subplots_per_row))\n",
    "\n",
    "    new_image = Image.new('RGB', (max_width, total_height), color=(255, 255, 255))\n",
    "\n",
    "    y_offset = 0\n",
    "    for row in range(0, num_images, subplots_per_row):\n",
    "        max_height_in_row = max(heights[row:row+subplots_per_row])\n",
    "        x_offset = 0\n",
    "        for img in images[row:row+subplots_per_row]:\n",
    "            new_image.paste(img, (x_offset, y_offset))\n",
    "            x_offset += img.size[0]\n",
    "        y_offset += max_height_in_row\n",
    "\n",
    "    new_image.save(output_filename)\n",
    "\n",
    "def visualise_ERV_expression_gropus_3(df, filename, threshold=True, split_by_chrom=False, subplots_per_row=3):\n",
    "    palette = {1: 'indianred', 2: 'indianred', 3: 'steelblue', 4: 'steelblue',5:'steelblue'}\n",
    "\n",
    "    if split_by_chrom:\n",
    "        # Group data by chromosome\n",
    "        chrom_groups = df.groupby('chrom')\n",
    "        num_chroms = len(chrom_groups)\n",
    "\n",
    "        image_files = []\n",
    "\n",
    "        for chrom, group in chrom_groups:\n",
    "            # Sort the group by ascending order of 'start' position\n",
    "            group['start'] = group['start'].astype(int)\n",
    "\n",
    "            group_sorted = group.sort_values(by='start')\n",
    "            print(group_sorted)\n",
    "            fig, ax = plt.subplots(figsize=(15, 10))\n",
    "            sns.barplot(data=group_sorted, x='gene_id', y='TPM', hue='patient_id', palette=palette, ax=ax)\n",
    "            ax.set_title(f'Chromosome {chrom}')\n",
    "            ax.set_xlabel('ERV id')\n",
    "            ax.set_ylabel('TPM')\n",
    "            ax.legend(title='Cell ID', loc='upper right')\n",
    "            if threshold:\n",
    "                ax.set_xticklabels(ax.get_xticklabels(), rotation=10)\n",
    "\n",
    "            # Save each subplot individually\n",
    "            img_filename = f'{filename}_{chrom}.png'\n",
    "            plt.savefig(img_filename)\n",
    "            plt.close()  # Close the current figure to prevent memory issues\n",
    "            \n",
    "            image_files.append(img_filename)\n",
    "\n",
    "        # Merge the saved images into a single grid\n",
    "        merge_images(image_files, f'{filename}_merged.png', subplots_per_row)\n",
    "\n",
    "        # Remove individual subplot images\n",
    "        for img_file in image_files:\n",
    "            os.remove(img_file)\n",
    "\n",
    "    else:    \n",
    "        sns.barplot(data=df, x='gene_id', y='TPM', hue='patient_id', palette=palette)\n",
    "        plt.xlabel('ERV id')\n",
    "        plt.ylabel('Count')\n",
    "        plt.title('ERV expression levels measured with RSEM')\n",
    "        plt.legend(title='Cell ID', loc='upper right')\n",
    "        if threshold:\n",
    "            plt.xticks(rotation=90)\n",
    "        plt.savefig(filename)\n",
    "        plt.show()\n"
   ]
  },
  {
   "cell_type": "code",
   "execution_count": null,
   "id": "8bb13072-daaf-4ccd-8a09-d9abb1d8e389",
   "metadata": {},
   "outputs": [],
   "source": []
  },
  {
   "cell_type": "code",
   "execution_count": null,
   "id": "f2c990ca-9264-4e79-8239-c07d6d7456fd",
   "metadata": {},
   "outputs": [],
   "source": [
    "Dnmt3a_form = {\n",
    "    'GSM2309133' : '+/-',\n",
    "    'GSM2309134' : '+/-',\n",
    "    'GSM2309135' : '+/+',\n",
    "    'GSM2309136' : '+/+',\n",
    "    'GSM2309137' : '+/m',\n",
    "    'GSM2309138' : '+/+',\n",
    "    'GSM2309139' : '+/m',\n",
    "    'GSM2309140' : '+/m',\n",
    "    'GSM2309141' : '+/m'\n",
    "\n",
    "}\n",
    "#rnaseq sra id : patient_id, 'rnaseq sample', 'genotype', 'bissulfite sra\n",
    "Tet2_form = {\n",
    "    'SRR21643414' : [1, 'GSM6594851', '+/+', 'SRR21658932'],\n",
    "    'SRR21643410' : [2, 'GSM6594852', '+/+', 'SRR21658928'],\n",
    "    'SRR21643406' : [3, 'GSM6594853', '-,-', 'SRR21658920'],\n",
    "    'SRR21643402' : [4, 'GSM6594854', '-/-', 'SRR21658916'],\n",
    "    'SRR21643398' : [5, 'GSM6594855', '-/-', 'SRR21658912']\n",
    "}\n"
   ]
  }
 ],
 "metadata": {
  "kernelspec": {
   "display_name": "Python 3 (ipykernel)",
   "language": "python",
   "name": "python3"
  },
  "language_info": {
   "codemirror_mode": {
    "name": "ipython",
    "version": 3
   },
   "file_extension": ".py",
   "mimetype": "text/x-python",
   "name": "python",
   "nbconvert_exporter": "python",
   "pygments_lexer": "ipython3",
   "version": "3.10.12"
  }
 },
 "nbformat": 4,
 "nbformat_minor": 5
}
