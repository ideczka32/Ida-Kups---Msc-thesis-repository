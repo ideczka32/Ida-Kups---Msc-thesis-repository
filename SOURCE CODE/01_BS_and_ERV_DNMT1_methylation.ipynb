{
 "cells": [
  {
   "cell_type": "code",
   "execution_count": 2,
   "id": "38618ba9-207d-4994-94ac-46451ea43966",
   "metadata": {},
   "outputs": [],
   "source": [
    "import os\n",
    "import pandas as pd \n",
    "import numpy as np\n",
    "import matplotlib.pyplot as plt\n",
    "import re\n",
    "import seaborn as sns\n",
    "from PIL import Image"
   ]
  },
  {
   "cell_type": "markdown",
   "id": "7e4e588c-96d5-41b6-9075-be5e9389b488",
   "metadata": {},
   "source": [
    "USE THE GTF FILE TO EXTRACT THE ERV REGIONS"
   ]
  },
  {
   "cell_type": "code",
   "execution_count": 10,
   "id": "4144b732-2c87-43c5-bd68-5fbc8e614810",
   "metadata": {},
   "outputs": [
    {
     "name": "stdout",
     "output_type": "stream",
     "text": [
      "  seqname          source      feature   start     end score strand frame  \\\n",
      "0       1  ensembl_havana         gene  685679  686673     .      -     .   \n",
      "1       1  ensembl_havana   transcript  685679  686673     .      -     .   \n",
      "2       1  ensembl_havana         exon  685679  686673     .      -     .   \n",
      "3       1  ensembl_havana          CDS  685719  686654     .      -     0   \n",
      "4       1  ensembl_havana  start_codon  686652  686654     .      -     0   \n",
      "\n",
      "                                           attribute  \n",
      "0  gene_id \"ENSG00000284662\"; gene_version \"1\"; g...  \n",
      "1  gene_id \"ENSG00000284662\"; gene_version \"1\"; t...  \n",
      "2  gene_id \"ENSG00000284662\"; gene_version \"1\"; t...  \n",
      "3  gene_id \"ENSG00000284662\"; gene_version \"1\"; t...  \n",
      "4  gene_id \"ENSG00000284662\"; gene_version \"1\"; t...  \n"
     ]
    }
   ],
   "source": [
    "columns = ['seqname', 'source', 'feature', 'start', 'end', 'score','strand','frame', 'attribute']\n",
    "\n",
    "ensembl_gtf = pd.read_csv('/work/iku/exp1019-cancer-epigenetics-and-ervs/reference/GRCh38-104/ensembl+geve/GRCh38-104.with_geve_v1.gtf', sep = '\\t', skiprows = 5, dtype = {0:'str', 7:'str'}, names = columns ) #tego typu 7 nie jestem pewna\n",
    "print(ensembl_gtf.head())"
   ]
  },
  {
   "cell_type": "code",
   "execution_count": null,
   "id": "426b69a8-5ab3-4b86-ad8e-1ec71d8ae907",
   "metadata": {},
   "outputs": [],
   "source": [
    "FILTER OUT TO ONLY KEEP ROWS FOR ERVs "
   ]
  },
  {
   "cell_type": "code",
   "execution_count": 11,
   "id": "e7881180-fa62-4efc-95c9-4fab47b0fb10",
   "metadata": {},
   "outputs": [],
   "source": [
    "def get_gene_id(df):\n",
    "    df = df.copy()\n",
    "    pattern = r'gene_id \"(.*?)\"'\n",
    "    df['gene_id'] = df['attribute'].str.extract(pattern)\n",
    "    return df "
   ]
  },
  {
   "cell_type": "code",
   "execution_count": 16,
   "id": "35350e97-06f8-435e-904c-f8a6036243b4",
   "metadata": {},
   "outputs": [],
   "source": [
    "ensembl_gtf = get_gene_id(ensembl_gtf)"
   ]
  },
  {
   "cell_type": "markdown",
   "id": "7e089e9f-9a9d-4afe-9bbf-3d2781ea8744",
   "metadata": {},
   "source": [
    "GET DIFFERENTIALLY EXPRESSED ERVS AND EXTRACT THEIR REGIONS"
   ]
  },
  {
   "cell_type": "code",
   "execution_count": 17,
   "id": "2e3a25b8-e61c-4114-9dbf-16fed44be8e2",
   "metadata": {},
   "outputs": [],
   "source": [
    "#read in the overexpressed ERVs that we got form DESEQ2 \n",
    "file = open('ERV_names.txt')\n",
    "\n",
    "overexpressed_ERVs = file.read() \n",
    "overexpressed_ERVs_list = overexpressed_ERVs.split('\\n')[:-1]\n",
    "erv_df = pd.DataFrame(overexpressed_ERVs_list, columns = ['gene_id'])"
   ]
  },
  {
   "cell_type": "code",
   "execution_count": 27,
   "id": "a39c93ea-212d-4cfa-8337-34dbfe6fafba",
   "metadata": {},
   "outputs": [],
   "source": [
    "#print(erv_df)"
   ]
  },
  {
   "cell_type": "markdown",
   "id": "046a0a52-58b8-4504-87c8-17f2163b0805",
   "metadata": {},
   "source": [
    "KEEP ONLY THE ROWS OF GTF FOR WHICH THE ERV IS PRESENT IN THE OVEREXPRESSED LIST"
   ]
  },
  {
   "cell_type": "code",
   "execution_count": 28,
   "id": "1b2ca879-493b-43f7-bfb6-55b2fc8cdcbe",
   "metadata": {},
   "outputs": [],
   "source": [
    "ensembl_gtf_ERVs = ensembl_gtf[ensembl_gtf['gene_id'].isin(overexpressed_ERVs_list)]\n",
    "#print(ensembl_gtf_ERVs)\n"
   ]
  },
  {
   "cell_type": "code",
   "execution_count": 29,
   "id": "ce3054e7-2c06-446d-a10f-d79bb4c5d961",
   "metadata": {},
   "outputs": [
    {
     "name": "stderr",
     "output_type": "stream",
     "text": [
      "/tmp/ipykernel_716212/492579917.py:2: SettingWithCopyWarning: \n",
      "A value is trying to be set on a copy of a slice from a DataFrame.\n",
      "Try using .loc[row_indexer,col_indexer] = value instead\n",
      "\n",
      "See the caveats in the documentation: https://pandas.pydata.org/pandas-docs/stable/user_guide/indexing.html#returning-a-view-versus-a-copy\n",
      "  erv_bedgraph_data['is_erv'] = 100\n"
     ]
    }
   ],
   "source": [
    "erv_bedgraph_data = ensembl_gtf_ERVs[['seqname','start','end']]\n",
    "erv_bedgraph_data['is_erv'] = 100\n",
    "#print(erv_bedgraph_data)"
   ]
  },
  {
   "cell_type": "code",
   "execution_count": 30,
   "id": "99daf263-7dbc-41a5-9175-d1b164f55845",
   "metadata": {},
   "outputs": [],
   "source": [
    "output_bedgraph_file = \"ervs.bedgraph\"\n",
    "erv_bedgraph_data.to_csv(output_bedgraph_file, sep=\"\\t\", header=False, index=False)"
   ]
  },
  {
   "cell_type": "code",
   "execution_count": 31,
   "id": "df73c0e3-26be-4c4d-a2e1-32bd975d9cdc",
   "metadata": {},
   "outputs": [],
   "source": [
    "#print(erv_df)"
   ]
  },
  {
   "cell_type": "markdown",
   "id": "28108b9a-0a33-4292-b9cd-9fc52cf14361",
   "metadata": {},
   "source": [
    "READ IN THE COVERAGE DATA"
   ]
  },
  {
   "cell_type": "code",
   "execution_count": 7,
   "id": "3fc0ae84-f236-4e81-9834-86493125b8e3",
   "metadata": {},
   "outputs": [],
   "source": [
    "columns = ['chr', 'start', 'end', 'pr_methylated', 'num_methylated', 'num_unmethylated']\n",
    "s1 = pd.read_csv('/work/iku/exp1019-cancer-epigenetics-and-ervs/01_BS_and_ERV/results/bismark/methylation_call_raw/DNMT1/1/SRR12646267_1_bismark_bt2_pe.bismark.cov.gz', compression = 'gzip', sep = '\\t', dtype = {0:'str'}, names = columns)\n",
    "s2 = pd.read_csv('/work/iku/exp1019-cancer-epigenetics-and-ervs/01_BS_and_ERV/results/bismark/methylation_call_raw/DNMT1/2/SRR12646268_1_bismark_bt2_pe.bismark.cov.gz', compression = 'gzip', sep = '\\t',dtype = {0:'str'}, names = columns)\n",
    "s4= pd.read_csv('/work/iku/exp1019-cancer-epigenetics-and-ervs/01_BS_and_ERV/results/bismark/methylation_call_raw/DNMT1/4/SRR12646270_1_bismark_bt2_pe.bismark.cov.gz', compression = 'gzip', sep = '\\t',dtype = {0:'str'}, names = columns)\n"
   ]
  },
  {
   "cell_type": "code",
   "execution_count": 26,
   "id": "fe107369-8a80-48f8-94d9-60d7c24386e1",
   "metadata": {},
   "outputs": [],
   "source": [
    "#print(s1)"
   ]
  },
  {
   "cell_type": "code",
   "execution_count": 9,
   "id": "521b8601-b02f-48b7-ae10-17ec624ed89d",
   "metadata": {},
   "outputs": [],
   "source": [
    "def update_dataframe(df):\n",
    "    df['pr_unmethylated'] = -1*(100 - df['pr_methylated'])\n",
    "    return df"
   ]
  },
  {
   "cell_type": "code",
   "execution_count": 10,
   "id": "6eba5fdb-6560-4de0-8a9b-6e35d622601a",
   "metadata": {},
   "outputs": [
    {
     "data": {
      "text/html": [
       "<div>\n",
       "<style scoped>\n",
       "    .dataframe tbody tr th:only-of-type {\n",
       "        vertical-align: middle;\n",
       "    }\n",
       "\n",
       "    .dataframe tbody tr th {\n",
       "        vertical-align: top;\n",
       "    }\n",
       "\n",
       "    .dataframe thead th {\n",
       "        text-align: right;\n",
       "    }\n",
       "</style>\n",
       "<table border=\"1\" class=\"dataframe\">\n",
       "  <thead>\n",
       "    <tr style=\"text-align: right;\">\n",
       "      <th></th>\n",
       "      <th>chr</th>\n",
       "      <th>start</th>\n",
       "      <th>end</th>\n",
       "      <th>pr_methylated</th>\n",
       "      <th>num_methylated</th>\n",
       "      <th>num_unmethylated</th>\n",
       "      <th>pr_unmethylated</th>\n",
       "    </tr>\n",
       "  </thead>\n",
       "  <tbody>\n",
       "    <tr>\n",
       "      <th>0</th>\n",
       "      <td>7</td>\n",
       "      <td>11095</td>\n",
       "      <td>11095</td>\n",
       "      <td>0.000000</td>\n",
       "      <td>0</td>\n",
       "      <td>1</td>\n",
       "      <td>-100.000000</td>\n",
       "    </tr>\n",
       "    <tr>\n",
       "      <th>1</th>\n",
       "      <td>7</td>\n",
       "      <td>11103</td>\n",
       "      <td>11103</td>\n",
       "      <td>0.000000</td>\n",
       "      <td>0</td>\n",
       "      <td>1</td>\n",
       "      <td>-100.000000</td>\n",
       "    </tr>\n",
       "    <tr>\n",
       "      <th>2</th>\n",
       "      <td>7</td>\n",
       "      <td>11368</td>\n",
       "      <td>11368</td>\n",
       "      <td>0.000000</td>\n",
       "      <td>0</td>\n",
       "      <td>1</td>\n",
       "      <td>-100.000000</td>\n",
       "    </tr>\n",
       "    <tr>\n",
       "      <th>3</th>\n",
       "      <td>7</td>\n",
       "      <td>11385</td>\n",
       "      <td>11385</td>\n",
       "      <td>50.000000</td>\n",
       "      <td>1</td>\n",
       "      <td>1</td>\n",
       "      <td>-50.000000</td>\n",
       "    </tr>\n",
       "    <tr>\n",
       "      <th>4</th>\n",
       "      <td>7</td>\n",
       "      <td>11482</td>\n",
       "      <td>11482</td>\n",
       "      <td>33.333333</td>\n",
       "      <td>1</td>\n",
       "      <td>2</td>\n",
       "      <td>-66.666667</td>\n",
       "    </tr>\n",
       "    <tr>\n",
       "      <th>...</th>\n",
       "      <td>...</td>\n",
       "      <td>...</td>\n",
       "      <td>...</td>\n",
       "      <td>...</td>\n",
       "      <td>...</td>\n",
       "      <td>...</td>\n",
       "      <td>...</td>\n",
       "    </tr>\n",
       "    <tr>\n",
       "      <th>54354877</th>\n",
       "      <td>KI270548.1</td>\n",
       "      <td>510</td>\n",
       "      <td>510</td>\n",
       "      <td>100.000000</td>\n",
       "      <td>1</td>\n",
       "      <td>0</td>\n",
       "      <td>-0.000000</td>\n",
       "    </tr>\n",
       "    <tr>\n",
       "      <th>54354878</th>\n",
       "      <td>KI270548.1</td>\n",
       "      <td>690</td>\n",
       "      <td>690</td>\n",
       "      <td>100.000000</td>\n",
       "      <td>1</td>\n",
       "      <td>0</td>\n",
       "      <td>-0.000000</td>\n",
       "    </tr>\n",
       "    <tr>\n",
       "      <th>54354879</th>\n",
       "      <td>KI270548.1</td>\n",
       "      <td>713</td>\n",
       "      <td>713</td>\n",
       "      <td>100.000000</td>\n",
       "      <td>1</td>\n",
       "      <td>0</td>\n",
       "      <td>-0.000000</td>\n",
       "    </tr>\n",
       "    <tr>\n",
       "      <th>54354880</th>\n",
       "      <td>KI270548.1</td>\n",
       "      <td>719</td>\n",
       "      <td>719</td>\n",
       "      <td>100.000000</td>\n",
       "      <td>1</td>\n",
       "      <td>0</td>\n",
       "      <td>-0.000000</td>\n",
       "    </tr>\n",
       "    <tr>\n",
       "      <th>54354881</th>\n",
       "      <td>KI270376.1</td>\n",
       "      <td>199</td>\n",
       "      <td>199</td>\n",
       "      <td>0.000000</td>\n",
       "      <td>0</td>\n",
       "      <td>1</td>\n",
       "      <td>-100.000000</td>\n",
       "    </tr>\n",
       "  </tbody>\n",
       "</table>\n",
       "<p>54354882 rows × 7 columns</p>\n",
       "</div>"
      ],
      "text/plain": [
       "                 chr  start    end  pr_methylated  num_methylated  \\\n",
       "0                  7  11095  11095       0.000000               0   \n",
       "1                  7  11103  11103       0.000000               0   \n",
       "2                  7  11368  11368       0.000000               0   \n",
       "3                  7  11385  11385      50.000000               1   \n",
       "4                  7  11482  11482      33.333333               1   \n",
       "...              ...    ...    ...            ...             ...   \n",
       "54354877  KI270548.1    510    510     100.000000               1   \n",
       "54354878  KI270548.1    690    690     100.000000               1   \n",
       "54354879  KI270548.1    713    713     100.000000               1   \n",
       "54354880  KI270548.1    719    719     100.000000               1   \n",
       "54354881  KI270376.1    199    199       0.000000               0   \n",
       "\n",
       "          num_unmethylated  pr_unmethylated  \n",
       "0                        1      -100.000000  \n",
       "1                        1      -100.000000  \n",
       "2                        1      -100.000000  \n",
       "3                        1       -50.000000  \n",
       "4                        2       -66.666667  \n",
       "...                    ...              ...  \n",
       "54354877                 0        -0.000000  \n",
       "54354878                 0        -0.000000  \n",
       "54354879                 0        -0.000000  \n",
       "54354880                 0        -0.000000  \n",
       "54354881                 1      -100.000000  \n",
       "\n",
       "[54354882 rows x 7 columns]"
      ]
     },
     "execution_count": 10,
     "metadata": {},
     "output_type": "execute_result"
    }
   ],
   "source": [
    "update_dataframe(s1)\n",
    "update_dataframe(s2)\n",
    "update_dataframe(s4)"
   ]
  },
  {
   "cell_type": "code",
   "execution_count": 16,
   "id": "9f195b13-bd36-4891-9ad7-132f70dc56d6",
   "metadata": {},
   "outputs": [
    {
     "name": "stdout",
     "output_type": "stream",
     "text": [
      "                 chr  start    end  pr_methylated_df1  num_methylated_df1  \\\n",
      "0                  4  10324  10324          33.333333                   1   \n",
      "1                  4  10326  10326          33.333333                   1   \n",
      "2                  4  10352  10352         100.000000                   3   \n",
      "3                  4  10358  10358         100.000000                   3   \n",
      "4                  4  10360  10360         100.000000                   3   \n",
      "...              ...    ...    ...                ...                 ...   \n",
      "48539956  KI270315.1     90     90          50.000000                   1   \n",
      "48539957  KI270315.1    125    125         100.000000                   1   \n",
      "48539958  KI270315.1    175    175         100.000000                   2   \n",
      "48539959  KI270315.1    275    275         100.000000                   2   \n",
      "48539960  KI270315.1    284    284         100.000000                   2   \n",
      "\n",
      "          num_unmethylated_df1  pr_unmethylated_df1  sample_id_df1  \\\n",
      "0                            2           -66.666667              1   \n",
      "1                            2           -66.666667              1   \n",
      "2                            0            -0.000000              1   \n",
      "3                            0            -0.000000              1   \n",
      "4                            0            -0.000000              1   \n",
      "...                        ...                  ...            ...   \n",
      "48539956                     1           -50.000000              1   \n",
      "48539957                     0            -0.000000              1   \n",
      "48539958                     0            -0.000000              1   \n",
      "48539959                     0            -0.000000              1   \n",
      "48539960                     0            -0.000000              1   \n",
      "\n",
      "          pr_methylated_df2  num_methylated_df2  num_unmethylated_df2  \\\n",
      "0                 50.000000                   1                     1   \n",
      "1                 50.000000                   1                     1   \n",
      "2                100.000000                   2                     0   \n",
      "3                100.000000                   2                     0   \n",
      "4                100.000000                   2                     0   \n",
      "...                     ...                 ...                   ...   \n",
      "48539956          50.000000                   2                     2   \n",
      "48539957         100.000000                   3                     0   \n",
      "48539958          33.333333                   1                     2   \n",
      "48539959         100.000000                   3                     0   \n",
      "48539960          66.666667                   2                     1   \n",
      "\n",
      "          pr_unmethylated_df2  sample_id_df2  pr_methylated  num_methylated  \\\n",
      "0                  -50.000000              2           25.0               1   \n",
      "1                  -50.000000              2           25.0               1   \n",
      "2                   -0.000000              2            0.0               0   \n",
      "3                   -0.000000              2            0.0               0   \n",
      "4                   -0.000000              2            0.0               0   \n",
      "...                       ...            ...            ...             ...   \n",
      "48539956           -50.000000              2          100.0               1   \n",
      "48539957            -0.000000              2          100.0               1   \n",
      "48539958           -66.666667              2            0.0               0   \n",
      "48539959            -0.000000              2          100.0               1   \n",
      "48539960           -33.333333              2          100.0               1   \n",
      "\n",
      "          num_unmethylated  pr_unmethylated  sample_id  methylation_difference  \n",
      "0                        3            -75.0          3               16.666667  \n",
      "1                        3            -75.0          3               16.666667  \n",
      "2                        4           -100.0          3              100.000000  \n",
      "3                        4           -100.0          3              100.000000  \n",
      "4                        4           -100.0          3              100.000000  \n",
      "...                    ...              ...        ...                     ...  \n",
      "48539956                 0             -0.0          3              -50.000000  \n",
      "48539957                 0             -0.0          3                0.000000  \n",
      "48539958                 1           -100.0          3               66.666667  \n",
      "48539959                 0             -0.0          3                0.000000  \n",
      "48539960                 0             -0.0          3              -16.666667  \n",
      "\n",
      "[48539961 rows x 19 columns]\n"
     ]
    }
   ],
   "source": [
    "#only keeping the positions that are covered in all three\n",
    "def merge_by_position(s1,s2,s4):\n",
    "    merged_df = pd.merge(s1, s2, on=['chr', 'start', 'end'], suffixes=('_df1', '_df2'))\n",
    "    merged_df = pd.merge(merged_df, s4, on=['chr', 'start', 'end'])\n",
    "    merged_df['methylation_difference'] = (merged_df['pr_methylated_df1'] + merged_df['pr_methylated_df2'])/2 - merged_df['pr_methylated']\n",
    "    return merged_df\n",
    "\n",
    "merged_by_pos = merge_by_position(s1,s2,s4)\n",
    "#print(merged_by_pos)\n",
    "    "
   ]
  },
  {
   "cell_type": "code",
   "execution_count": 18,
   "id": "f241dc28-51e3-4036-ae6e-e4276430fc2b",
   "metadata": {},
   "outputs": [
    {
     "name": "stdout",
     "output_type": "stream",
     "text": [
      "                 chr  start    end  methylation_difference\n",
      "0                  4  10324  10324               16.666667\n",
      "1                  4  10326  10326               16.666667\n",
      "2                  4  10352  10352              100.000000\n",
      "3                  4  10358  10358              100.000000\n",
      "4                  4  10360  10360              100.000000\n",
      "...              ...    ...    ...                     ...\n",
      "48539956  KI270315.1     90     90              -50.000000\n",
      "48539957  KI270315.1    125    125                0.000000\n",
      "48539958  KI270315.1    175    175               66.666667\n",
      "48539959  KI270315.1    275    275                0.000000\n",
      "48539960  KI270315.1    284    284              -16.666667\n",
      "\n",
      "[48539961 rows x 4 columns]\n"
     ]
    }
   ],
   "source": [
    "#only keep the necessary rows\n",
    "small_df = merged_by_pos[['chr', 'start', 'end', 'methylation_difference']]\n",
    "print(small_df) "
   ]
  },
  {
   "cell_type": "code",
   "execution_count": null,
   "id": "68c5d64e-d3e2-44fc-89d7-b4dddedceb1e",
   "metadata": {},
   "outputs": [],
   "source": [
    "output_bedgraph_file = \"methylation_difference.bedgraph\"\n",
    "small_df.to_csv(output_bedgraph_file, sep=\"\\t\", header=False, index=False)"
   ]
  },
  {
   "cell_type": "code",
   "execution_count": null,
   "id": "a7ffc531-ef3b-495b-a6f1-a09bbcd67400",
   "metadata": {},
   "outputs": [],
   "source": []
  },
  {
   "cell_type": "code",
   "execution_count": null,
   "id": "c0428ad7-4168-4bb8-8222-a228aca9a4d1",
   "metadata": {},
   "outputs": [],
   "source": []
  },
  {
   "cell_type": "code",
   "execution_count": null,
   "id": "e918e08d-db1c-4e59-b8e6-1265bfe93417",
   "metadata": {},
   "outputs": [],
   "source": []
  },
  {
   "cell_type": "code",
   "execution_count": null,
   "id": "1cec5498-e5e6-46e4-b1d7-6258f8cdc821",
   "metadata": {},
   "outputs": [],
   "source": []
  },
  {
   "cell_type": "code",
   "execution_count": 23,
   "id": "f835647a-0e0b-4ada-b135-28e34f0f1694",
   "metadata": {},
   "outputs": [],
   "source": []
  },
  {
   "cell_type": "code",
   "execution_count": null,
   "id": "6cd9d1f9-42b9-4d5c-97af-bba0f96bdf3e",
   "metadata": {
    "scrolled": true
   },
   "outputs": [],
   "source": []
  },
  {
   "cell_type": "code",
   "execution_count": 25,
   "id": "720a0c85-d36e-46b9-b6cd-1962e8f61e73",
   "metadata": {},
   "outputs": [],
   "source": []
  }
 ],
 "metadata": {
  "kernelspec": {
   "display_name": "Python 3 (ipykernel)",
   "language": "python",
   "name": "python3"
  },
  "language_info": {
   "codemirror_mode": {
    "name": "ipython",
    "version": 3
   },
   "file_extension": ".py",
   "mimetype": "text/x-python",
   "name": "python",
   "nbconvert_exporter": "python",
   "pygments_lexer": "ipython3",
   "version": "3.10.12"
  }
 },
 "nbformat": 4,
 "nbformat_minor": 5
}
