{
 "cells": [
  {
   "cell_type": "code",
   "execution_count": 4,
   "id": "398ce30b-1d86-4b73-b0ba-00931ab6ad8b",
   "metadata": {},
   "outputs": [],
   "source": [
    "import os\n",
    "import pandas as pd \n",
    "import numpy as np\n",
    "import matplotlib.pyplot as plt\n",
    "import re\n",
    "import seaborn as sns"
   ]
  },
  {
   "cell_type": "code",
   "execution_count": 14,
   "id": "d9ea24c5-f054-4671-a1b5-368213108963",
   "metadata": {},
   "outputs": [
    {
     "name": "stdout",
     "output_type": "stream",
     "text": [
      "  chr    start      end strand  coverage1  numCs1  numTs1  coverage2  numCs2  \\\n",
      "1   1  3020794  3020794      +        191       3     188        147       0   \n",
      "2   1  3020814  3020814      +        191     188       3        147     133   \n",
      "3   1  3020891  3020891      +        260     248      12        209     197   \n",
      "4   1  3037820  3037820      +        165     131      34        187     156   \n",
      "5   1  3037825  3037825      +        165     149      16        187     175   \n",
      "\n",
      "   numTs2  coverage3  numCs3  numTs3  coverage4  numCs4  numTs4  coverage5  \\\n",
      "1     147        197       0     197        227       0     227        180   \n",
      "2      14        199     197       2        227     221       6        180   \n",
      "3      12        216     201      15        253     232      21        262   \n",
      "4      31        206     167      39        248     209      39        244   \n",
      "5      12        206     200       6        248     231      17        246   \n",
      "\n",
      "   numCs5  numTs5  \n",
      "1       1     179  \n",
      "2     166      14  \n",
      "3     237      25  \n",
      "4     217      27  \n",
      "5     231      15  \n"
     ]
    }
   ],
   "source": [
    "meth = pd.read_csv('meth_DNMT3A.tsv', sep = '\\t', dtype = {'chr':str })\n",
    "print(meth.head())"
   ]
  },
  {
   "cell_type": "code",
   "execution_count": 15,
   "id": "e75924a7-2210-4492-987b-1e20ec9ee3aa",
   "metadata": {},
   "outputs": [],
   "source": [
    "colnames = meth.columns.tolist()\n",
    "numTs = [i for i in colnames if i.startswith('numTs')]\n",
    "coverage = [i for i in colnames if i.startswith('coverage')]"
   ]
  },
  {
   "cell_type": "code",
   "execution_count": 16,
   "id": "abc87542-37ad-4640-b631-a00cdc11fcab",
   "metadata": {},
   "outputs": [],
   "source": [
    "for i in range(1, len(numTs) +1 ):\n",
    "    coverage_col = 'coverage' + str(i)  # Variable name changed to avoid overwriting\n",
    "    numTs_col = 'numTs' + str(i)  # Variable name changed to avoid overwriting\n",
    "    numCs_col = 'numCs' + str(i)\n",
    "    \n",
    "    # Calculate percentage of methylation for each row and assign to a new column\n",
    "    meth['pr_methylated_' + str(i)] = (meth[numTs_col] / meth[coverage_col]) * 100\n",
    "    meth['pr_unmethylated_' + str(i)] = (meth[numCs_col] / meth[coverage_col]) * 100\n",
    "    "
   ]
  },
  {
   "cell_type": "code",
   "execution_count": 17,
   "id": "a2f9e179-c234-4825-a80f-c0545f3de099",
   "metadata": {},
   "outputs": [],
   "source": [
    "#MAKE A DICTIONARY STORING THE DATA SEPARATELY FOR DIFFERENT DATAFRAMES\n",
    "chromosomes = meth.groupby('chr')\n",
    "dataframes = {}\n",
    "for name, group in chromosomes:\n",
    "    dataframes[name] = group.copy()"
   ]
  },
  {
   "cell_type": "code",
   "execution_count": 18,
   "id": "4ef67460-dd67-4e10-adc1-2aa500258e79",
   "metadata": {},
   "outputs": [
    {
     "name": "stdout",
     "output_type": "stream",
     "text": [
      "Index(['chr', 'start', 'end', 'strand', 'coverage1', 'numCs1', 'numTs1',\n",
      "       'coverage2', 'numCs2', 'numTs2', 'coverage3', 'numCs3', 'numTs3',\n",
      "       'coverage4', 'numCs4', 'numTs4', 'coverage5', 'numCs5', 'numTs5',\n",
      "       'pr_methylated_1', 'pr_unmethylated_1', 'pr_methylated_2',\n",
      "       'pr_unmethylated_2', 'pr_methylated_3', 'pr_unmethylated_3',\n",
      "       'pr_methylated_4', 'pr_unmethylated_4', 'pr_methylated_5',\n",
      "       'pr_unmethylated_5'],\n",
      "      dtype='object')\n"
     ]
    }
   ],
   "source": [
    "print(dataframes['1'].columns)"
   ]
  },
  {
   "cell_type": "code",
   "execution_count": 19,
   "id": "47bdd417-735d-4be7-ac49-30b4556a60a9",
   "metadata": {},
   "outputs": [],
   "source": [
    "#columns_to_drop = ['chr', 'start', 'strand', 'coverage1', 'numCs1', 'numTs1',\n",
    "#       'coverage2', 'numCs2', 'numTs2', 'coverage3', 'numCs3', 'numTs3',\n",
    "#       'coverage4', 'numCs4', 'numTs4', 'coverage5', 'numCs5', 'numTs5']\n",
    "\n",
    "#USING BOTH NUM TS AND NUM CS\n",
    "#columns_to_drop = ['chr', 'start', 'strand', 'coverage1',\n",
    "#       'coverage2', 'coverage3', 'coverage4', 'coverage5',\n",
    "#       'pr_methylated_1', 'pr_methylated_2', 'pr_methylated_3',\n",
    "#'pr_methylated_4', 'pr_methylated_5']\n",
    "columns_to_drop = ['chr', 'start', 'strand', 'coverage1', 'numCs1', 'numTs1',\n",
    "       'coverage2', 'numCs2', 'numTs2', 'coverage3', 'numCs3', 'numTs3',\n",
    "       'coverage4', 'numCs4', 'numTs4', 'coverage5', 'numCs5', 'numTs5']\n",
    "\n",
    "chr8 = dataframes['8']\n",
    "#ONLY KEEPING NumTs information\n",
    "chr8_Ts_drop = ['chr', 'start', 'strand', 'coverage1', 'numCs1',\n",
    "       'coverage2', 'numCs2',  'coverage3', 'numCs3', \n",
    "       'coverage4', 'numCs4',  'coverage5', 'numCs5', \n",
    "       'pr_methylated_1', 'pr_methylated_2', 'pr_methylated_3',\n",
    "       'pr_methylated_4', 'pr_methylated_5']\n",
    "\n",
    "#ONLY KEEPING THE COVERAGE INFORMATION\n",
    "chr8_coverage_drop = ['chr', 'start', 'strand',  'numCs1', 'numTs1',\n",
    "        'numCs2', 'numTs2',  'numCs3', 'numTs3',\n",
    "        'numCs4', 'numTs4', 'numCs5', 'numTs5',\n",
    "       'pr_methylated_1', 'pr_methylated_2', 'pr_methylated_3',\n",
    "       'pr_methylated_4', 'pr_methylated_5']\n",
    "\n",
    "chr = chr8.copy()\n",
    "chr8_dr = chr.drop(columns = columns_to_drop)\n",
    "chr = chr8.copy()\n",
    "chr8_Ts = chr.copy().drop(columns = chr8_Ts_drop)\n",
    "chr = chr8.copy()\n",
    "chr8_coverage = chr.copy().drop(columns = chr8_coverage_drop)\n",
    "\n",
    "\n",
    "#print(chr8)"
   ]
  },
  {
   "cell_type": "code",
   "execution_count": 20,
   "id": "6357478f-0373-44c5-ab7b-0275fb4142e2",
   "metadata": {},
   "outputs": [],
   "source": [
    "#CONVERT NUM CS TO NEGATIVE NUMBERS SO THAT WE HAVE TWO TYPES OF INFORMATION ON TWO SIDES OF 0\n",
    "def convert_numCs(df):\n",
    "    df2 = df.copy()\n",
    "    for col in df2.columns:\n",
    "        if col.startswith('numCs'):\n",
    "            df2[col] = df2[col].apply(lambda x: x * -1)\n",
    "    return df2\n",
    "\n",
    "chr8_dr = convert_numCs(chr8_dr)\n",
    "\n",
    "#print(chr8_dr)"
   ]
  },
  {
   "cell_type": "code",
   "execution_count": 21,
   "id": "c006439c-12ce-47ce-986a-f74fd1218487",
   "metadata": {},
   "outputs": [],
   "source": [
    "columns_to_drop = ['chr', 'start', 'strand', 'coverage1', 'numCs1', 'numTs1',\n",
    "       'coverage2', 'numCs2', 'numTs2', 'coverage3', 'numCs3', 'numTs3',\n",
    "       'coverage4', 'numCs4', 'numTs4', 'coverage5', 'numCs5', 'numTs5']"
   ]
  },
  {
   "cell_type": "code",
   "execution_count": 23,
   "id": "e6ee1f37-3dc9-408c-88ee-b2607ad1d62f",
   "metadata": {},
   "outputs": [],
   "source": [
    "chr8 = dataframes['8']\n",
    "chr = chr8.copy()\n",
    "chr8_dr = chr.drop(columns = columns_to_drop)"
   ]
  },
  {
   "cell_type": "code",
   "execution_count": 24,
   "id": "beb7429f-0b0e-4f19-9fb8-91f22e0bffcf",
   "metadata": {},
   "outputs": [],
   "source": [
    "def reshape_dataframe_percentage(df):\n",
    "    id_vars = ['end']\n",
    "    value_vars = [col for col in df.columns if col.startswith('pr') ]\n",
    "    # Melt the DataFrame\n",
    "    melted_df = pd.melt(df, id_vars=id_vars, value_vars=value_vars, var_name='patient_id', value_name='percentage')\n",
    "    \n",
    "    # Extract patient_id from column names\n",
    "    melted_df['patient_id'] = melted_df['patient_id'].str.split('_', expand=True)[2].astype(int)\n",
    "    \n",
    "    return melted_df"
   ]
  },
  {
   "cell_type": "code",
   "execution_count": 25,
   "id": "ea6800c8-2fde-494d-ae89-d84ba2c53524",
   "metadata": {},
   "outputs": [],
   "source": [
    "chr8_dr = convert_numCs(chr8_dr)"
   ]
  },
  {
   "cell_type": "code",
   "execution_count": 26,
   "id": "402e8490-3731-416a-aa9d-8bad4657ea58",
   "metadata": {},
   "outputs": [],
   "source": [
    "reshaped = reshape_dataframe_percentage(chr8_dr)"
   ]
  },
  {
   "cell_type": "code",
   "execution_count": 27,
   "id": "1bdecfb8-01ab-41cb-93af-7cb104add269",
   "metadata": {},
   "outputs": [],
   "source": [
    "def plot_meth_pattern(df, df_name, palette='tab10', savefig=False):\n",
    "    plt.figure(figsize=(12, 8)) \n",
    "    palette = {1: 'red', 2: 'lightcoral', 3: 'navy', 4: 'blue', 5: 'cornflowerblue'}\n",
    "    \n",
    "    # Separate data into positive and negative percentages\n",
    "    df_plus = df[df['percentage'] > 0]\n",
    "    df_minus = df[df['percentage'] < 0]\n",
    "    \n",
    "    # Plot bars for positive percentages\n",
    "    sns.barplot(data=df_plus, x='end', y='percentage', hue='patient_id', palette=palette, alpha=0.7)\n",
    "    \n",
    "    # Plot bars for negative percentages\n",
    "    sns.barplot(data=df_minus, x='end', y='percentage', hue='patient_id', palette=palette, alpha=0.7)\n",
    "    \n",
    "    # Draw a wide line at y = 0\n",
    "    plt.axhline(y=0, color='black', linewidth=3)\n",
    "    \n",
    "    plt.xlabel('Position')\n",
    "    plt.ylabel('Ts count')\n",
    "\n",
    "    plt.title('Methylation pattern, {}, TET2'.format(df_name))\n",
    "    plt.xticks(rotation=90)\n",
    "    \n",
    "    if savefig:\n",
    "        name = df_name + '_percentage.jpg'\n",
    "        plt.savefig(name)\n",
    "    plt.show()\n"
   ]
  },
  {
   "cell_type": "code",
   "execution_count": 28,
   "id": "089fb80f-0097-48c6-a739-c8e7a194fd6e",
   "metadata": {},
   "outputs": [],
   "source": [
    "#GET DAtAFRAMES FOR DIFFERENT CHROMOSOMES\n",
    "chr1 = dataframes['1']\n",
    "chr2 = dataframes['2']\n",
    "chr3 = dataframes['3']\n",
    "chr4 = dataframes['4']\n",
    "chr5 = dataframes['5']\n",
    "chr6 = dataframes['6']\n",
    "chr7 = dataframes['7']\n",
    "chr8 = dataframes['8']\n",
    "chr9 = dataframes['9']\n",
    "chr10 = dataframes['10']\n",
    "chr11 = dataframes['11']\n",
    "chr12 = dataframes['12']\n",
    "chr13 = dataframes['13']\n",
    "chr14 = dataframes['14']\n",
    "chr15 = dataframes['15']\n",
    "chr16 = dataframes['16']\n",
    "chr17 = dataframes['17']\n",
    "chr18 = dataframes['18']\n",
    "chr19 = dataframes['19']\n",
    "chrX = dataframes['X']\n",
    "chrY = dataframes['Y']"
   ]
  },
  {
   "cell_type": "code",
   "execution_count": 29,
   "id": "9a20ff6a-565c-454d-aea0-dafa942907fd",
   "metadata": {},
   "outputs": [],
   "source": [
    "#DROP COLUMNS PERCENTAGE PLOTTING \n",
    "chr1 = chr1.copy().drop(columns = columns_to_drop)\n",
    "chr2 = chr2.copy().drop(columns = columns_to_drop)\n",
    "chr3 = chr3.copy().drop(columns = columns_to_drop)\n",
    "chr4 = chr4.copy().drop(columns = columns_to_drop)\n",
    "chr5 = chr5.copy().drop(columns = columns_to_drop)\n",
    "chr6 = chr6.copy().drop(columns = columns_to_drop)\n",
    "chr7 = chr7.copy().drop(columns = columns_to_drop)\n",
    "chr8 = chr8.copy().drop(columns = columns_to_drop)\n",
    "chr9 = chr9.copy().drop(columns = columns_to_drop)\n",
    "chr10 = chr10.copy().drop(columns = columns_to_drop)\n",
    "chr11 = chr11.copy().drop(columns = columns_to_drop)\n",
    "chr12 = chr12.copy().drop(columns = columns_to_drop)\n",
    "chr13 = chr13.copy().drop(columns = columns_to_drop)\n",
    "chr14 = chr14.copy().drop(columns = columns_to_drop)\n",
    "chr15 = chr15.copy().drop(columns = columns_to_drop)\n",
    "chr16 = chr16.copy().drop(columns = columns_to_drop)\n",
    "chr17 = chr17.copy().drop(columns = columns_to_drop)\n",
    "chr18 = chr18.copy().drop(columns = columns_to_drop)\n",
    "chr19 = chr19.copy().drop(columns = columns_to_drop)\n",
    "chrX = chrX.copy().drop(columns = columns_to_drop)\n",
    "chrY = chrY.copy().drop(columns = columns_to_drop)"
   ]
  },
  {
   "cell_type": "code",
   "execution_count": 30,
   "id": "9148a0ef-1a14-47d7-9dfb-cb71666797b8",
   "metadata": {},
   "outputs": [],
   "source": [
    "#CONVERT Cs TO MINUS VALUES\n",
    "chr1 = convert_numCs(chr1)\n",
    "chr2 = convert_numCs(chr2)\n",
    "chr3 = convert_numCs(chr3)\n",
    "chr4 = convert_numCs(chr4)\n",
    "chr5 = convert_numCs(chr5)\n",
    "chr6 = convert_numCs(chr6)\n",
    "chr7 = convert_numCs(chr7)\n",
    "chr8 = convert_numCs(chr8)\n",
    "chr9 = convert_numCs(chr9)\n",
    "chr10 = convert_numCs(chr10)\n",
    "chr11 = convert_numCs(chr11)\n",
    "chr12 = convert_numCs(chr12)\n",
    "chr13 = convert_numCs(chr12)\n",
    "chr14 = convert_numCs(chr14)\n",
    "chr15 = convert_numCs(chr15)\n",
    "chr16 = convert_numCs(chr16)\n",
    "chr17 = convert_numCs(chr17)\n",
    "chr18 = convert_numCs(chr18)\n",
    "chr19 = convert_numCs(chr19)\n",
    "chrX = convert_numCs(chrX)\n",
    "chrY = convert_numCs(chrY)"
   ]
  },
  {
   "cell_type": "code",
   "execution_count": 31,
   "id": "1bfc4a24-df07-4f31-be5e-f834f45afc11",
   "metadata": {},
   "outputs": [],
   "source": [
    "#RESHAPE PERCENTAGE PLOTTING\n",
    "chr1_re = reshape_dataframe_percentage(chr1)\n",
    "chr2_re = reshape_dataframe_percentage(chr2)\n",
    "chr3_re = reshape_dataframe_percentage(chr3)\n",
    "chr4_re = reshape_dataframe_percentage(chr4)\n",
    "chr5_re = reshape_dataframe_percentage(chr5)\n",
    "chr6_re = reshape_dataframe_percentage(chr6)\n",
    "chr7_re = reshape_dataframe_percentage(chr7)\n",
    "chr8_re = reshape_dataframe_percentage(chr8)\n",
    "chr9_re = reshape_dataframe_percentage(chr9)\n",
    "chr10_re = reshape_dataframe_percentage(chr10)\n",
    "chr11_re = reshape_dataframe_percentage(chr11)\n",
    "chr12_re = reshape_dataframe_percentage(chr12)\n",
    "chr13_re = reshape_dataframe_percentage(chr13)\n",
    "chr14_re = reshape_dataframe_percentage(chr14)\n",
    "chr15_re = reshape_dataframe_percentage(chr15)\n",
    "chr16_re = reshape_dataframe_percentage(chr16)\n",
    "chr17_re = reshape_dataframe_percentage(chr17)\n",
    "chr18_re = reshape_dataframe_percentage(chr18)\n",
    "chr19_re = reshape_dataframe_percentage(chr19)\n",
    "chrX_re = reshape_dataframe_percentage(chrX)\n",
    "chrY_re = reshape_dataframe_percentage(chrY)"
   ]
  },
  {
   "cell_type": "code",
   "execution_count": 32,
   "id": "d902e5b5-6926-49da-8b75-9ddddee522e6",
   "metadata": {},
   "outputs": [
    {
     "ename": "KeyboardInterrupt",
     "evalue": "",
     "output_type": "error",
     "traceback": [
      "\u001b[0;31m---------------------------------------------------------------------------\u001b[0m",
      "\u001b[0;31mKeyboardInterrupt\u001b[0m                         Traceback (most recent call last)",
      "Cell \u001b[0;32mIn[32], line 1\u001b[0m\n\u001b[0;32m----> 1\u001b[0m \u001b[43mplot_meth_pattern\u001b[49m\u001b[43m(\u001b[49m\u001b[43mchr1_re\u001b[49m\u001b[43m,\u001b[49m\u001b[43m \u001b[49m\u001b[38;5;124;43m'\u001b[39;49m\u001b[38;5;124;43mchr1\u001b[39;49m\u001b[38;5;124;43m'\u001b[39;49m\u001b[43m,\u001b[49m\u001b[43m \u001b[49m\u001b[43mpalette\u001b[49m\u001b[43m \u001b[49m\u001b[38;5;241;43m=\u001b[39;49m\u001b[43m \u001b[49m\u001b[38;5;124;43m'\u001b[39;49m\u001b[38;5;124;43mtab10\u001b[39;49m\u001b[38;5;124;43m'\u001b[39;49m\u001b[43m,\u001b[49m\u001b[43m \u001b[49m\u001b[43msavefig\u001b[49m\u001b[43m \u001b[49m\u001b[38;5;241;43m=\u001b[39;49m\u001b[43m \u001b[49m\u001b[38;5;28;43;01mFalse\u001b[39;49;00m\u001b[43m)\u001b[49m\n\u001b[1;32m      2\u001b[0m plot_meth_pattern(chr2_re, \u001b[38;5;124m'\u001b[39m\u001b[38;5;124mchr2\u001b[39m\u001b[38;5;124m'\u001b[39m, palette \u001b[38;5;241m=\u001b[39m \u001b[38;5;124m'\u001b[39m\u001b[38;5;124mtab10\u001b[39m\u001b[38;5;124m'\u001b[39m, savefig \u001b[38;5;241m=\u001b[39m \u001b[38;5;28;01mFalse\u001b[39;00m)\n\u001b[1;32m      3\u001b[0m plot_meth_pattern(chr3_re, \u001b[38;5;124m'\u001b[39m\u001b[38;5;124mchr3\u001b[39m\u001b[38;5;124m'\u001b[39m, palette \u001b[38;5;241m=\u001b[39m \u001b[38;5;124m'\u001b[39m\u001b[38;5;124mtab10\u001b[39m\u001b[38;5;124m'\u001b[39m, savefig \u001b[38;5;241m=\u001b[39m \u001b[38;5;28;01mFalse\u001b[39;00m)\n",
      "Cell \u001b[0;32mIn[27], line 10\u001b[0m, in \u001b[0;36mplot_meth_pattern\u001b[0;34m(df, df_name, palette, savefig)\u001b[0m\n\u001b[1;32m      7\u001b[0m df_minus \u001b[38;5;241m=\u001b[39m df[df[\u001b[38;5;124m'\u001b[39m\u001b[38;5;124mpercentage\u001b[39m\u001b[38;5;124m'\u001b[39m] \u001b[38;5;241m<\u001b[39m \u001b[38;5;241m0\u001b[39m]\n\u001b[1;32m      9\u001b[0m \u001b[38;5;66;03m# Plot bars for positive percentages\u001b[39;00m\n\u001b[0;32m---> 10\u001b[0m \u001b[43msns\u001b[49m\u001b[38;5;241;43m.\u001b[39;49m\u001b[43mbarplot\u001b[49m\u001b[43m(\u001b[49m\u001b[43mdata\u001b[49m\u001b[38;5;241;43m=\u001b[39;49m\u001b[43mdf_plus\u001b[49m\u001b[43m,\u001b[49m\u001b[43m \u001b[49m\u001b[43mx\u001b[49m\u001b[38;5;241;43m=\u001b[39;49m\u001b[38;5;124;43m'\u001b[39;49m\u001b[38;5;124;43mend\u001b[39;49m\u001b[38;5;124;43m'\u001b[39;49m\u001b[43m,\u001b[49m\u001b[43m \u001b[49m\u001b[43my\u001b[49m\u001b[38;5;241;43m=\u001b[39;49m\u001b[38;5;124;43m'\u001b[39;49m\u001b[38;5;124;43mpercentage\u001b[39;49m\u001b[38;5;124;43m'\u001b[39;49m\u001b[43m,\u001b[49m\u001b[43m \u001b[49m\u001b[43mhue\u001b[49m\u001b[38;5;241;43m=\u001b[39;49m\u001b[38;5;124;43m'\u001b[39;49m\u001b[38;5;124;43mpatient_id\u001b[39;49m\u001b[38;5;124;43m'\u001b[39;49m\u001b[43m,\u001b[49m\u001b[43m \u001b[49m\u001b[43mpalette\u001b[49m\u001b[38;5;241;43m=\u001b[39;49m\u001b[43mpalette\u001b[49m\u001b[43m,\u001b[49m\u001b[43m \u001b[49m\u001b[43malpha\u001b[49m\u001b[38;5;241;43m=\u001b[39;49m\u001b[38;5;241;43m0.7\u001b[39;49m\u001b[43m)\u001b[49m\n\u001b[1;32m     12\u001b[0m \u001b[38;5;66;03m# Plot bars for negative percentages\u001b[39;00m\n\u001b[1;32m     13\u001b[0m sns\u001b[38;5;241m.\u001b[39mbarplot(data\u001b[38;5;241m=\u001b[39mdf_minus, x\u001b[38;5;241m=\u001b[39m\u001b[38;5;124m'\u001b[39m\u001b[38;5;124mend\u001b[39m\u001b[38;5;124m'\u001b[39m, y\u001b[38;5;241m=\u001b[39m\u001b[38;5;124m'\u001b[39m\u001b[38;5;124mpercentage\u001b[39m\u001b[38;5;124m'\u001b[39m, hue\u001b[38;5;241m=\u001b[39m\u001b[38;5;124m'\u001b[39m\u001b[38;5;124mpatient_id\u001b[39m\u001b[38;5;124m'\u001b[39m, palette\u001b[38;5;241m=\u001b[39mpalette, alpha\u001b[38;5;241m=\u001b[39m\u001b[38;5;241m0.7\u001b[39m)\n",
      "File \u001b[0;32m/work/iku/exp1019-cancer-epigenetics-and-ervs/virt/lib/python3.10/site-packages/seaborn/categorical.py:2380\u001b[0m, in \u001b[0;36mbarplot\u001b[0;34m(data, x, y, hue, order, hue_order, estimator, errorbar, n_boot, seed, units, weights, orient, color, palette, saturation, fill, hue_norm, width, dodge, gap, log_scale, native_scale, formatter, legend, capsize, err_kws, ci, errcolor, errwidth, ax, **kwargs)\u001b[0m\n\u001b[1;32m   2377\u001b[0m \u001b[38;5;66;03m# Deprecations to remove in v0.15.0.\u001b[39;00m\n\u001b[1;32m   2378\u001b[0m err_kws, capsize \u001b[38;5;241m=\u001b[39m p\u001b[38;5;241m.\u001b[39m_err_kws_backcompat(err_kws, errcolor, errwidth, capsize)\n\u001b[0;32m-> 2380\u001b[0m \u001b[43mp\u001b[49m\u001b[38;5;241;43m.\u001b[39;49m\u001b[43mplot_bars\u001b[49m\u001b[43m(\u001b[49m\n\u001b[1;32m   2381\u001b[0m \u001b[43m    \u001b[49m\u001b[43maggregator\u001b[49m\u001b[38;5;241;43m=\u001b[39;49m\u001b[43maggregator\u001b[49m\u001b[43m,\u001b[49m\n\u001b[1;32m   2382\u001b[0m \u001b[43m    \u001b[49m\u001b[43mdodge\u001b[49m\u001b[38;5;241;43m=\u001b[39;49m\u001b[43mdodge\u001b[49m\u001b[43m,\u001b[49m\n\u001b[1;32m   2383\u001b[0m \u001b[43m    \u001b[49m\u001b[43mwidth\u001b[49m\u001b[38;5;241;43m=\u001b[39;49m\u001b[43mwidth\u001b[49m\u001b[43m,\u001b[49m\n\u001b[1;32m   2384\u001b[0m \u001b[43m    \u001b[49m\u001b[43mgap\u001b[49m\u001b[38;5;241;43m=\u001b[39;49m\u001b[43mgap\u001b[49m\u001b[43m,\u001b[49m\n\u001b[1;32m   2385\u001b[0m \u001b[43m    \u001b[49m\u001b[43mcolor\u001b[49m\u001b[38;5;241;43m=\u001b[39;49m\u001b[43mcolor\u001b[49m\u001b[43m,\u001b[49m\n\u001b[1;32m   2386\u001b[0m \u001b[43m    \u001b[49m\u001b[43mfill\u001b[49m\u001b[38;5;241;43m=\u001b[39;49m\u001b[43mfill\u001b[49m\u001b[43m,\u001b[49m\n\u001b[1;32m   2387\u001b[0m \u001b[43m    \u001b[49m\u001b[43mcapsize\u001b[49m\u001b[38;5;241;43m=\u001b[39;49m\u001b[43mcapsize\u001b[49m\u001b[43m,\u001b[49m\n\u001b[1;32m   2388\u001b[0m \u001b[43m    \u001b[49m\u001b[43merr_kws\u001b[49m\u001b[38;5;241;43m=\u001b[39;49m\u001b[43merr_kws\u001b[49m\u001b[43m,\u001b[49m\n\u001b[1;32m   2389\u001b[0m \u001b[43m    \u001b[49m\u001b[43mplot_kws\u001b[49m\u001b[38;5;241;43m=\u001b[39;49m\u001b[43mkwargs\u001b[49m\u001b[43m,\u001b[49m\n\u001b[1;32m   2390\u001b[0m \u001b[43m\u001b[49m\u001b[43m)\u001b[49m\n\u001b[1;32m   2392\u001b[0m p\u001b[38;5;241m.\u001b[39m_add_axis_labels(ax)\n\u001b[1;32m   2393\u001b[0m p\u001b[38;5;241m.\u001b[39m_adjust_cat_axis(ax, axis\u001b[38;5;241m=\u001b[39mp\u001b[38;5;241m.\u001b[39morient)\n",
      "File \u001b[0;32m/work/iku/exp1019-cancer-epigenetics-and-ervs/virt/lib/python3.10/site-packages/seaborn/categorical.py:1280\u001b[0m, in \u001b[0;36m_CategoricalPlotter.plot_bars\u001b[0;34m(self, aggregator, dodge, gap, width, fill, color, capsize, err_kws, plot_kws)\u001b[0m\n\u001b[1;32m   1273\u001b[0m \u001b[38;5;28;01mfor\u001b[39;00m sub_vars, sub_data \u001b[38;5;129;01min\u001b[39;00m \u001b[38;5;28mself\u001b[39m\u001b[38;5;241m.\u001b[39miter_data(iter_vars,\n\u001b[1;32m   1274\u001b[0m                                          from_comp_data\u001b[38;5;241m=\u001b[39m\u001b[38;5;28;01mTrue\u001b[39;00m,\n\u001b[1;32m   1275\u001b[0m                                          allow_empty\u001b[38;5;241m=\u001b[39m\u001b[38;5;28;01mTrue\u001b[39;00m):\n\u001b[1;32m   1277\u001b[0m     ax \u001b[38;5;241m=\u001b[39m \u001b[38;5;28mself\u001b[39m\u001b[38;5;241m.\u001b[39m_get_axes(sub_vars)\n\u001b[1;32m   1279\u001b[0m     agg_data \u001b[38;5;241m=\u001b[39m sub_data \u001b[38;5;28;01mif\u001b[39;00m sub_data\u001b[38;5;241m.\u001b[39mempty \u001b[38;5;28;01melse\u001b[39;00m (\n\u001b[0;32m-> 1280\u001b[0m         \u001b[43msub_data\u001b[49m\n\u001b[1;32m   1281\u001b[0m \u001b[43m        \u001b[49m\u001b[38;5;241;43m.\u001b[39;49m\u001b[43mgroupby\u001b[49m\u001b[43m(\u001b[49m\u001b[38;5;28;43mself\u001b[39;49m\u001b[38;5;241;43m.\u001b[39;49m\u001b[43morient\u001b[49m\u001b[43m)\u001b[49m\n\u001b[1;32m   1282\u001b[0m \u001b[43m        \u001b[49m\u001b[38;5;241;43m.\u001b[39;49m\u001b[43mapply\u001b[49m\u001b[43m(\u001b[49m\u001b[43maggregator\u001b[49m\u001b[43m,\u001b[49m\u001b[43m \u001b[49m\u001b[43magg_var\u001b[49m\u001b[43m,\u001b[49m\u001b[43m \u001b[49m\u001b[38;5;241;43m*\u001b[39;49m\u001b[38;5;241;43m*\u001b[39;49m\u001b[43mgroupby_apply_include_groups\u001b[49m\u001b[43m(\u001b[49m\u001b[38;5;28;43;01mFalse\u001b[39;49;00m\u001b[43m)\u001b[49m\u001b[43m)\u001b[49m\n\u001b[1;32m   1283\u001b[0m         \u001b[38;5;241m.\u001b[39mreset_index()\n\u001b[1;32m   1284\u001b[0m     )\n\u001b[1;32m   1286\u001b[0m     agg_data[\u001b[38;5;124m\"\u001b[39m\u001b[38;5;124mwidth\u001b[39m\u001b[38;5;124m\"\u001b[39m] \u001b[38;5;241m=\u001b[39m width \u001b[38;5;241m*\u001b[39m \u001b[38;5;28mself\u001b[39m\u001b[38;5;241m.\u001b[39m_native_width\n\u001b[1;32m   1287\u001b[0m     \u001b[38;5;28;01mif\u001b[39;00m dodge:\n",
      "File \u001b[0;32m/work/iku/exp1019-cancer-epigenetics-and-ervs/virt/lib/python3.10/site-packages/pandas/core/groupby/groupby.py:1819\u001b[0m, in \u001b[0;36mGroupBy.apply\u001b[0;34m(self, func, include_groups, *args, **kwargs)\u001b[0m\n\u001b[1;32m   1816\u001b[0m     f \u001b[38;5;241m=\u001b[39m func\n\u001b[1;32m   1818\u001b[0m \u001b[38;5;28;01mif\u001b[39;00m \u001b[38;5;129;01mnot\u001b[39;00m include_groups:\n\u001b[0;32m-> 1819\u001b[0m     \u001b[38;5;28;01mreturn\u001b[39;00m \u001b[38;5;28;43mself\u001b[39;49m\u001b[38;5;241;43m.\u001b[39;49m\u001b[43m_python_apply_general\u001b[49m\u001b[43m(\u001b[49m\u001b[43mf\u001b[49m\u001b[43m,\u001b[49m\u001b[43m \u001b[49m\u001b[38;5;28;43mself\u001b[39;49m\u001b[38;5;241;43m.\u001b[39;49m\u001b[43m_obj_with_exclusions\u001b[49m\u001b[43m)\u001b[49m\n\u001b[1;32m   1821\u001b[0m \u001b[38;5;66;03m# ignore SettingWithCopy here in case the user mutates\u001b[39;00m\n\u001b[1;32m   1822\u001b[0m \u001b[38;5;28;01mwith\u001b[39;00m option_context(\u001b[38;5;124m\"\u001b[39m\u001b[38;5;124mmode.chained_assignment\u001b[39m\u001b[38;5;124m\"\u001b[39m, \u001b[38;5;28;01mNone\u001b[39;00m):\n",
      "File \u001b[0;32m/work/iku/exp1019-cancer-epigenetics-and-ervs/virt/lib/python3.10/site-packages/pandas/core/groupby/groupby.py:1885\u001b[0m, in \u001b[0;36mGroupBy._python_apply_general\u001b[0;34m(self, f, data, not_indexed_same, is_transform, is_agg)\u001b[0m\n\u001b[1;32m   1850\u001b[0m \u001b[38;5;129m@final\u001b[39m\n\u001b[1;32m   1851\u001b[0m \u001b[38;5;28;01mdef\u001b[39;00m \u001b[38;5;21m_python_apply_general\u001b[39m(\n\u001b[1;32m   1852\u001b[0m     \u001b[38;5;28mself\u001b[39m,\n\u001b[0;32m   (...)\u001b[0m\n\u001b[1;32m   1857\u001b[0m     is_agg: \u001b[38;5;28mbool\u001b[39m \u001b[38;5;241m=\u001b[39m \u001b[38;5;28;01mFalse\u001b[39;00m,\n\u001b[1;32m   1858\u001b[0m ) \u001b[38;5;241m-\u001b[39m\u001b[38;5;241m>\u001b[39m NDFrameT:\n\u001b[1;32m   1859\u001b[0m \u001b[38;5;250m    \u001b[39m\u001b[38;5;124;03m\"\"\"\u001b[39;00m\n\u001b[1;32m   1860\u001b[0m \u001b[38;5;124;03m    Apply function f in python space\u001b[39;00m\n\u001b[1;32m   1861\u001b[0m \n\u001b[0;32m   (...)\u001b[0m\n\u001b[1;32m   1883\u001b[0m \u001b[38;5;124;03m        data after applying f\u001b[39;00m\n\u001b[1;32m   1884\u001b[0m \u001b[38;5;124;03m    \"\"\"\u001b[39;00m\n\u001b[0;32m-> 1885\u001b[0m     values, mutated \u001b[38;5;241m=\u001b[39m \u001b[38;5;28;43mself\u001b[39;49m\u001b[38;5;241;43m.\u001b[39;49m\u001b[43m_grouper\u001b[49m\u001b[38;5;241;43m.\u001b[39;49m\u001b[43mapply_groupwise\u001b[49m\u001b[43m(\u001b[49m\u001b[43mf\u001b[49m\u001b[43m,\u001b[49m\u001b[43m \u001b[49m\u001b[43mdata\u001b[49m\u001b[43m,\u001b[49m\u001b[43m \u001b[49m\u001b[38;5;28;43mself\u001b[39;49m\u001b[38;5;241;43m.\u001b[39;49m\u001b[43maxis\u001b[49m\u001b[43m)\u001b[49m\n\u001b[1;32m   1886\u001b[0m     \u001b[38;5;28;01mif\u001b[39;00m not_indexed_same \u001b[38;5;129;01mis\u001b[39;00m \u001b[38;5;28;01mNone\u001b[39;00m:\n\u001b[1;32m   1887\u001b[0m         not_indexed_same \u001b[38;5;241m=\u001b[39m mutated\n",
      "File \u001b[0;32m/work/iku/exp1019-cancer-epigenetics-and-ervs/virt/lib/python3.10/site-packages/pandas/core/groupby/ops.py:918\u001b[0m, in \u001b[0;36mBaseGrouper.apply_groupwise\u001b[0;34m(self, f, data, axis)\u001b[0m\n\u001b[1;32m    916\u001b[0m \u001b[38;5;66;03m# group might be modified\u001b[39;00m\n\u001b[1;32m    917\u001b[0m group_axes \u001b[38;5;241m=\u001b[39m group\u001b[38;5;241m.\u001b[39maxes\n\u001b[0;32m--> 918\u001b[0m res \u001b[38;5;241m=\u001b[39m \u001b[43mf\u001b[49m\u001b[43m(\u001b[49m\u001b[43mgroup\u001b[49m\u001b[43m)\u001b[49m\n\u001b[1;32m    919\u001b[0m \u001b[38;5;28;01mif\u001b[39;00m \u001b[38;5;129;01mnot\u001b[39;00m mutated \u001b[38;5;129;01mand\u001b[39;00m \u001b[38;5;129;01mnot\u001b[39;00m _is_indexed_like(res, group_axes, axis):\n\u001b[1;32m    920\u001b[0m     mutated \u001b[38;5;241m=\u001b[39m \u001b[38;5;28;01mTrue\u001b[39;00m\n",
      "File \u001b[0;32m/work/iku/exp1019-cancer-epigenetics-and-ervs/virt/lib/python3.10/site-packages/pandas/core/groupby/groupby.py:1809\u001b[0m, in \u001b[0;36mGroupBy.apply.<locals>.f\u001b[0;34m(g)\u001b[0m\n\u001b[1;32m   1807\u001b[0m \u001b[38;5;129m@wraps\u001b[39m(func)\n\u001b[1;32m   1808\u001b[0m \u001b[38;5;28;01mdef\u001b[39;00m \u001b[38;5;21mf\u001b[39m(g):\n\u001b[0;32m-> 1809\u001b[0m     \u001b[38;5;28;01mreturn\u001b[39;00m \u001b[43mfunc\u001b[49m\u001b[43m(\u001b[49m\u001b[43mg\u001b[49m\u001b[43m,\u001b[49m\u001b[43m \u001b[49m\u001b[38;5;241;43m*\u001b[39;49m\u001b[43margs\u001b[49m\u001b[43m,\u001b[49m\u001b[43m \u001b[49m\u001b[38;5;241;43m*\u001b[39;49m\u001b[38;5;241;43m*\u001b[39;49m\u001b[43mkwargs\u001b[49m\u001b[43m)\u001b[49m\n",
      "File \u001b[0;32m/work/iku/exp1019-cancer-epigenetics-and-ervs/virt/lib/python3.10/site-packages/seaborn/_statistics.py:517\u001b[0m, in \u001b[0;36mEstimateAggregator.__call__\u001b[0;34m(self, data, var)\u001b[0m\n\u001b[1;32m    515\u001b[0m \u001b[38;5;28;01melif\u001b[39;00m \u001b[38;5;28mself\u001b[39m\u001b[38;5;241m.\u001b[39merror_method \u001b[38;5;241m==\u001b[39m \u001b[38;5;124m\"\u001b[39m\u001b[38;5;124mci\u001b[39m\u001b[38;5;124m\"\u001b[39m:\n\u001b[1;32m    516\u001b[0m     units \u001b[38;5;241m=\u001b[39m data\u001b[38;5;241m.\u001b[39mget(\u001b[38;5;124m\"\u001b[39m\u001b[38;5;124munits\u001b[39m\u001b[38;5;124m\"\u001b[39m, \u001b[38;5;28;01mNone\u001b[39;00m)\n\u001b[0;32m--> 517\u001b[0m     boots \u001b[38;5;241m=\u001b[39m \u001b[43mbootstrap\u001b[49m\u001b[43m(\u001b[49m\u001b[43mvals\u001b[49m\u001b[43m,\u001b[49m\u001b[43m \u001b[49m\u001b[43munits\u001b[49m\u001b[38;5;241;43m=\u001b[39;49m\u001b[43munits\u001b[49m\u001b[43m,\u001b[49m\u001b[43m \u001b[49m\u001b[43mfunc\u001b[49m\u001b[38;5;241;43m=\u001b[39;49m\u001b[38;5;28;43mself\u001b[39;49m\u001b[38;5;241;43m.\u001b[39;49m\u001b[43mestimator\u001b[49m\u001b[43m,\u001b[49m\u001b[43m \u001b[49m\u001b[38;5;241;43m*\u001b[39;49m\u001b[38;5;241;43m*\u001b[39;49m\u001b[38;5;28;43mself\u001b[39;49m\u001b[38;5;241;43m.\u001b[39;49m\u001b[43mboot_kws\u001b[49m\u001b[43m)\u001b[49m\n\u001b[1;32m    518\u001b[0m     err_min, err_max \u001b[38;5;241m=\u001b[39m _percentile_interval(boots, \u001b[38;5;28mself\u001b[39m\u001b[38;5;241m.\u001b[39merror_level)\n\u001b[1;32m    520\u001b[0m \u001b[38;5;28;01mreturn\u001b[39;00m pd\u001b[38;5;241m.\u001b[39mSeries({var: estimate, \u001b[38;5;124mf\u001b[39m\u001b[38;5;124m\"\u001b[39m\u001b[38;5;132;01m{\u001b[39;00mvar\u001b[38;5;132;01m}\u001b[39;00m\u001b[38;5;124mmin\u001b[39m\u001b[38;5;124m\"\u001b[39m: err_min, \u001b[38;5;124mf\u001b[39m\u001b[38;5;124m\"\u001b[39m\u001b[38;5;132;01m{\u001b[39;00mvar\u001b[38;5;132;01m}\u001b[39;00m\u001b[38;5;124mmax\u001b[39m\u001b[38;5;124m\"\u001b[39m: err_max})\n",
      "File \u001b[0;32m/work/iku/exp1019-cancer-epigenetics-and-ervs/virt/lib/python3.10/site-packages/seaborn/algorithms.py:100\u001b[0m, in \u001b[0;36mbootstrap\u001b[0;34m(*args, **kwargs)\u001b[0m\n\u001b[1;32m     98\u001b[0m     resampler \u001b[38;5;241m=\u001b[39m integers(\u001b[38;5;241m0\u001b[39m, n, n, dtype\u001b[38;5;241m=\u001b[39mnp\u001b[38;5;241m.\u001b[39mintp)  \u001b[38;5;66;03m# intp is indexing dtype\u001b[39;00m\n\u001b[1;32m     99\u001b[0m     sample \u001b[38;5;241m=\u001b[39m [a\u001b[38;5;241m.\u001b[39mtake(resampler, axis\u001b[38;5;241m=\u001b[39m\u001b[38;5;241m0\u001b[39m) \u001b[38;5;28;01mfor\u001b[39;00m a \u001b[38;5;129;01min\u001b[39;00m args]\n\u001b[0;32m--> 100\u001b[0m     boot_dist\u001b[38;5;241m.\u001b[39mappend(\u001b[43mf\u001b[49m\u001b[43m(\u001b[49m\u001b[38;5;241;43m*\u001b[39;49m\u001b[43msample\u001b[49m\u001b[43m,\u001b[49m\u001b[43m \u001b[49m\u001b[38;5;241;43m*\u001b[39;49m\u001b[38;5;241;43m*\u001b[39;49m\u001b[43mfunc_kwargs\u001b[49m\u001b[43m)\u001b[49m)\n\u001b[1;32m    101\u001b[0m \u001b[38;5;28;01mreturn\u001b[39;00m np\u001b[38;5;241m.\u001b[39marray(boot_dist)\n",
      "File \u001b[0;32m/work/iku/exp1019-cancer-epigenetics-and-ervs/virt/lib/python3.10/site-packages/numpy/core/fromnumeric.py:3504\u001b[0m, in \u001b[0;36mmean\u001b[0;34m(a, axis, dtype, out, keepdims, where)\u001b[0m\n\u001b[1;32m   3501\u001b[0m     \u001b[38;5;28;01melse\u001b[39;00m:\n\u001b[1;32m   3502\u001b[0m         \u001b[38;5;28;01mreturn\u001b[39;00m mean(axis\u001b[38;5;241m=\u001b[39maxis, dtype\u001b[38;5;241m=\u001b[39mdtype, out\u001b[38;5;241m=\u001b[39mout, \u001b[38;5;241m*\u001b[39m\u001b[38;5;241m*\u001b[39mkwargs)\n\u001b[0;32m-> 3504\u001b[0m \u001b[38;5;28;01mreturn\u001b[39;00m \u001b[43m_methods\u001b[49m\u001b[38;5;241;43m.\u001b[39;49m\u001b[43m_mean\u001b[49m\u001b[43m(\u001b[49m\u001b[43ma\u001b[49m\u001b[43m,\u001b[49m\u001b[43m \u001b[49m\u001b[43maxis\u001b[49m\u001b[38;5;241;43m=\u001b[39;49m\u001b[43maxis\u001b[49m\u001b[43m,\u001b[49m\u001b[43m \u001b[49m\u001b[43mdtype\u001b[49m\u001b[38;5;241;43m=\u001b[39;49m\u001b[43mdtype\u001b[49m\u001b[43m,\u001b[49m\n\u001b[1;32m   3505\u001b[0m \u001b[43m                      \u001b[49m\u001b[43mout\u001b[49m\u001b[38;5;241;43m=\u001b[39;49m\u001b[43mout\u001b[49m\u001b[43m,\u001b[49m\u001b[43m \u001b[49m\u001b[38;5;241;43m*\u001b[39;49m\u001b[38;5;241;43m*\u001b[39;49m\u001b[43mkwargs\u001b[49m\u001b[43m)\u001b[49m\n",
      "File \u001b[0;32m/work/iku/exp1019-cancer-epigenetics-and-ervs/virt/lib/python3.10/site-packages/numpy/core/_methods.py:101\u001b[0m, in \u001b[0;36m_mean\u001b[0;34m(a, axis, dtype, out, keepdims, where)\u001b[0m\n\u001b[1;32m     98\u001b[0m     \u001b[38;5;28;01melse\u001b[39;00m:\n\u001b[1;32m     99\u001b[0m         \u001b[38;5;28;01mreturn\u001b[39;00m um\u001b[38;5;241m.\u001b[39mclip(a, \u001b[38;5;28mmin\u001b[39m, \u001b[38;5;28mmax\u001b[39m, out\u001b[38;5;241m=\u001b[39mout, \u001b[38;5;241m*\u001b[39m\u001b[38;5;241m*\u001b[39mkwargs)\n\u001b[0;32m--> 101\u001b[0m \u001b[38;5;28;01mdef\u001b[39;00m \u001b[38;5;21m_mean\u001b[39m(a, axis\u001b[38;5;241m=\u001b[39m\u001b[38;5;28;01mNone\u001b[39;00m, dtype\u001b[38;5;241m=\u001b[39m\u001b[38;5;28;01mNone\u001b[39;00m, out\u001b[38;5;241m=\u001b[39m\u001b[38;5;28;01mNone\u001b[39;00m, keepdims\u001b[38;5;241m=\u001b[39m\u001b[38;5;28;01mFalse\u001b[39;00m, \u001b[38;5;241m*\u001b[39m, where\u001b[38;5;241m=\u001b[39m\u001b[38;5;28;01mTrue\u001b[39;00m):\n\u001b[1;32m    102\u001b[0m     arr \u001b[38;5;241m=\u001b[39m asanyarray(a)\n\u001b[1;32m    104\u001b[0m     is_float16_result \u001b[38;5;241m=\u001b[39m \u001b[38;5;28;01mFalse\u001b[39;00m\n",
      "\u001b[0;31mKeyboardInterrupt\u001b[0m: "
     ]
    },
    {
     "data": {
      "image/png": "[encoded data removed]",
      "text/plain": [
       "<Figure size 1200x800 with 1 Axes>"
      ]
     },
     "metadata": {},
     "output_type": "display_data"
    }
   ],
   "source": [
    "plot_meth_pattern(chr1_re, 'chr1', palette = 'tab10', savefig = False)\n",
    "plot_meth_pattern(chr2_re, 'chr2', palette = 'tab10', savefig = False)\n",
    "plot_meth_pattern(chr3_re, 'chr3', palette = 'tab10', savefig = False)\n",
    "plot_meth_pattern(chr4_re, 'chr4', palette = 'tab10', savefig = False)\n",
    "plot_meth_pattern(chr5_re, 'chr5', palette = 'tab10', savefig = False)\n",
    "plot_meth_pattern(chr6_re, 'chr6', palette = 'tab10', savefig = False)\n",
    "plot_meth_pattern(chr7_re, 'chr7', palette = 'tab10', savefig = False)\n",
    "plot_meth_pattern(chr8_re, 'chr8', palette = 'tab10', savefig = False)\n",
    "plot_meth_pattern(chr9_re, 'chr9', palette = 'tab10', savefig = False)\n",
    "plot_meth_pattern(chr10_re, 'chr10', palette = 'tab10', savefig = False)\n",
    "plot_meth_pattern(chr11_re, 'chr11', palette = 'tab10', savefig = False)\n",
    "plot_meth_pattern(chr12_re, 'chr12', palette = 'tab10', savefig = False)\n"
   ]
  },
  {
   "cell_type": "markdown",
   "id": "8168107a-b13e-4239-8047-8f491227817c",
   "metadata": {},
   "source": [
    "BEDGRAPH PRODUCTION"
   ]
  },
  {
   "cell_type": "markdown",
   "id": "88aac85b-03fb-4611-9bc6-c727a3791669",
   "metadata": {},
   "source": [
    "I didn't visualis"
   ]
  },
  {
   "cell_type": "code",
   "execution_count": null,
   "id": "9223e91b-f490-47b9-af8d-e2c395be3a5b",
   "metadata": {},
   "outputs": [],
   "source": []
  },
  {
   "cell_type": "code",
   "execution_count": null,
   "id": "a521bb9c-fec4-4050-8bb2-41edb85c2483",
   "metadata": {},
   "outputs": [],
   "source": []
  },
  {
   "cell_type": "code",
   "execution_count": null,
   "id": "cc6a2f17-4867-4e41-b3bd-79af8bfa3cb6",
   "metadata": {},
   "outputs": [],
   "source": []
  },
  {
   "cell_type": "code",
   "execution_count": null,
   "id": "0256209d-338f-4cca-b07a-c02c40059cf4",
   "metadata": {},
   "outputs": [],
   "source": []
  },
  {
   "cell_type": "code",
   "execution_count": null,
   "id": "bf8fdebf-b346-4284-9618-49b55e89672e",
   "metadata": {},
   "outputs": [],
   "source": []
  },
  {
   "cell_type": "code",
   "execution_count": null,
   "id": "8ce63f5b-f707-418b-abda-04def93564d1",
   "metadata": {},
   "outputs": [],
   "source": []
  },
  {
   "cell_type": "code",
   "execution_count": null,
   "id": "6c3cf0ec-eb62-41fe-b687-386986af5987",
   "metadata": {},
   "outputs": [],
   "source": []
  },
  {
   "cell_type": "code",
   "execution_count": null,
   "id": "379ff7b0-3e14-448f-a335-2d669279f2a4",
   "metadata": {},
   "outputs": [],
   "source": []
  },
  {
   "cell_type": "code",
   "execution_count": null,
   "id": "e7c2380d-9b95-4eab-8200-9367a9f8aa0b",
   "metadata": {},
   "outputs": [],
   "source": []
  },
  {
   "cell_type": "code",
   "execution_count": null,
   "id": "92af3056-91cf-4ddf-8639-2b3948175bb7",
   "metadata": {},
   "outputs": [],
   "source": []
  },
  {
   "cell_type": "code",
   "execution_count": null,
   "id": "a11029c5-a53e-44ff-ae21-4104976f4f35",
   "metadata": {},
   "outputs": [],
   "source": []
  },
  {
   "cell_type": "code",
   "execution_count": null,
   "id": "73fe3de4-4fb5-4e00-b60a-81d813530be8",
   "metadata": {},
   "outputs": [],
   "source": []
  },
  {
   "cell_type": "code",
   "execution_count": null,
   "id": "d0b0ff3c-39a3-4625-9b5f-251266740b48",
   "metadata": {},
   "outputs": [],
   "source": []
  },
  {
   "cell_type": "code",
   "execution_count": null,
   "id": "bf00dfe1-e31d-4ff6-9457-4271bcf3a8ff",
   "metadata": {},
   "outputs": [],
   "source": []
  },
  {
   "cell_type": "code",
   "execution_count": null,
   "id": "c2bedc4b-8187-4c81-837d-86aa1e2eccd8",
   "metadata": {},
   "outputs": [],
   "source": []
  }
 ],
 "metadata": {
  "kernelspec": {
   "display_name": "Python 3 (ipykernel)",
   "language": "python",
   "name": "python3"
  },
  "language_info": {
   "codemirror_mode": {
    "name": "ipython",
    "version": 3
   },
   "file_extension": ".py",
   "mimetype": "text/x-python",
   "name": "python",
   "nbconvert_exporter": "python",
   "pygments_lexer": "ipython3",
   "version": "3.10.12"
  }
 },
 "nbformat": 4,
 "nbformat_minor": 5
}
